{
 "cells": [
  {
   "cell_type": "markdown",
   "metadata": {},
   "source": [
    "# Lecture 17\n",
    "\n",
    "### Barrier, Revisited; Return Values; Scope; Why Would You *Want* Scoping?; The \"Downside\" of Scoping; Mutables as Arguments; Pass by Object Reference; Euclidean GCD"
   ]
  },
  {
   "cell_type": "markdown",
   "metadata": {},
   "source": [
    "# 1. Barrier\n",
    "\n",
    "#### * You pick 3 random numbers $x_1, x_2, x_3$ between 50 and 70.  If any of the numbers is 65 or above, you are \"knocked out\"; otherwise, your winnings are $x_3 - 55$ if $x_3 > 55$, otherwise your winnings are 0.\n",
    "\n",
    "#### * What's the average winning, and the probability of winning?\n",
    "\n",
    "#### * The function has NO inputs.  "
   ]
  },
  {
   "cell_type": "code",
   "execution_count": 19,
   "metadata": {},
   "outputs": [
    {
     "name": "stdout",
     "output_type": "stream",
     "text": [
      "0\n",
      "1\n",
      "0\n",
      "prob = 0.2198\n",
      "winnings = 109562\n",
      "Help on function random_barrier in module __main__:\n",
      "\n",
      "random_barrier()\n",
      "    Returns\n",
      "    -------\n",
      "    int\n",
      "        the amount of money won in a game of barrier.\n",
      "\n"
     ]
    }
   ],
   "source": [
    "# EXAMPLE 1a: My Barrier\n",
    "\n",
    "import random\n",
    "\n",
    "def random_barrier():\n",
    "    '''\n",
    "    Returns\n",
    "    -------\n",
    "    int\n",
    "        the amount of money won in a game of barrier.\n",
    "    '''\n",
    "    x1 = random.randrange(50, 71)\n",
    "    x2 = random.randrange(50, 71)\n",
    "    x3 = random.randrange(50, 71)\n",
    "    if x1 >= 65 or x2 >= 65 or x3 >= 65:\n",
    "        return 0\n",
    "    elif x3 > 55:\n",
    "        return x3 - 55\n",
    "    else:\n",
    "        return 0\n",
    "####################\n",
    "# TESTS:\n",
    "print(random_barrier())\n",
    "print(random_barrier())\n",
    "print(random_barrier())\n",
    "####################\n",
    "# SIMULATION LOOP:\n",
    "\n",
    "TRIALS = 10**5\n",
    "wins = 0\n",
    "winnings = 0\n",
    "for i in range(TRIALS):\n",
    "    x = random_barrier()\n",
    "    if (x != 0):\n",
    "        wins += 1\n",
    "        winnings += x\n",
    "\n",
    "print(f'prob = {wins/TRIALS}\\nwinnings = {winnings}')\n",
    "help(random_barrier)"
   ]
  },
  {
   "cell_type": "markdown",
   "metadata": {},
   "source": [
    "# 3. Scope\n",
    "\n",
    "#### * What is *scope*?   Look at the example below.  \n",
    "\n",
    "#### * Pay attention to `aaa` -- truthfully, those are really **two different** variables.   "
   ]
  },
  {
   "cell_type": "code",
   "execution_count": 35,
   "metadata": {},
   "outputs": [
    {
     "name": "stdout",
     "output_type": "stream",
     "text": [
      "The id of aaa before function call:  0x1027e22e8\n",
      "Before function call: aaa = 5\n",
      "In function: aaa = 15\n",
      "The id of aaa during the function call=  0x1027e2428\n",
      "The id of value_of_fn after call= 0x1027e2428\n",
      "Value of function = 15\n",
      "After the function call: aaa = 5\n",
      "The id of aaa after function call:  0x1027e22e8\n",
      "\n",
      "\n",
      "Part 2:\n",
      "The id of bbb before function call:  0x1027e2428\n",
      "In function: aaa = 15\n",
      "The id of aaa during the function call=  0x1027e2428\n",
      "After the function call: bbb id = 0x1027e2428\n",
      "After the function call: value_of_fn2 id = 0x1027e2428\n",
      "The id of value_of_fn after call= 0x1027e2428\n",
      "The id of aaa after function call:  0x1027e22e8\n"
     ]
    }
   ],
   "source": [
    "# EXAMPLE 9a: Variable names and scope\n",
    "\n",
    "# In this program, pay attention to all the variable(s) named aaa\n",
    "\n",
    "def add10(param):\n",
    "    aaa = param + 10\n",
    "    print(\"In function: aaa =\", aaa)\n",
    "    print('The id of aaa during the function call= ', hex(id(aaa)))\n",
    "    return aaa\n",
    "    \n",
    "aaa = 5   \n",
    "print('The id of aaa before function call: ', hex(id(aaa)))\n",
    "print(\"Before function call: aaa =\", aaa)\n",
    "value_of_fn = add10(aaa)\n",
    "print('The id of value_of_fn after call=' , hex(id(value_of_fn)))\n",
    "print(\"Value of function =\", value_of_fn)\n",
    "print(\"After the function call: aaa =\", aaa)\n",
    "print('The id of aaa after function call: ', hex(id(aaa)))\n",
    "print('\\n\\nPart 2:')\n",
    "bbb = 15\n",
    "print('The id of bbb before function call: ', hex(id(bbb)))\n",
    "\n",
    "value_of_fn2 = add10(aaa)\n",
    "print(\"After the function call: bbb id =\", hex(id(bbb)))\n",
    "print(\"After the function call: value_of_fn2 id =\", hex(id(value_of_fn2)))\n",
    "print('The id of value_of_fn after call=' , hex(id(value_of_fn)))\n",
    "print('The id of aaa after function call: ', hex(id(aaa)))\n"
   ]
  },
  {
   "cell_type": "markdown",
   "metadata": {},
   "source": [
    "#### * Variables that are assigned to in functions are called *local variables*, and they only exist within each function call. \n",
    "\n",
    "#### * If two variables reside in different functions, Python treats them differently, even if have they have the same name.\n",
    "\n",
    "#### * The *scope* of a variable is the set of locations where it is accessible.  \n",
    "\n",
    "#### * A variable that initialized outside of a function is called a *global* variable: its scope is every statement encountered after it has first been assigned (except within functions where a local variable of the same name exists). \n",
    "\n",
    "#### * The scope of a variable defined in a function will be only the statements encountered within the function after it is first assigned.\n",
    "\n",
    "#### * In this example, the (local) `aaa` on lines 6,7,8 is different than the `aaa` present everywhere else.\n",
    "\n",
    "<br><br><br><br><br>\n",
    "<br><br><br><br><br>\n"
   ]
  },
  {
   "cell_type": "code",
   "execution_count": 15,
   "metadata": {},
   "outputs": [
    {
     "name": "stdout",
     "output_type": "stream",
     "text": [
      "7.4 100\n",
      "107.4 3.4\n"
     ]
    }
   ],
   "source": [
    "# EXAMPLE 3b: More scope\n",
    "# Uncomment the prints when you know what they will do.\n",
    "\n",
    "def f(x):\n",
    "    x = x + 4\n",
    "    y = 100\n",
    "    print(x, y)\n",
    "    return x + y\n",
    "\n",
    "    \n",
    "x = 2.1\n",
    "y = 3.4\n",
    "x = f(y)\n",
    "print(x, y)"
   ]
  },
  {
   "cell_type": "markdown",
   "metadata": {},
   "source": [
    "<br><br><br><br><br>\n",
    "<br><br><br><br><br>\n",
    "\n",
    "\n",
    "# 4. Why Would You *Want* Scoping?\n",
    "\n",
    "#### * Why is scoping desirable? \n",
    "\n",
    "#### * When you write a function, you usually write it, test it, and then start using it many times.  \n",
    "\n",
    "#### * You'll probably forget the variable names you used in the function -- or you might not see them at all.   (What are the variable names used in, say, `random.randrange()`? Don't ask me, I didn't write it.)\n",
    "\n",
    "#### * But what if you use the same variable name twice, by accident?  No problem, Python know to treat those variables as different -- due to scoping!"
   ]
  },
  {
   "cell_type": "code",
   "execution_count": null,
   "metadata": {},
   "outputs": [],
   "source": [
    "# EXAMPLE 4a: One more version of the reducing problem\n",
    "\n",
    "def gcd(m,n):\n",
    "    '''See above.'''\n",
    "    large = 1\n",
    "    lesser = min(m, n)\n",
    "    for fact in range(1, lesser + 1):\n",
    "        if m % fact == 0 and n % fact == 0:\n",
    "            large = fact\n",
    "    return large    \n",
    "\n",
    "####################\n",
    "\n",
    "   \n",
    "full = input('Enter a fraction: ')\n",
    "tokens = full.split()\n",
    "\n",
    "# Notice the use of the variable n here.  In this part of the program, n stands for numerator; \n",
    "# in the function, there is a variable named n also, but it is completely different!\n",
    "n = int(tokens[0])\n",
    "d = int(tokens[2])\n",
    "\n",
    "# In fact, we're plugging n in for m, and d in for n!  It's a really good thing that \n",
    "# the function doesn't confuse the n we see here with its second argument.\n",
    "common_fact = gcd(n, d) \n",
    "\n",
    "reduced_n = n//common_fact     \n",
    "reduced_d = d//common_fact \n",
    "print(f'Reduced fraction: {reduced_n} / {reduced_d}')    "
   ]
  },
  {
   "cell_type": "markdown",
   "metadata": {},
   "source": [
    "<br><br><br><br><br><br><br><br><br><br>\n",
    "\n",
    "# 5. The \"Downside\" of Scoping\n",
    "\n",
    "#### * Scoping does have one downside: a function can't refer to variables that are defined outside of itself. \n",
    "\n",
    "#### * (Technically, you can use global variables if they are *only* read, and *never* reassigned a new value in the function.) \n",
    "\n",
    "\n",
    "#### * That means: if your function needs to know the value of some variable, you **ought to pass that as a parameter**.  \n",
    "\n",
    "#### * Example: I enter an initial population.  I let that population grow at a rate of $r$ percent per year, for $t$ years, for several stages.  At each stage, the formula we're using is $$\\mbox{New pop} = (\\mbox{Old pop})e^{(r/100\\cdot t)}$$\n",
    "\n",
    "#### * What is the new population?  I use a function to do this ... sort of."
   ]
  },
  {
   "cell_type": "code",
   "execution_count": 37,
   "metadata": {},
   "outputs": [
    {
     "name": "stdin",
     "output_type": "stream",
     "text": [
      "Enter initial population:  50\n",
      "Enter annual growth rate as a percent:  10\n",
      "Enter time period in years:  5\n"
     ]
    },
    {
     "ename": "UnboundLocalError",
     "evalue": "cannot access local variable 'pop' where it is not associated with a value",
     "output_type": "error",
     "traceback": [
      "\u001b[0;31m---------------------------------------------------------------------------\u001b[0m",
      "\u001b[0;31mUnboundLocalError\u001b[0m                         Traceback (most recent call last)",
      "Cell \u001b[0;32mIn[37], line 13\u001b[0m\n\u001b[1;32m      9\u001b[0m r \u001b[38;5;241m=\u001b[39m \u001b[38;5;28mfloat\u001b[39m(\u001b[38;5;28minput\u001b[39m(\u001b[38;5;124m'\u001b[39m\u001b[38;5;124mEnter annual growth rate as a percent: \u001b[39m\u001b[38;5;124m'\u001b[39m))\n\u001b[1;32m     10\u001b[0m t \u001b[38;5;241m=\u001b[39m \u001b[38;5;28mfloat\u001b[39m(\u001b[38;5;28minput\u001b[39m(\u001b[38;5;124m'\u001b[39m\u001b[38;5;124mEnter time period in years: \u001b[39m\u001b[38;5;124m'\u001b[39m))\n\u001b[0;32m---> 13\u001b[0m grow_population() \u001b[38;5;66;03m# Update pop...??\u001b[39;00m\n\u001b[1;32m     15\u001b[0m r \u001b[38;5;241m=\u001b[39m \u001b[38;5;28mfloat\u001b[39m(\u001b[38;5;28minput\u001b[39m(\u001b[38;5;124m'\u001b[39m\u001b[38;5;124mEnter annual growth rate as a percent: \u001b[39m\u001b[38;5;124m'\u001b[39m))\n\u001b[1;32m     16\u001b[0m t \u001b[38;5;241m=\u001b[39m \u001b[38;5;28mfloat\u001b[39m(\u001b[38;5;28minput\u001b[39m(\u001b[38;5;124m'\u001b[39m\u001b[38;5;124mEnter time period in years: \u001b[39m\u001b[38;5;124m'\u001b[39m))\n",
      "Cell \u001b[0;32mIn[37], line 7\u001b[0m, in \u001b[0;36mgrow_population\u001b[0;34m()\u001b[0m\n\u001b[1;32m      6\u001b[0m \u001b[38;5;28;01mdef\u001b[39;00m \u001b[38;5;21mgrow_population\u001b[39m():\n\u001b[0;32m----> 7\u001b[0m     pop \u001b[38;5;241m=\u001b[39m pop\u001b[38;5;241m*\u001b[39mmath\u001b[38;5;241m.\u001b[39mexp(r\u001b[38;5;241m/\u001b[39m\u001b[38;5;241m100\u001b[39m\u001b[38;5;241m*\u001b[39mt)\n",
      "\u001b[0;31mUnboundLocalError\u001b[0m: cannot access local variable 'pop' where it is not associated with a value"
     ]
    }
   ],
   "source": [
    "# EXAMPLE 5a: Population growth\n",
    "import math\n",
    "\n",
    "pop = float(input('Enter initial population: '))\n",
    "\n",
    "def grow_population():\n",
    "    pop = pop*math.exp(r/100*t)\n",
    "\n",
    "r = float(input('Enter annual growth rate as a percent: '))\n",
    "t = float(input('Enter time period in years: '))\n",
    "\n",
    "\n",
    "grow_population() # Update pop...??\n",
    "\n",
    "r = float(input('Enter annual growth rate as a percent: '))\n",
    "t = float(input('Enter time period in years: '))\n",
    "\n",
    "grow_population() # Update pop...??\n",
    "\n",
    "print(pop)"
   ]
  },
  {
   "cell_type": "markdown",
   "metadata": {},
   "source": [
    "<br><br><br><br><br><br><br><br><br><br>\n",
    "\n",
    "# 6.  Lists (and other Mutables) as Arguments\n",
    "\n",
    "### * If you pass a function an object whose data type is *mutable*, then you might be able to notice changes Python makes to the input."
   ]
  },
  {
   "cell_type": "code",
   "execution_count": 21,
   "metadata": {},
   "outputs": [
    {
     "name": "stdout",
     "output_type": "stream",
     "text": [
      "5 [4, 7, 12]\n"
     ]
    }
   ],
   "source": [
    "# EXAMPLE 6a: A function that has SIDE EFFECTS.\n",
    "\n",
    "def add_one(x, y):\n",
    "    \"\"\"\n",
    "    The first parameter is a number; the second is a list. \n",
    "    This function will 'change' both, but one of the changes you'll notice afterwards.\n",
    "    \"\"\"\n",
    "    x = x + 1\n",
    "    y[0] += 1\n",
    "    \n",
    "number = 5\n",
    "num_list = [3,7,12]\n",
    "\n",
    "add_one(number, num_list)\n",
    "# The function has a SIDE EFFECT: it affects the value of the SECOND input, \n",
    "# even though no further assignment has taken place outside of the function.\n",
    "print(number, num_list)"
   ]
  },
  {
   "cell_type": "markdown",
   "metadata": {},
   "source": [
    "### * A *side effect* of a function is a change to an argument that occurs only due to assignments within the function.\n",
    "\n",
    "### * You'll never notice with immutable inputs, but they can occur when you perform *mutations*.\n",
    "\n"
   ]
  },
  {
   "cell_type": "code",
   "execution_count": null,
   "metadata": {},
   "outputs": [],
   "source": [
    "# EXAMPLE 6b: What side effects will take place from this function?\n",
    "\n",
    "def fn(a, b):\n",
    "    a[0] = 'Hello'\n",
    "    del a[1]\n",
    "    a = ['Apple', 'Banana', 'Cantaloupe']\n",
    "    a[0] = 'Goodbye'\n",
    "    \n",
    "    b = b + 1\n",
    "    b = 5\n",
    "    \n",
    "    \n",
    "first_in = ['Word', 'Another', 'Thirdword']\n",
    "second_in = 4\n",
    "\n",
    "# Now apply the function.  What side effects occur?\n",
    "fn(first_in, second_in)\n"
   ]
  },
  {
   "cell_type": "markdown",
   "metadata": {},
   "source": [
    "<br><br><br><br><br>\n",
    "<br><br><br><br><br>\n",
    "\n",
    "# 7. Pass By Object Reference\n",
    "\n",
    "### * What is truly going on?  \n",
    "\n",
    "### * Remember that variables are references to objects.  \n",
    "\n",
    "### * When you call a function, the formal parameters become references to the same objects that are passed to them.\n",
    "\n",
    "### * Example: consider \n"
   ]
  },
  {
   "cell_type": "code",
   "execution_count": 16,
   "metadata": {},
   "outputs": [
    {
     "name": "stdout",
     "output_type": "stream",
     "text": [
      "[1, 6]\n"
     ]
    }
   ],
   "source": [
    "# EXAMPLE 7a: A small example illustrating pass by object reference\n",
    "\n",
    "def my_function(x):\n",
    "    x[0] = 1\n",
    "    x = [2, 3]\n",
    "############################    \n",
    "a = [5, 6]\n",
    "my_function(a)\n",
    "print(a)"
   ]
  },
  {
   "cell_type": "markdown",
   "metadata": {},
   "source": [
    "### * The line `a = [5, 6]` will create a `list` object with two entries, which `a` will point to.  \n",
    "\n",
    "![NOT FOUND!!!!!!!!](fn_scope1.jpg)\n",
    "\n",
    "### * Second line will call `my_function` with `a` as input; the local variable `x` will then be assigned to be a reference to the same `list` object.  \n",
    "\n",
    "![NOT FOUND!!!!!!!!](fn_scope2.jpg)\n",
    "\n",
    "### * The line `x[0] = 1`, as a mutation line, will work directly with the `list` object.\n",
    "\n",
    "![NOT FOUND!!!!!!!!](fn_scope3.jpg)\n",
    "\n",
    "### * But `x = [2, 3]` creates an entirely new list, and assigns `x` to refer to that.  Therefore, this has no effect on the value that `a` points to...\n",
    "\n",
    "### * ... and any further changes to `x` will similarly have no effect on the original `a` list.\n",
    "\n",
    "![NOT FOUND!!!!!!!!](fn_scope4.jpg)\n",
    "\n",
    "### * The same pictures describe what is happening with immutable objects, but the lack of mutation operations means that there is no behavior subtle enough to require these pictures to explain what is happening.\n",
    "\n"
   ]
  },
  {
   "cell_type": "markdown",
   "metadata": {},
   "source": [
    "<br><br><br><br><br><br><br><br><br><br>\n",
    "\n",
    "# 8. Euclid's Algorithm\n",
    "\n",
    "#### * If you use the `gcd` function we wrote last time, then `gcd(1000000000,2000000000)` would take a long time (even though the answer is obvious).  \n",
    "\n",
    "#### * Better way: Euclid's algorithm.\n",
    "\n",
    "#### * Core idea:  the GCD of `x` and `y` is the same as the GCD of `y` and `x%y`. \n",
    "\n",
    "#### * So, to compute GCD(`x`,`y`), instead compute GCD(`y`, `x%y`), which is smaller.... \n",
    "\n",
    "#### * ...and repeat, until you've reduced to a trivial problem."
   ]
  },
  {
   "cell_type": "code",
   "execution_count": null,
   "metadata": {},
   "outputs": [],
   "source": [
    "Get the two numbers x and y\n",
    "While y != 0:\n",
    "    Replace x and y with y and x%y, respectively\n",
    "Return x"
   ]
  },
  {
   "cell_type": "markdown",
   "metadata": {},
   "source": [
    "<br><br><br><br><br>\n",
    "<br><br><br><br><br>\n"
   ]
  },
  {
   "cell_type": "code",
   "execution_count": 5,
   "metadata": {},
   "outputs": [
    {
     "name": "stdout",
     "output_type": "stream",
     "text": [
      "1000000000\n",
      "1000000000\n"
     ]
    }
   ],
   "source": [
    "# EXAMPLE 8a: Euclid's algorithm\n",
    "\n",
    "def euclid_gcd(x,y):\n",
    "    \"\"\"Return the GCD of x and y.\"\"\"\n",
    "    while y != 0:\n",
    "        temp = y\n",
    "        y = x%y\n",
    "        x = temp\n",
    "    return x\n",
    "\n",
    "def recursive_euclid_gcd(x,y):\n",
    "    \"\"\"Return the GCD of x and y recursively eventually.\"\"\"\n",
    "    if y == 0:\n",
    "        return x\n",
    "    return recursive_euclid_gcd(y, x%y)\n",
    "# Idea: y is going to be the smaller number always.\n",
    "# At each step, new x will be the old y, and new y will be the old x % old y.  \n",
    "# A temp variable helps for the transition.\n",
    "\n",
    "print(euclid_gcd(1000000000, 2000000000))\n",
    "print(recursive_euclid_gcd(1000000000, 2000000000))"
   ]
  },
  {
   "cell_type": "markdown",
   "metadata": {},
   "source": [
    "#### * The previous \"trial division\" method involves approximately $2n$ operations, where $n$ is the value of the less argument.\n",
    "\n",
    "#### * Call this algorithm $O(n^1)$ -- the $O$ stands for order, and the $n^1$ means that the runtime is a linear function of $n$.\n",
    "\n",
    "#### * Euclid's algorithm: $O(\\log n)$ (not obvious!).  This is much faster.\n",
    "\n",
    "#### (More precisely, number of steps is guaranteed to be  $\\leq 5\\log_{10}(n)$)."
   ]
  }
 ],
 "metadata": {
  "kernelspec": {
   "display_name": "Python 3 (ipykernel)",
   "language": "python",
   "name": "python3"
  },
  "language_info": {
   "codemirror_mode": {
    "name": "ipython",
    "version": 3
   },
   "file_extension": ".py",
   "mimetype": "text/x-python",
   "name": "python",
   "nbconvert_exporter": "python",
   "pygments_lexer": "ipython3",
   "version": "3.12.4"
  },
  "name": "_merged_merged"
 },
 "nbformat": 4,
 "nbformat_minor": 4
}
