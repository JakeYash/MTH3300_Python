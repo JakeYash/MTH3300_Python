{
 "cells": [
  {
   "cell_type": "markdown",
   "metadata": {},
   "source": [
    "# Lecture 16\n",
    "\n",
    "### A Deeply Distrubing Phenomenon; The Truth About Variables and Objects; Throw in a Mutable Object; Solving the Riddle; Functions and Modular Programming; Barrier, Revisited; Return Values; Scope"
   ]
  },
  {
   "cell_type": "markdown",
   "metadata": {},
   "source": [
    "# 1. A Deeply Disturbing Phenomenon\n",
    "\n",
    "#### * ?!?!"
   ]
  },
  {
   "cell_type": "code",
   "execution_count": 1,
   "metadata": {},
   "outputs": [
    {
     "name": "stdout",
     "output_type": "stream",
     "text": [
      "Old\n",
      "['Old', 'One']\n",
      "['New!!!!', 'One']\n"
     ]
    }
   ],
   "source": [
    "# EXAMPLE 1a: Assignment\n",
    "\n",
    "# Compare the results of this bit of code....\n",
    "x = 'Old'\n",
    "y = x\n",
    "x = 'New'\n",
    "print(y)\n",
    "\n",
    "# ...with this one... #\n",
    "x = ['Old', 'One']    #\n",
    "y = x                 #   BLOCK A\n",
    "x = ['New', 'Guy']    #\n",
    "print(y)              #\n",
    "\n",
    "#...AND THIS ONE!!!!! #\n",
    "x = ['Old', 'One']    #\n",
    "y = x                 #   BLOCK B\n",
    "x[0] = 'New!!!!'      #\n",
    "print(y)              #"
   ]
  },
  {
   "cell_type": "markdown",
   "metadata": {},
   "source": [
    "#### * Why are the last two snippets so different?  They both change `x`, but one change causes `y` to change, and the other doesn't. \n",
    "\n",
    "\n",
    "#### * The short answer is:\n",
    "\n",
    "#### --- the line `y = x` (in Block A and Block B), makes `y` and `x` refer to the same object in memory;\n",
    "\n",
    "#### --- the subsequent line in Block A, starting with `x = `, reassigns `x` to an *entirely new object*, while `y` still is bound to the old object;\n",
    "\n",
    "#### --- the subsequent line in Block B, starting with `x[0] = `, is a *mutation* which alters, but does not replace, the object which `x` and `y` both point to.  \n",
    "\n",
    "#### * But that probably doesn't make a lot of sense.  \n",
    "\n",
    "\n",
    "<br><br><br><br><br>\n",
    "<br><br><br><br><br>\n",
    "\n",
    "# 2. The Truth About Variables and Objects\n",
    "\n",
    "\n",
    "\n",
    "#### * If I ask you to multiply 5201 by 3157, you probably can't do that in your head: you need to write down the results of intermediate computations, on a piece of paper. \n",
    "\n",
    "#### * If I ask the computer to multiply 5201 by 3157, it needs to \"write things down\", too -- in the  Random Access Memory, or RAM (we'll just call it the memory).  \n",
    "\n",
    "#### * We use our eyes to find the things we've written down previously.  The computer uses numbers called *memory addresses* to keep track of where it exactly it wrote everything down.\n",
    "\n",
    "#### * I'll use `0x` to indicate that I'm writing down a memory address in the examples I show you.\n",
    "\n",
    "---------\n",
    "\n",
    "#### * For every value Python needs -- every literal value it encounters, and every evaluation of an expression -- it creates an *object*.\n",
    "\n",
    "#### * An **object** is a parcel of memory which contains a *value* and information about what *data type* that value represents, and which has an *address*.   \n",
    "\n",
    "#### * Python variables don't really have values; they have objects that they are attached to, and those objects contain values.  \n",
    "\n",
    "#### * Python maintains a sort-of \"table\", which matches defined variables to the addresses of the  objects they are bound to.\n",
    "\n",
    "<br><br><br><br><br>\n",
    "<br><br><br><br><br>\n",
    "\n",
    "# 3.  A Simple Program"
   ]
  },
  {
   "cell_type": "code",
   "execution_count": null,
   "metadata": {},
   "outputs": [],
   "source": [
    "# EXAMPLE 3a: A simple program\n",
    "\n",
    "var = 5\n",
    "x = 1 + var\n",
    "var = x\n",
    "print(var)"
   ]
  },
  {
   "cell_type": "markdown",
   "metadata": {},
   "source": [
    "#### * *First line:* Assignment starts on the right, so Python creates an object for `5`; then, `var` is added to the table of variables, matched with the address of the object.\n",
    "\n",
    "\n",
    "\n",
    "![IMAGE NOT FOUND!!!!!!!!!!!!](frame1.jpg)\n",
    "\n",
    "#### * *Second line:* An object for `1` is created; Python looks to address `0x1` to retrieve the value of `var`, and then the values of these two objects are added, to create a new object at a new address, with value `6`.  That new object is bound to the variable `x`.\n",
    "\n",
    "\n",
    "![IMAGE NOT FOUND!!!!!!!!!!!!](frame2.jpg)\n",
    "\n",
    "#### * *Third line:* No new objects are created.  Python checks which object is attached to `x`, and then that object is bound to `var`.  So now, both `var` and `x` look to address `0x3` for their value.\n",
    "\n",
    "\n",
    "![IMAGE NOT FOUND!!!!!!!!!!!!](frame3.jpg)\n",
    "\n",
    "#### * *Last line:* Since `var` is attached to `0x3`, Python looks at address `0x3` to retrieve what it will be printing out.\n",
    "\n",
    "\n",
    "<br><br><br><br><br>\n",
    "\n",
    "<br><br><br><br><br>\n",
    "\n"
   ]
  },
  {
   "cell_type": "markdown",
   "metadata": {},
   "source": [
    "\n",
    "# 4.  Variables and Objects: Now, Let's Throw In A Mutable Object\n",
    "\n",
    "#### * Who cares about variables and objects?  When you bring in mutable objects like lists, things get more interesting."
   ]
  },
  {
   "cell_type": "code",
   "execution_count": null,
   "metadata": {},
   "outputs": [],
   "source": [
    "# EXAMPLE 4a: Lists\n",
    "\n",
    "my_list = [8,9]\n",
    "my_list[0] = 20"
   ]
  },
  {
   "cell_type": "markdown",
   "metadata": {},
   "source": [
    "#### * *First line*: objects are created for the literals `8` and `9`; then, a list object is created. \n",
    "\n",
    "#### * **A list object contains the addresses of the values it contains.**  The list object is bound to `my_list`.\n",
    "\n",
    "\n",
    "![IMAGE NOT FOUND!!!!!!!!!!!!](frame4.jpg)\n",
    "\n",
    "\n",
    "#### * *Second line*: an object is created for the value `20`, and the address of that object is placed as the first entry of the list object at `0x13`. \n",
    "\n",
    "#### * *This line is a mutation, and so it doesn't change which object `my_list` is bound to -- it just alters that object*. \n",
    "\n",
    "\n",
    "![IMAGE NOT FOUND!!!!!!!!!!!!](frame5.jpg)\n",
    "\n",
    "\n",
    "<br><br><br><br><br>\n",
    "<br><br><br><br><br>\n",
    "\n"
   ]
  },
  {
   "cell_type": "markdown",
   "metadata": {},
   "source": [
    "# 5. Solving the Riddle"
   ]
  },
  {
   "cell_type": "code",
   "execution_count": 7,
   "metadata": {},
   "outputs": [
    {
     "data": {
      "text/plain": [
       "['New!!!!', 'One']"
      ]
     },
     "execution_count": 7,
     "metadata": {},
     "output_type": "execute_result"
    }
   ],
   "source": [
    "# EXAMPLE 5a: The weird code.\n",
    "\n",
    "x = ['Old', 'One']  # Line 1a\n",
    "y = x                # Line 2a\n",
    "x = ['New', 'Guy']  # Line 3a\n",
    "\n",
    "x = ['Old', 'One']  # Line 1b\n",
    "y = x                # Line 2b\n",
    "x[0] = 'New!!!!'     # Line 3b"
   ]
  },
  {
   "cell_type": "markdown",
   "metadata": {},
   "source": [
    "#### * Line 1a/b: Creates objects for `\"Old\"`, `\"One\"`, and the list; puts the addresses of the strings into the list; and binds `x` to the list object.\n",
    "\n",
    "\n",
    "#### * Line 2a/b: `x` is bound to the object at `0x23`, so this object now gets bound to `y` as well.\n",
    "\n",
    "\n",
    "![IMAGE NOT FOUND!!!!!!!!!!!!](frame6.jpg)\n",
    "\n",
    "\n",
    "#### * *The difference:*\n",
    "\n",
    "#### --- Line 3a: Creates objects for `\"New\"`, `\"Guy\"`, and a new list object to hold them; puts the addresses of the strings into the list; and binds `x` to the new list object.  **The old object at `0x23` isn't touched, and `y` is still bound it it.**\n",
    "\n",
    "\n",
    "![IMAGE NOT FOUND!!!!!!!!!!!!](frame7.jpg)\n",
    "\n",
    "#### --- Line 3b: Modifies the contents of the list object at `0x23`.  Note that neither of the variable bindings change -- they both still point to `0x23`, which has now been changed!\n",
    "\n",
    "\n",
    "![IMAGE NOT FOUND!!!!!!!!!!!!](frame8.jpg)\n"
   ]
  },
  {
   "cell_type": "code",
   "execution_count": 15,
   "metadata": {},
   "outputs": [
    {
     "name": "stdout",
     "output_type": "stream",
     "text": [
      "[5, 2]\n",
      "[5, 2]\n"
     ]
    }
   ],
   "source": [
    "# EXAMPLE 5b: What happens in this case?\n",
    "\n",
    "# x = [1,2,3]\n",
    "# y = x\n",
    "# x[0] = 4\n",
    "# x = [5,6,7]\n",
    "# x[0] = 8\n",
    "\n",
    "x = [[1,2],[4,5,6]]\n",
    "y = x[0]\n",
    "x[0][0] = 5\n",
    "print(y)\n",
    "x[0] = 3\n",
    "print(y)\n",
    "\n",
    "# What will y be? Print it when you know.\n",
    "# Also: you can run code at http://pythontutor.com/visualize.html \n",
    "# which will give nice visualizations of what we've described."
   ]
  },
  {
   "cell_type": "markdown",
   "metadata": {},
   "source": [
    "#### * Why does Python do this?  In short, because copying addresses is faster than copying large lists. \n",
    "\n",
    "#### * Also, you should know that these mechanics are similar to how *pointers* behave in C/C++.\n",
    "\n",
    "<br><br><br><br><br>\n",
    "<br><br><br><br><br>"
   ]
  },
  {
   "cell_type": "markdown",
   "metadata": {},
   "source": [
    "# 6. Functions and Modular Programming\n",
    "\n",
    "#### * Our programs are getting more complex!  Time to learn how to write better code -- using functions.\n",
    "\n",
    "#### * Functions help us decompose our programs into \"modules\": independent subprograms within your program.  \n",
    "\n",
    "#### * Why are they so important?\n",
    "\n",
    "#### --- They help you *write* code, because you can \"outline\" your overall strategy, and then worry about the details later.\n",
    "\n",
    "#### --- They help you *test/debug* your code, because you can easily run them independently of the rest of your program.\n",
    "\n",
    "#### --- They help you *update/maintain* your code, because most functions are self-contained.\n",
    "\n",
    "#### --- They help you *minimize repetition* in your code -- instead of writing similar code repeatedly, write a function and call it repeatedly!\n",
    "\n",
    "<br><br><br><br><br>\n",
    "<br><br><br><br><br>\n",
    "\n",
    "\n",
    "\n",
    "#### * A first example: I'd like to write a program which allows the user to type in an expression like `24 / 30`, and reduce it to lowest terms (here, it would be `4 / 5`).  The input should feature two integers, separated by a slash (with spaces on each side, for simplicity).  \n",
    "\n",
    "\n",
    "#### * To do this, we'll need to \n",
    "\n",
    "#### --- Cut apart the input, to extract the numerator and the denominator.\n",
    "#### --- Find the GCD of the numerator and the denominator.\n",
    "#### --- Then, divide numerator and denominator by the GCD, and report the reduced fraction.\n",
    "\n",
    "#### * All three of these are subproblems! Each could be written using a function.\n",
    "\n",
    "#### * The GCD part in particular is a perfect candidate for a function, because it has clear inputs (two positive ints), and clear outputs (their GCD).\n",
    "\n",
    "#### * Here's an outline."
   ]
  },
  {
   "cell_type": "code",
   "execution_count": null,
   "metadata": {},
   "outputs": [],
   "source": [
    "# EXAMPLE 6a: Reduce the fraction\n",
    "\n",
    "full = input('Enter a fraction: ')\n",
    "tokens = full.split()\n",
    "num = int(tokens[0])\n",
    "denom = int(tokens[2])\n",
    "\n",
    "common_fact = gcd(num, denom) # So: I'm going to write a function called gcd\n",
    "\n",
    "reduced_num = num//common_fact     # Use // so that answers \n",
    "reduced_denom = denom//common_fact # are not floats\n",
    "print(f'Reduced fraction: {reduced_num} / {reduced_denom}')"
   ]
  },
  {
   "cell_type": "markdown",
   "metadata": {},
   "source": [
    "<br><br><br><br><br>\n",
    "<br><br><br><br><br>\n",
    "\n",
    "\n",
    "#### * Ok, but how to write GCD? Pseudocode:"
   ]
  },
  {
   "cell_type": "code",
   "execution_count": null,
   "metadata": {},
   "outputs": [],
   "source": [
    "Get x and y\n",
    "Set GCD = 1\n",
    "For all numbers up to the smaller one:\n",
    "    if number goes into both x and y\n",
    "        GCD = number"
   ]
  },
  {
   "cell_type": "markdown",
   "metadata": {},
   "source": [
    "<br><br><br><br><br>\n",
    "<br><br><br><br><br>\n",
    "\n",
    "\n",
    "#### * Let's write the function now.  While we're at it, we can test it.\n"
   ]
  },
  {
   "cell_type": "code",
   "execution_count": null,
   "metadata": {},
   "outputs": [],
   "source": [
    "# EXAMPLE 6b: The full program\n",
    "\n",
    "def gcd(x,y):\n",
    "    '''\n",
    "    Parameters\n",
    "    ----------\n",
    "    x : int\n",
    "        a non-negative int\n",
    "    y : int\n",
    "        a non-negative int\n",
    "    Returns\n",
    "    -------\n",
    "    int\n",
    "        the greatest common divisor of x and y\n",
    "    '''\n",
    "    \n",
    "####################\n",
    "# TESTS:\n",
    "print('TESTS: Should all be True if gcd function is working.')\n",
    "print(gcd(10, 15) == 5)\n",
    "print(gcd(36, 47) == 1)\n",
    "print(gcd(36, 48) == 12)\n",
    "print(gcd(10, 20) == 10)\n",
    "\n",
    "####################    \n",
    "# THE MAIN PROGRAM\n",
    "\n",
    "full = input('Enter a fraction: ')\n",
    "tokens = full.split()\n",
    "num = int(tokens[0])\n",
    "denom = int(tokens[2])\n",
    "\n",
    "common_fact = gcd(num, denom) \n",
    "\n",
    "reduced_num = num//common_fact     # Use // so that answers \n",
    "reduced_denom = denom//common_fact # are not floats!\n",
    "print(f'Reduced fraction: {reduced_num} / {reduced_denom}')"
   ]
  },
  {
   "cell_type": "markdown",
   "metadata": {},
   "source": [
    "<br><br><br><br><br><br><br><br><br><br>\n",
    "\n",
    "# 7. Barrier Game\n",
    "\n",
    "#### * Game Rules: You pick 3 random numbers $x_1, x_2, x_3$ between 50 and 70.  If any of the numbers is 65 or above, you are \"knocked out\"; otherwise, your winnings are $x_3 - 55$ if $x_3 > 55$, otherwise your winnings are 0.\n",
    "\n",
    "#### * What's the average winning, and the probability of winning?\n",
    "\n",
    "#### * The function has NO inputs.  "
   ]
  },
  {
   "cell_type": "code",
   "execution_count": null,
   "metadata": {},
   "outputs": [],
   "source": [
    "# EXAMPLE 7a: My Barrier\n",
    "\n",
    "import random\n",
    "\n",
    "def random_barrier():\n",
    "    '''\n",
    "    Returns\n",
    "    -------\n",
    "    int\n",
    "        the amount of money won in a game of barrier.\n",
    "    '''\n",
    "    x1 = random.randrange(50, 71)\n",
    "    x2 = random.randrange(50, 71)\n",
    "    x3 = random.randrange(50, 71)\n",
    "    if x1 >= 65 or x2 >= 65 or x3 >= 65:\n",
    "        return 0\n",
    "    elif x3 > 55:\n",
    "        return x3 - 55\n",
    "    else:\n",
    "        return 0\n",
    "####################\n",
    "# TESTS:\n",
    "print(random_barrier())\n",
    "print(random_barrier())\n",
    "print(random_barrier())\n",
    "####################\n",
    "# SIMULATION LOOP:\n",
    "\n",
    "TRIALS = 10**5\n"
   ]
  },
  {
   "cell_type": "markdown",
   "metadata": {},
   "source": [
    "<br><br><br><br><br>\n",
    "<br><br><br><br><br>\n",
    "\n",
    "\n",
    "# 8. Return Values\n",
    "\n",
    "#### * Let's examine some technicalities of functions."
   ]
  },
  {
   "cell_type": "code",
   "execution_count": null,
   "metadata": {},
   "outputs": [],
   "source": [
    "# EXAMPLE 8a: A function with several returns\n",
    "\n",
    "# What does this weird function return?\n",
    "def weird_fn(param):\n",
    "    if param > 0:\n",
    "        if param == 2:\n",
    "            return 100\n",
    "        return [200, 300]\n",
    "        return 400\n",
    "        \n",
    "print(weird_fn(2))\n",
    "print(weird_fn(3))\n",
    "print(weird_fn(-1))\n"
   ]
  },
  {
   "cell_type": "markdown",
   "metadata": {},
   "source": [
    "#### * This illustrates that:\n",
    "\n",
    "#### --- A function can have several return statements.  \n",
    "\n",
    "#### --- You canNOT use multiple `return` statements to return more than one value, since function stops executing when a return statement is reached.  \n",
    "\n",
    "#### --- But you can return a list!\n",
    "\n",
    "#### --- If you reach the end of a function without hitting a return statement, your program still returns the special value `None`.   (`None` has its own special datatype -- the `NoneType`.)\n",
    "\n",
    "\n",
    "<br><br><br><br><br>\n",
    "<br><br><br><br><br>\n"
   ]
  },
  {
   "cell_type": "markdown",
   "metadata": {},
   "source": [
    "# 9. Scope\n",
    "\n",
    "#### * What is *scope*?   Look at the example below.  \n",
    "\n",
    "#### * Pay attention to `aaa` -- truthfully, those are really **two different** variables.   "
   ]
  },
  {
   "cell_type": "code",
   "execution_count": 1,
   "metadata": {},
   "outputs": [
    {
     "name": "stdout",
     "output_type": "stream",
     "text": [
      "Before function call: aaa = 5\n",
      "In function: aaa = 15\n",
      "Value of function = 15\n",
      "After the function call: aaa = 5\n"
     ]
    }
   ],
   "source": [
    "# EXAMPLE 9a: Variable names and scope\n",
    "\n",
    "# In this program, pay attention to all the variable(s) named aaa\n",
    "\n",
    "def add10(param):\n",
    "    aaa = param + 10\n",
    "    print(\"In function: aaa =\", aaa)\n",
    "#     print('The id of aaa during the function call= ', id(aaa))\n",
    "    return aaa\n",
    "    \n",
    "aaa = 5   \n",
    "# print('The id of aaa before function call: ', id(aaa))\n",
    "print(\"Before function call: aaa =\", aaa)\n",
    "value_of_fn = add10(aaa)\n",
    "# print('The id of value_of_fn after call=' , id(value_of_fn))\n",
    "print(\"Value of function =\", value_of_fn)\n",
    "print(\"After the function call: aaa =\", aaa)\n",
    "# print('The id of aaa after function call: ', id(aaa))\n"
   ]
  },
  {
   "cell_type": "markdown",
   "metadata": {},
   "source": [
    "#### * Variables that are assigned to in functions are called *local variables*, and they only exist within each function call. \n",
    "\n",
    "#### * If two variables reside in different functions, Python treats them differently, even if have they have the same name.\n",
    "\n",
    "#### * The *scope* of a variable is the set of locations where it is accessible.  \n",
    "\n",
    "#### * A variable that initialized outside of a function is called a *global* variable: its scope is every statement encountered after it has first been assigned (except within functions where a local variable of the same name exists). \n",
    "\n",
    "#### * The scope of a variable defined in a function will be only the statements encountered within the function after it is first assigned.\n",
    "\n",
    "#### * In this example, the (local) `aaa` on lines 6,7,8 is different than the `aaa` present everywhere else.\n",
    "\n",
    "<br><br><br><br><br>\n",
    "<br><br><br><br><br>\n"
   ]
  },
  {
   "cell_type": "code",
   "execution_count": null,
   "metadata": {},
   "outputs": [],
   "source": [
    "# EXAMPLE 9b: More scope\n",
    "# Uncomment the prints when you know what they will do.\n",
    "\n",
    "def f(x):\n",
    "    x = x + 4\n",
    "    y = 100\n",
    "    print(x, y)\n",
    "    return x + y\n",
    "\n",
    "    \n",
    "x = 2.1\n",
    "y = 3.4\n",
    "x = f(y)\n",
    "print(x, y)"
   ]
  }
 ],
 "metadata": {
  "kernelspec": {
   "display_name": "Python 3 (ipykernel)",
   "language": "python",
   "name": "python3"
  },
  "language_info": {
   "codemirror_mode": {
    "name": "ipython",
    "version": 3
   },
   "file_extension": ".py",
   "mimetype": "text/x-python",
   "name": "python",
   "nbconvert_exporter": "python",
   "pygments_lexer": "ipython3",
   "version": "3.12.4"
  },
  "name": "_merged_merged"
 },
 "nbformat": 4,
 "nbformat_minor": 4
}
