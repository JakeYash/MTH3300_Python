{
 "cells": [
  {
   "cell_type": "markdown",
   "metadata": {},
   "source": [
    "# Lecture 12\n",
    "\n",
    "### Nested Loops; Multiplication Table; The Star Triangle; The Star Pyramid; Nested Turtles; `while` Loops; Anything `for` Can Do `while` Can Do"
   ]
  },
  {
   "cell_type": "markdown",
   "metadata": {},
   "source": [
    "# 0. Updating Lists\n",
    "\n",
    "#### * Let's say you have a list, and want to add 1 to every entry.\n",
    "\n",
    "#### * Why doesn't this work?"
   ]
  },
  {
   "cell_type": "code",
   "execution_count": 3,
   "metadata": {},
   "outputs": [
    {
     "name": "stdout",
     "output_type": "stream",
     "text": [
      "[42, 64, 73, 86, 95, 29]\n"
     ]
    }
   ],
   "source": [
    "# EXAMPLE 7a: Bad Update\n",
    "\n",
    "my_list = [41,63,72,85,94,28]\n",
    "#gotta use index\n",
    "for x in my_list:\n",
    "    x += 1\n",
    "    \n",
    "print(my_list)"
   ]
  },
  {
   "cell_type": "markdown",
   "metadata": {},
   "source": [
    "\n",
    "<br><br><br><br><br>\n",
    "<br><br><br><br><br>\n",
    "#### * Problem: code\n",
    "\n",
    "#### --- creates a new variable `x`,\n",
    "\n",
    "#### --- assigns `x` to be values from `my_list`,\n",
    "\n",
    "#### --- and updates `x`!!! Not `my_list`.\n",
    "\n",
    "#### * Solution: use indices."
   ]
  },
  {
   "cell_type": "code",
   "execution_count": 12,
   "metadata": {},
   "outputs": [
    {
     "name": "stdout",
     "output_type": "stream",
     "text": [
      "[42, 64, 73, 86, 95, 29]\n"
     ]
    }
   ],
   "source": [
    "# EXAMPLE 7b: Better Update\n",
    "\n",
    "my_list = [41,63,72,85,94,28]\n",
    "\n",
    "\n",
    "for idx in range(len(my_list)):\n",
    "    # Instead of updating some other variable that copies my_list's values,\n",
    "    # we are updating my_list directly!  But we have to loop over INDICES to get this behavior.\n",
    "    my_list[idx] += 1\n",
    "\n",
    "print(my_list)"
   ]
  },
  {
   "cell_type": "markdown",
   "metadata": {},
   "source": [
    "\n",
    "<br><br><br><br><br>\n",
    "<br><br><br><br><br>\n",
    "\n",
    "\n",
    "\n",
    "# 0.5 Indices Versus Values\n",
    "\n",
    "#### * We've just traversed a list by **index** rather that by **value**.  \n",
    "\n",
    "#### * I.e., writing\n",
    "\n",
    "`for i in range(len(x)):`\n",
    "\n",
    "#### instead of \n",
    "\n",
    "`for i in x:`\n",
    "\n",
    "#### * Useful for two big reasons:\n",
    "\n",
    "#### 1. updating lists, as we've just seen\n",
    "\n",
    "#### 2. *comparing different elements within the same list to each other.*\n",
    "\n",
    "#### * Example of the latter -- checking if a list is sorted: need to compare element i to element i+1\n"
   ]
  },
  {
   "cell_type": "code",
   "execution_count": 18,
   "metadata": {},
   "outputs": [
    {
     "name": "stdout",
     "output_type": "stream",
     "text": [
      "4 28 26 !!!\n",
      "It's not sorted!\n"
     ]
    }
   ],
   "source": [
    "# EXAMPLE 8a: Is this list sorted?\n",
    "\n",
    "my_list = [4, 8, 12, 24, 28, 26, 30, 32, 40]\n",
    "\n",
    "# Let's check if this list is sorted, but comparing each element to its succesor.\n",
    "# is_sorted = True\n",
    "\n",
    "# for idx in range(len(my_list) - 1):\n",
    "#     if my_list[idx] > my_list[idx+1]:\n",
    "#         print(idx, my_list[idx], my_list[idx+1], '!!!')\n",
    "#         is_sorted = False\n",
    "#         break\n",
    "        \n",
    "# if is_sorted:\n",
    "#     print('It\\'s sorted!')\n",
    "# else:\n",
    "#     print('Not sorted!')    \n",
    "is_sorted = False\n",
    "\n",
    "for idx in range(len(my_list)-1):\n",
    "    if my_list[idx] <= my_list[idx+1]:\n",
    "        is_sorted = True\n",
    "    else:\n",
    "        is_sorted = False\n",
    "        print(idx, my_list[idx], my_list[idx+1], '!!!')\n",
    "        print('It\\'s not sorted!')\n",
    "        break"
   ]
  },
  {
   "cell_type": "markdown",
   "metadata": {},
   "source": [
    "# 1. Nested Loops\n",
    "\n",
    "#### * We can put loops *inside* loops! Oy vey.\n",
    "\n",
    "#### * Don't panic!  \n",
    "\n",
    "#### * To understand any loop: just execute the block.  \n",
    "\n",
    "#### * When you get to the end of the block, go back to the beginning, and execute the block again if appropriate.\n"
   ]
  },
  {
   "cell_type": "code",
   "execution_count": null,
   "metadata": {},
   "outputs": [],
   "source": [
    "# EXAMPLE 1a: Nested loops\n",
    "# Let's see what this one does.\n",
    "\n",
    "\"\"\"\n",
    "for i in range(5):\n",
    "    print(i, '!!', end = ' ')\n",
    "    for j in range(3):\n",
    "        print(i + j, end = ' ')\n",
    "    print()\n"
   ]
  },
  {
   "cell_type": "markdown",
   "metadata": {},
   "source": [
    "<br><br><br><br><br>\n",
    "<br><br><br><br><br>\n",
    "\n",
    "#### * What's happened?\n",
    "\n",
    "#### * First, `i` is `0`, and this executes:"
   ]
  },
  {
   "cell_type": "code",
   "execution_count": null,
   "metadata": {},
   "outputs": [],
   "source": [
    "print(0, '!!', end = ' ')\n",
    "for j in range(3):\n",
    "    print(0 + j, end = ' ')\n",
    "print()"
   ]
  },
  {
   "cell_type": "markdown",
   "metadata": {},
   "source": [
    "#### * Then `i` is `1` and, this executes:"
   ]
  },
  {
   "cell_type": "code",
   "execution_count": null,
   "metadata": {},
   "outputs": [],
   "source": [
    "print(1, '!!', end = ' ')\n",
    "for j in range(3):\n",
    "    print(1 + j, end = ' ')\n",
    "print()"
   ]
  },
  {
   "cell_type": "markdown",
   "metadata": {},
   "source": [
    "#### * ***Note that the inner `for` loop runs again, with `j` beginning back at `0`!***\n",
    "\n",
    "#### * And so on.\n",
    "\n",
    "<br><br><br><br><br>\n",
    "<br><br><br><br><br>\n",
    "\n",
    "# 2. The Multiplication Table\n",
    "\n",
    "#### * Why do we want such monstrosities? \n",
    "\n",
    "#### * Loops: stage 1, stage 2, stage 3, etc., where all stages are very similar.\n",
    "\n",
    "#### * **Nested** loops are for when *each stage itself involves repetition*.\n",
    "\n",
    "<br><br><br><br><br>\n",
    "<br><br><br><br><br>\n",
    "\n",
    "\n",
    "#### * Example: multiplication table\n",
    "\n",
    "    1    2    3    4    5    6    7    8    9\n",
    "    2    4    6    8   10   12   14   16   18\n",
    "    3    6    9   12   15   18   21   24   27\n",
    "    4    8   12   16   20   24   28   32   36\n",
    "    5   10   15   20   25   30   35   40   45\n",
    "    6   12   18   24   30   36   42   48   54\n",
    "    7   14   21   28   35   42   49   56   63\n",
    "    8   16   24   32   40   48   56   64   72\n",
    "    9   18   27   36   45   54   63   72   81\n",
    "\n",
    "#### * Broad sketch: \n",
    "\n",
    "Step 1: Print Row 1 (details to be filled in) <br>\n",
    "Step 2: Print Row 2 (ditto) <br>\n",
    "... <br>\n",
    "Step 9: Print Row 9\n",
    "\n",
    "#### * Pseudocode:"
   ]
  },
  {
   "cell_type": "code",
   "execution_count": null,
   "metadata": {},
   "outputs": [],
   "source": [
    "for r in range(1,10):\n",
    "    PRINT ROW r    # Obviously, this line isn't real code, but it will be replaced by real code."
   ]
  },
  {
   "cell_type": "markdown",
   "metadata": {},
   "source": [
    "\n",
    "<br><br><br><br><br>\n",
    "<br><br><br><br><br>\n",
    "\n",
    "#### * PRINT ROW 1:\n",
    "`for x in range(1,10):`<br>\n",
    "&nbsp;&nbsp;&nbsp;&nbsp;`   print(x, end = ' ')` <br>\n",
    "`print() # Don't forget the newline!`\n",
    "\n",
    "#### * PRINT ROW 2:\n",
    "`for x in range(1,10):`<br>\n",
    "&nbsp;&nbsp;&nbsp;&nbsp;`   print(2*x, end = ' ')`<br>\n",
    "`print()`\n",
    "\n",
    "#### * PRINT ROW 7:\n",
    "`for x in range(1,10):`<br>\n",
    "&nbsp;&nbsp;&nbsp;&nbsp;`   print(7*x, end = ' ')`<br>\n",
    "`print()`\n",
    "\n",
    "#### * Now, the question I *really* want to answer.  How do I `PRINT ROW r`?\n",
    "\n",
    "`for x in range(1,10):`<br>\n",
    "&nbsp;&nbsp;&nbsp;&nbsp;`   print(r*x, end = ' ')`<br>\n",
    "`print()`"
   ]
  },
  {
   "cell_type": "code",
   "execution_count": 36,
   "metadata": {},
   "outputs": [
    {
     "name": "stdout",
     "output_type": "stream",
     "text": [
      "    1     2     3     4     5     6     7     8     9 \n",
      "    2     4     6     8    10    12    14    16    18 \n",
      "    3     6     9    12    15    18    21    24    27 \n",
      "    4     8    12    16    20    24    28    32    36 \n",
      "    5    10    15    20    25    30    35    40    45 \n",
      "    6    12    18    24    30    36    42    48    54 \n",
      "    7    14    21    28    35    42    49    56    63 \n",
      "    8    16    24    32    40    48    56    64    72 \n",
      "    9    18    27    36    45    54    63    72    81 \n"
     ]
    }
   ],
   "source": [
    "# EXAMPLE 2a: Multiplication Table\n",
    "\n",
    "#\n",
    "# CODE???\n",
    "#\n",
    "for i in range(1,10):\n",
    "    for r in range(1,10):\n",
    "        print(f'{r*i:5}', end = ' ')\n",
    "    print()\n"
   ]
  },
  {
   "cell_type": "markdown",
   "metadata": {},
   "source": [
    "<br><br><br><br><br>\n",
    "<br><br><br><br><br>\n",
    "\n",
    "\n",
    "# 3. The Star Triangle\n",
    "\n",
    "#### * Classic exercise: print\n",
    "`*` <br>\n",
    "`**` <br>\n",
    "`***` <br>\n",
    "`****` <br>\n",
    "`*****` <br>\n",
    "`******` <br>\n",
    "`*******` <br>\n",
    "`********` <br>\n",
    "`*********` <br>\n",
    "`**********` <br>\n",
    "`***********` <br>\n",
    "\n",
    "#### The Catch: only print statements you are allowed to use are\n",
    "\n",
    "`print('*', end = '')` (which prints a single star, and nothing else)\n",
    "\n",
    "`print(' ', end = '')` (which prints a single space, and nothing else)\n",
    "\n",
    "and `print()` (which prints a newline).\n",
    "\n",
    "#### * No string multiplication, no f-strings, etc. \n",
    "\n",
    "#### * Pseudocode:\n"
   ]
  },
  {
   "cell_type": "code",
   "execution_count": 30,
   "metadata": {},
   "outputs": [
    {
     "name": "stdout",
     "output_type": "stream",
     "text": [
      "*\n",
      "**\n",
      "***\n",
      "****\n",
      "*****\n",
      "******\n",
      "*******\n",
      "********\n",
      "*********\n",
      "**********\n",
      "***********\n",
      "************\n"
     ]
    }
   ],
   "source": [
    "for r in range(1,13):\n",
    "    PRINT ROW r"
   ]
  },
  {
   "cell_type": "markdown",
   "metadata": {},
   "source": [
    "<br><br><br><br><br>\n",
    "<br><br><br><br><br>\n",
    "\n"
   ]
  },
  {
   "cell_type": "code",
   "execution_count": 32,
   "metadata": {},
   "outputs": [
    {
     "name": "stdout",
     "output_type": "stream",
     "text": [
      "*\n",
      "**\n",
      "***\n",
      "****\n",
      "*****\n",
      "******\n",
      "*******\n",
      "********\n",
      "*********\n",
      "**********\n",
      "***********\n",
      "************\n"
     ]
    }
   ],
   "source": [
    "# EXAMPLE 3a: Star Triangle, with no string multiplication\n",
    "\n",
    "for r in range(1,13):\n",
    "    for i in range(r):\n",
    "        print('*', end = '')\n",
    "    print()    \n",
    "    \n",
    "    \n",
    "    \n",
    "    "
   ]
  },
  {
   "cell_type": "markdown",
   "metadata": {},
   "source": [
    "<br><br><br><br><br>\n",
    "<br><br><br><br><br>\n",
    "\n",
    "# 4. The Star Pyramid\n",
    "\n",
    "#### * Now, try the 12-layer star Pyramid shown below!\n",
    "\n",
    "#### * Again, no \"cheating\": only use \n",
    "\n",
    "`print('*', end = '')`\n",
    "\n",
    "`print(' ', end = '')`\n",
    "\n",
    "`print()`.\n",
    "\n"
   ]
  },
  {
   "cell_type": "code",
   "execution_count": null,
   "metadata": {},
   "outputs": [],
   "source": [
    "           *\n",
    "          ***\n",
    "         *****\n",
    "        *******\n",
    "       *********\n",
    "      ***********\n",
    "     *************\n",
    "    ***************\n",
    "   *****************\n",
    "  *******************\n",
    " *********************\n",
    "***********************\n",
    "01234567890123456789012\n",
    "# Ignore the coloring.  \n"
   ]
  },
  {
   "cell_type": "code",
   "execution_count": 115,
   "metadata": {},
   "outputs": [
    {
     "name": "stdout",
     "output_type": "stream",
     "text": [
      "           *\n",
      "          ***\n",
      "         *****\n",
      "        *******\n",
      "       *********\n",
      "      ***********\n",
      "     *************\n",
      "    ***************\n",
      "   *****************\n",
      "  *******************\n",
      " *********************\n",
      "***********************\n"
     ]
    }
   ],
   "source": [
    "# EXAMPLE 4a: Star Pyramid, without string multiplication.\n",
    "\n",
    "# for i in range(1,13):\n",
    "#     for j in range(1,24):\n",
    "#         if(j <= 12 - i or j >= 12 + i):\n",
    "#             print(' ', end = '')\n",
    "#         else:\n",
    "#             print('*', end = '')\n",
    "#     print()\n",
    "#smarter solution down here\n",
    "for i in range(1,13):\n",
    "    for j in range(1,12+i):\n",
    "        if (j <= 12 - i):\n",
    "            print(' ', end = '')\n",
    "        else:\n",
    "            print('*', end = '')\n",
    "    print()"
   ]
  },
  {
   "cell_type": "markdown",
   "metadata": {},
   "source": [
    "<br><br><br><br><br>\n",
    "<br><br><br><br><br>"
   ]
  },
  {
   "cell_type": "markdown",
   "metadata": {},
   "source": [
    "<br><br><br><br><br><br><br><br><br><br>\n",
    "\n",
    "# 5. `while` Loops\n",
    "\n",
    "\n",
    "#### * **Definite loops** repeat a fixed number of times: once for every element in a list or range, where list is fixed before you initiate the loop.\n",
    "\n",
    "#### * Some loops are **indefinite** -- you don't know how many iterations until right before loop ceases to repeat.\n",
    "\n"
   ]
  },
  {
   "cell_type": "code",
   "execution_count": null,
   "metadata": {},
   "outputs": [],
   "source": [
    "# EXAMPLE 6a: Password\n",
    "\n",
    "correct_password = 'Hamburger'\n",
    "\n",
    "user_guess = input('Guess the password: ')\n",
    "\n",
    "number_of_guesses = 1\n",
    "\n",
    "while user_guess != correct_password:\n",
    "    print('Wrong!')\n",
    "    user_guess = input('Guess again: ')\n",
    "    number_of_guesses += 1\n",
    "    \n",
    "print(f'Took you long enough: {number_of_guesses} guesses.')\n"
   ]
  },
  {
   "cell_type": "markdown",
   "metadata": {},
   "source": [
    "#### * For indefinite loops like this, `while` loops are useful.\n",
    "\n",
    "<br><br><br><br><br>\n",
    "<br><br><br><br><br>"
   ]
  },
  {
   "cell_type": "code",
   "execution_count": null,
   "metadata": {},
   "outputs": [],
   "source": [
    "WHILE LOOP SYNTAX:\n",
    "    \n",
    "\"... previous statements ...\"\n",
    "while <logical expression>:\n",
    "    <body, indented>\n",
    "\"... further statements, unindented...\"\n",
    "\n",
    "    \n"
   ]
  },
  {
   "cell_type": "markdown",
   "metadata": {},
   "source": [
    "\n",
    "#### * First, `<logical expression>` will evaluate.\n",
    "\n",
    "#### * If it evaluates to `True`, `<body>` will execute.\n",
    "\n",
    "#### * Once that is finished, `<logical expression>` will evaluate again...\n",
    "\n",
    "#### * ...and if it is `True`, `<body>` will execute again, with all pertinent variables using their latest values.\n",
    "\n",
    "#### * And so on until `<logical expression>` evaluates to `False`.  At this point, statements after the `<body>` are executed.\n",
    "\n",
    "#### * Flowchart:\n",
    "\n",
    "![IMAGE NOT FOUND!!!!!!!!!!](whileflow.png)\n",
    "\n",
    "<br><br><br><br><br>\n",
    "<br><br><br><br><br>"
   ]
  },
  {
   "cell_type": "code",
   "execution_count": null,
   "metadata": {},
   "outputs": [],
   "source": [
    "# EXAMPLE 6b: Walkthrough\n",
    "# Can you follow what is happening here?\n",
    "# Once you know, taking away the quotations at the front.\n",
    "\n",
    "\"\"\"\n",
    "x = 3\n",
    "y = 2\n",
    "\n",
    "\n",
    "while x <  3 * y:\n",
    "    x += y\n",
    "    if x < 10:\n",
    "        y = 6 - y\n",
    "    print(x,y)\n",
    "    \n",
    "print(y)\n"
   ]
  },
  {
   "cell_type": "markdown",
   "metadata": {},
   "source": [
    "<br><br><br><br><br>\n",
    "<br><br><br><br><br>\n",
    "\n",
    "# 6. Anything `for` Can Do, `while` Can Do ~~Better~~ Worse"
   ]
  },
  {
   "cell_type": "markdown",
   "metadata": {},
   "source": [
    "#### * `while` loops are more general than `for` loops.\n",
    "\n",
    "#### * Here's a problem that doesn't need a `while` loop, but we'll do it with one anyway."
   ]
  },
  {
   "cell_type": "code",
   "execution_count": null,
   "metadata": {},
   "outputs": [],
   "source": [
    "# EXAMPLE 7a: 99 Bottles\n",
    "# What does this code do?  What should it do?  Can you fix it, still using a while loop?\n",
    "\n",
    "var = 1\n",
    "\n",
    "while var <= 99:\n",
    "    print(f'{var} bottles of beer on the wall, {var} bottles of beer')\n",
    "    print(f'If one of those bottles should happen to fall, {var-1} bottles of beer on the wall')\n",
    "    var = var + 1"
   ]
  },
  {
   "cell_type": "markdown",
   "metadata": {},
   "source": [
    "<br><br><br><br><br>\n",
    "<br><br><br><br><br>\n",
    "\n",
    "#### * Every `for` can be converted to a `while`:\n",
    "\n",
    "#### --- Initialize `loop_count` to be `0` or `1`\n",
    "\n",
    "#### --- Write a line like `while loop_count < len(list_name):`, or `while loop_count <=  <number of times>:`\n",
    "\n",
    "#### --- At the end of the body of the loop, insert a line incrementing `loop_count`, like `loop_count += 1`\n",
    "\n",
    "#### DON'T DO THIS! (Unless a problem specifically asks you to.)\n",
    "\n",
    "<br><br><br><br><br>\n",
    "<br><br><br><br><br>\n",
    "\n",
    "#### * Example: compute 100 terms of $ e^3 + e^5 + e^7 + e^9 + e^{11} + \\ldots$\n"
   ]
  },
  {
   "cell_type": "code",
   "execution_count": null,
   "metadata": {},
   "outputs": [],
   "source": [
    "# EXAMPLE 7b: 100 terms of e^3 + e^5 + e^7 + e^9 + e^11 + ...\n",
    "import math\n",
    "\n",
    "# FOR loop:\n",
    "rs = 0\n",
    "for n in range(1,101):\n",
    "    rs += math.exp(2*n + 1)\n",
    "print(rs)\n",
    "\n",
    "# WHILE loop:\n",
    "rs = 0\n",
    "\n",
    "\n",
    "\n",
    "\n"
   ]
  },
  {
   "cell_type": "markdown",
   "metadata": {},
   "source": [
    "<br><br><br><br><br>\n",
    "<br><br><br><br><br>"
   ]
  }
 ],
 "metadata": {
  "kernelspec": {
   "display_name": "Python 3 (ipykernel)",
   "language": "python",
   "name": "python3"
  },
  "language_info": {
   "codemirror_mode": {
    "name": "ipython",
    "version": 3
   },
   "file_extension": ".py",
   "mimetype": "text/x-python",
   "name": "python",
   "nbconvert_exporter": "python",
   "pygments_lexer": "ipython3",
   "version": "3.12.4"
  },
  "name": "_merged_merged"
 },
 "nbformat": 4,
 "nbformat_minor": 4
}
