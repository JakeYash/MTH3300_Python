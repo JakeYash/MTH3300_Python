{
 "cells": [
  {
   "cell_type": "markdown",
   "metadata": {},
   "source": [
    "# Lecture 21\n",
    "\n",
    "#### A Few Words, Before We Get Started; Defining Classes, and the Product Class; Mario!; The Employee Class; Methods; Mario Methods; Encapsulation; Special Methods; Overloading Operators"
   ]
  },
  {
   "cell_type": "markdown",
   "metadata": {},
   "source": [
    "# 0. A Few Words, Before We Get Started\n",
    "\n",
    "### * The implementation of a class is supposed to be separated from the interface. What does this mean? I said that a deck of cards is represented by a list.  If you look in my `shanes_card_v1.py` file, you'll see that list (the *implementation*).  But in the *client* code, you don't interact with the underlying list -- you just write code that corresponds to actions you would actually perform with cards, like `draw()` (the *interface*).  \n",
    "\n",
    "### * Ideally, when you design a class, you would like it to be usable not just once, but throughout a project or several projects.  That's why you might place one in a separate file.\n",
    "\n",
    "### * Before you start designing a class, you should have a very good idea of how (client) programs will use it!  One of the greatest strengths of object oriented programming is that it allows you the flexibility to design an easily usable interface. \n",
    "\n",
    "### * And you should have a good idea of how to represent your objects in terms of `int`s, `str`s, `list`s, etc., and how these objects can change throughout programs.\n",
    "\n",
    "<br><br><br><br><br><br><br><br><br><br>"
   ]
  },
  {
   "cell_type": "markdown",
   "metadata": {},
   "source": [
    "# 1. Defining Classes, and the `Product` Class\n",
    "\n",
    "### * A *class* is an abstract data type defined by the programmer.  It is \"abstract\" in the sense that we often think of these classes as supplying representations for real world objects, even though they are represented in the computer using variables `int`s, `float`s, `str`s, `list`s, etc.\n",
    "\n",
    "### * An *object* is simply a variable whose data type is given by some class.  Furthermore, each object should probably have *attribute* variables, which hold data related to the object.\n",
    "\n",
    "\n",
    "### * Imagine you are making a database to keep track of the products for sale in your store.  For each product, you'll want to keep track of its \n",
    "\n",
    "### --- Name \n",
    "### --- Price\n",
    "### --- Current inventory\n",
    "\n",
    "### * We'll create a class called `Product`.  Then, we'll create several products.  Then we'll sell a few of them.\n",
    "\n",
    "<br><br><br><br><br>\n",
    "<br><br><br><br><br>"
   ]
  },
  {
   "cell_type": "code",
   "execution_count": null,
   "metadata": {},
   "outputs": [],
   "source": [
    "BASIC CLASS DEFINITION SYNTAX:\n",
    "    \n",
    "class <ClassName>:\n",
    "    \n",
    "    def __init__(self<, additional parameters>):\n",
    "        <body>\n",
    "        self.<_attribute name> = <whatever>\n",
    "        self.<_other attribute> = <whatever>\n",
    "        \n",
    "CREATING CLASS OBJECTS SYNTAX:\n",
    "\n",
    "<object name> = <ClassName>(<values, matched to the additional parameters>)"
   ]
  },
  {
   "cell_type": "markdown",
   "metadata": {},
   "source": [
    "### * Typically a `class` definition has several functions.  We just have one here, the function named `__init__` (short for \"initialize\" -- and it has 2 leading and trailing underscores).  \n",
    "\n",
    "### * This is a very special function, also know as the *constructor*, which gets automatically called whenever a new class instance is created.  It's job is to *initialize* the attributes, which are each written in the form `self._attribute_name`.  \n",
    "\n",
    "### * I'll start most attribute names with the underscore character `_`.  \n",
    "\n",
    "### * `self` is always an argument to the `__init__` function, but there can be others, which tell you exactly how you want the attributes set for a particular object.  \n",
    "\n",
    "### * Whenever you see `self` anywhere in a class function definition, it means \"whatever object is currently being initialized\" or \"whatever object this function is currently being done to.\"  "
   ]
  },
  {
   "cell_type": "code",
   "execution_count": 1,
   "metadata": {},
   "outputs": [
    {
     "name": "stdout",
     "output_type": "stream",
     "text": [
      "Product created for Toasters, hooray!\n",
      "Product created for TVs, hooray!\n",
      "Product created for Lamps, hooray!\n",
      "Toasters costs 39.99, and we have 5000 of them\n",
      "TVs costs 599.99, and we have 100 of them\n",
      "Lamps costs 89.99, and we have 200 of them\n"
     ]
    },
    {
     "name": "stdin",
     "output_type": "stream",
     "text": [
      "How many lamps do you want?  90\n"
     ]
    },
    {
     "name": "stdout",
     "output_type": "stream",
     "text": [
      "8099.099999999999 dollars, please!\n"
     ]
    }
   ],
   "source": [
    "# EXAMPLE 1a: Product class\n",
    "\n",
    "class Product:\n",
    "    '''\n",
    "    A class to represent products in a store.\n",
    "    Attributes: name, price, current_inventory\n",
    "    '''\n",
    "    ### THE CONSTRUCTOR\n",
    "    def __init__(self, n, p, inv):\n",
    "        '''On initialization, set the product's name, price, and current inventory to be the last three inputs.'''\n",
    "        self._name = n\n",
    "        self._price = p\n",
    "        self._current_inventory = inv\n",
    "        # This is a little silly, but I'm just so excited about Object Oriented programming\n",
    "        print(f'Product created for {self._name}s, hooray!') \n",
    "        \n",
    "##############\n",
    "# Now, here's some client code\n",
    "# To emphasize that, I'll put it all in a main() function\n",
    "def main():\n",
    "    p1 = Product('Toaster', 39.99, 5000)\n",
    "    p2 = Product('TV', 599.99, 100)\n",
    "    p3 = Product('Lamp', 89.99, 200)\n",
    "\n",
    "    print(f'{p1._name}s costs {p1._price}, and we have {p1._current_inventory} of them')\n",
    "    print(f'{p2._name}s costs {p2._price}, and we have {p2._current_inventory} of them')\n",
    "    print(f'{p3._name}s costs {p3._price}, and we have {p3._current_inventory} of them')\n",
    "    # Let's sell some lamps.\n",
    "    num = int(input('How many lamps do you want? '))\n",
    "    if num <= p3._current_inventory:\n",
    "        p3._current_inventory -= num\n",
    "        print(p3._price*num, 'dollars, please!')\n",
    "    else:\n",
    "        print('Why do you need so many lamps? Where do you live?')\n",
    "        \n",
    "        \n",
    "# Don't forget to run main()!\n",
    "main()"
   ]
  },
  {
   "cell_type": "markdown",
   "metadata": {},
   "source": [
    "<br><br><br><br><br>\n",
    "<br><br><br><br><br>\n",
    "\n",
    "\n",
    "### * About that CONSTRUCTOR (the `__init__` function): when we write it, there are *four* parameters (`self`, `n`, `p` and `inv`), but when you actually initialize `Product`s, you only use *three* inputs (the name, price, and inventory: e.g., for the first `Product` the name was `\"Toaster\"`).  \n",
    "\n",
    "### * That's because class functions always have one silent parameter at the beginning: the object they are creating or acting upon!\n",
    "\n",
    "### * Likewise, what's the deal with `self._name`, `self._price`, etc.? \n",
    "\n",
    "### * The `__init__` function is meant to set `_name`, `_price`, and `_current_inventory`.  But *whose* `_name`, *whose* `_price`, and *whose* `_current_inventory`?  The answer is: whatever object you are initializing at the time. \n",
    "\n",
    "\n",
    "\n",
    "<br><br><br><br><br>\n",
    "<br><br><br><br><br>"
   ]
  },
  {
   "cell_type": "markdown",
   "metadata": {},
   "source": [
    "# 2. Next Example: Mario!\n",
    "\n",
    "### * Imagine you are designing a video game.  Among the 10 million things you would need to do, you would need to design characters. \n",
    "\n",
    "### * What information do you store for a character -- or in other words, what *attributes* should a character have?\n",
    "\n",
    "* Name\n",
    "* Number of lives\n",
    "* Number of coins\n",
    "* Weapon list\n",
    "* List of outfits\n",
    "* Current location\n",
    "\n",
    "### * We'll take the first three as attributes.\n",
    "\n",
    "### * We'll go backwards -- it is very important to have an idea of how your class will be used before designing the class!  So, we'll create two characters first, in a `main()` function.  Then we'll have one of them lose a life and gain some coins.  \n",
    "\n",
    "### * Then, we'll write the class definition.  We'll make every `Character` *start with 3 lives and 0 coins*, so we don't need to initialize those values when we create `Character`s; we'll just need to supply a name. \n",
    "\n",
    "### * Finally, we can then actually run the `main()` function."
   ]
  },
  {
   "cell_type": "code",
   "execution_count": 9,
   "metadata": {},
   "outputs": [
    {
     "name": "stdout",
     "output_type": "stream",
     "text": [
      "Mario has 10 lives and 100 coins\n",
      "Luigi has 2 lives and 5 coins\n",
      "100\n",
      "20\n"
     ]
    }
   ],
   "source": [
    "# EXAMPLE 2a: A character class\n",
    "\n",
    "########################################################################################\n",
    "# Before we actually write the class, here's a main() function that USES the class.\n",
    "# This helps us plan how the class should be designed. \n",
    "def foo(l = 100):\n",
    "    print(l)\n",
    "def main():\n",
    "    m = Character('Mario',10,100)\n",
    "    l = Character('Luigi')\n",
    "\n",
    "    print(m._name, 'has', m._lives, 'lives and', m._coins, 'coins')\n",
    "    # Let's say Luigi collects 5 coins, but then loses a life.\n",
    "    l._coins += 5\n",
    "    l._lives -= 1\n",
    "    print(l._name, 'has', l._lives, 'lives and', l._coins, 'coins')\n",
    "    foo()\n",
    "    foo(20)\n",
    "\n",
    "############################################\n",
    "# Now, let's write the class definition. \n",
    "\n",
    "# CODE!!!!\n",
    "\n",
    "class Character:\n",
    "    \"\"\"\n",
    "    this class is used to create character objects, who have\n",
    "    an amount of lives (default = 3) and amount of coins \n",
    "    (default = 0)\n",
    "    \"\"\"\n",
    "    def __init__(self,name,l = 3, c = 0):\n",
    "        self._name = name\n",
    "        self._lives = l\n",
    "        self._coins = c\n",
    "\n",
    "\n",
    "\n",
    "\n",
    "\n",
    "\n",
    "\n",
    "############################################\n",
    "# Finally, let's call the main() function\n",
    "main()"
   ]
  },
  {
   "cell_type": "markdown",
   "metadata": {},
   "source": [
    "<br><br><br><br><br>\n",
    "<br><br><br><br><br>\n",
    "\n",
    "\n",
    "### * When we write the constructor, there are two are two parameters (`self` and `n`), but when you actually initialize `Character`s, you only use one input (e.g., for the first `Character` the name was \"Mario\").  The first parameter of a class function is the object that is being worked upon, but you don't write that.\n",
    "\n",
    "### * And again -- *whose* `_name`, *whose* `_lives`, and *whose* `_coins` are we setting?  The answer is: whatever object you are initializing at the time.\n",
    "\n",
    "\n",
    "\n",
    "<br><br><br><br><br>\n",
    "<br><br><br><br><br>\n",
    "\n",
    "\n",
    "# 3. Example 3: Bluedit\n",
    "\n",
    "### * Imagine that you're designing a website where users can post their thoughts on any topic.  The website will be called ~~Reddit~~ Bluedit.  \n",
    "\n",
    "### * Create a class `BlueditPost` whose objects would represent posts to this site.  What attributes would you need to keep track of for a post? How about:\n",
    "### --- Username\n",
    "### --- Text\n",
    "### --- Upvotes (every post starts with 1)\n",
    "\n",
    "### * Your task:\n",
    "\n",
    "### --- First, create a `BlueditPost` object.  You can give this `BlueditPost` whatever `_username` and `_text` you like.\n",
    "\n",
    "### --- Then, write code which gives this `BlueditPost` two additional upvotes.\n",
    "\n",
    "### --- Write code which prints out all the information for your `BlueditPost`.\n",
    "\n",
    "### --- Finally, create the `BlueditPost` class that makes this code work! "
   ]
  },
  {
   "cell_type": "code",
   "execution_count": 51,
   "metadata": {},
   "outputs": [
    {
     "name": "stdout",
     "output_type": "stream",
     "text": [
      "jakeyash9 got 3 upvote(s) on a post that read:\n",
      "\"ong\"\n"
     ]
    }
   ],
   "source": [
    "# EXAMPLE 3a: BlueditPost\n",
    "\n",
    "def main():\n",
    "    # 1. Create a BlueditPost object\n",
    "    x = BlueditPost('jakeyash9','new post')\n",
    "    # 2. Give that BlueditPost two additional upvotes.\n",
    "    x.upvote()\n",
    "    x.upvote()\n",
    "    # 3. Print out the info for the post.\n",
    "    x.printInfo()\n",
    "    \n",
    "    \n",
    "    \n",
    "    \n",
    "#############################################\n",
    "# 4. Create a BlueditPost class that matches the above.  \n",
    "\n",
    "class BlueditPost:\n",
    "    def __init__(self, user, text, uv = 1):\n",
    "        self._username = user\n",
    "        self._text = text\n",
    "        self._upvotes = uv\n",
    "\n",
    "    def printInfo(self):\n",
    "        print(f'{self._username} got {self._upvotes} upvote(s) on a post that read:\\n\"{self._text}\"')\n",
    "\n",
    "    def upvote(self):\n",
    "        self._upvotes += 1\n",
    "#############################################        \n",
    "# And when you're ready, run!\n",
    "main()"
   ]
  },
  {
   "cell_type": "markdown",
   "metadata": {},
   "source": [
    "<br><br><br><br><br><br><br><br><br><br>\n",
    "\n",
    "# 4. Methods\n",
    "\n",
    "### * Classes don't just represent groups of data; they are operations on that data too!\n",
    "\n",
    "### * *Methods* are functions that you do *to a particular object*. \n",
    "\n",
    "### * Two main types of methods are ones that access (\"reading\") the data of an object, and ones that mutate (change) that data.\n",
    "\n"
   ]
  },
  {
   "cell_type": "code",
   "execution_count": null,
   "metadata": {
    "collapsed": true,
    "jupyter": {
     "outputs_hidden": true
    }
   },
   "outputs": [],
   "source": [
    "CLASS METHOD DEFINITION SYNTAX:\n",
    "    \n",
    "class <Class Name>:\n",
    "    \n",
    "    # There's probably an __init__ function here.  Then:\n",
    "    \n",
    "    def <method_name>(self<, outside parameters>):\n",
    "        <Do stuff with attribute variables, using self.<name of attribute>>\n",
    "        <Perhaps merely modify the attribute variables>\n",
    "        <Perhaps return an output value>\n",
    "        \n",
    "CALLING METHODS SYNTAX:\n",
    "<object name>.<method_name>(<outside arguments>) # Appropriate for methods that merely modify or print\n",
    "<x> = <object name>.<method_name>(<outside arguments>) # Appropriate for methods that return a value"
   ]
  },
  {
   "cell_type": "markdown",
   "metadata": {},
   "source": [
    "### * Technically, `__init__` is a method, but it's unusual, since you usually don't call it explicitly, and it instead gets automatically called whenever you create an object of the given class.  \n",
    "\n",
    "<br><br><br><br><br>\n",
    "<br><br><br><br><br>\n",
    "\n",
    "### * Let's go back to our `Product` class, where each `Product` has a `_name`, a `_price`, and a `_current_inventory`.\n",
    "\n",
    "### * What operations might you do with a product? How about: \n",
    "### --- a method which displays object information in a nice way\n",
    "### --- and a method which performs an inventory after making a sale. \n",
    "\n",
    "### * The first method is an accessor.  To display a `Product`'s info, I just need to know which `Product` I'm trying to get inventory for -- so it will have no outside parameters.\n",
    "\n",
    "### * The second is a mutator.  To make a sale, some of the attributes have to change!  However, for each sale, we'll need to know how many to sell -- so this method will take an outside parameter.  We'll **also** have the function *return* the total cost of the sale.\n"
   ]
  },
  {
   "cell_type": "code",
   "execution_count": 72,
   "metadata": {},
   "outputs": [
    {
     "name": "stdout",
     "output_type": "stream",
     "text": [
      "Toaster: price = 39.99, inventory = 5000\n",
      "TV: price = 599.99, inventory = 100\n",
      "Total cost of sale is: 1799.97\n"
     ]
    }
   ],
   "source": [
    "# EXAMPLE 4a: Methods\n",
    "\n",
    "################################\n",
    "# Some client code in main()\n",
    "def main():\n",
    "    p1 = Product('Toaster', 39.99, 5000)\n",
    "    p2 = Product('TV', 599.99, 100)\n",
    "\n",
    "    # This should just print 'Toasters: price = 39.99, inventory = 5000' and 'TVs: price = 599.99, inventory = 100'\n",
    "    p1.display()\n",
    "    p2.display()\n",
    "    # This should both update the inventory to 97, and write the total cost of the sale to total_cost\n",
    "    total_cost = p2.sell(3)\n",
    "    print('Total cost of sale is:', total_cost)\n",
    "\n",
    "\n",
    "###############\n",
    "\n",
    "class Product:\n",
    "    '''\n",
    "    A class to represent products in a store.\n",
    "    Attributes: name, price, current_inventory\n",
    "    '''\n",
    "    def __init__(self, n, p, inv):\n",
    "        '''On initialization, set the product's name, price, and current inventory to be the last three inputs.'''\n",
    "        self._name = n\n",
    "        self._price = p\n",
    "        self._current_inventory = inv\n",
    "    \n",
    "    # The .display() method:\n",
    "    def display(self):\n",
    "        print(f'{self._name}: price = {self._price}, inventory = {self._current_inventory}')\n",
    "        \n",
    "    # The .sell() method:\n",
    "    def sell(self,n):\n",
    "        self._current_inventory -= n\n",
    "        return (self._price*n)\n",
    "\n",
    "    \n",
    "        \n",
    "###############\n",
    "main()"
   ]
  },
  {
   "cell_type": "markdown",
   "metadata": {},
   "source": [
    "<br><br><br><br><br><br><br><br><br><br>\n",
    "\n",
    "# 5. Mario Methods\n",
    "\n",
    "### * Now, let's go back to the `Character` class.  Remember that each `Character` has `_name`, `_lives` and `_coins` attributes.  I've added a `display()` method for you.\n",
    "\n",
    "### * Create two additional methods for this class:\n",
    "\n",
    "### --- `.collect_coins()`, which should take a number as (outside) argument, and add it to the number of coins. Nothing should be returned.\n",
    "\n",
    "\n",
    "### --- `.die()`, which when called, lowers the number of the `Character`'s live by one.  This function should also return `True` if the `Character` still has at least 1 life, and `False` if the `Character` now has 0 lives (game over!)\n",
    "\n"
   ]
  },
  {
   "cell_type": "code",
   "execution_count": 62,
   "metadata": {},
   "outputs": [
    {
     "name": "stdout",
     "output_type": "stream",
     "text": [
      "Mario: 3 lives, 0 coins\n",
      "Mario: 3 lives, 100 coins\n",
      "Mario: 2 lives, 0 coins\n",
      "True\n",
      "False\n"
     ]
    }
   ],
   "source": [
    "# EXAMPLE 5a: Mario methods\n",
    "\n",
    "class Character:\n",
    "    '''\n",
    "    A class for game characters (in a Mario Bros-style game)\n",
    "    Attributes: name, lives, coins\n",
    "    '''\n",
    "    \n",
    "    def __init__(self, n):\n",
    "        '''Initialize characters with lives = 3, coints = 0'''\n",
    "        self._name = n \n",
    "        self._lives = 3\n",
    "        self._coins = 0\n",
    "        \n",
    "    def display(self):\n",
    "        '''Display character information to the console.'''\n",
    "        print(f'{self._name}: {self._lives} lives, {self._coins} coins')\n",
    "    \n",
    "    # collect_coins() method:\n",
    "    \n",
    "    def collect_coins(self,n):\n",
    "        self._coins += n\n",
    "    \n",
    "    \n",
    "    # die() method:\n",
    "    def die(self):\n",
    "        self._lives -= 1\n",
    "        self._coins = 0\n",
    "        if (self._lives > 0):\n",
    "            return True\n",
    "        else:\n",
    "            return False\n",
    "    \n",
    "    \n",
    "    \n",
    "        \n",
    "########\n",
    "# Client code: what should this do?\n",
    "def main():\n",
    "    m = Character('Mario')\n",
    "    m.display()\n",
    "    m.collect_coins(100)\n",
    "    m.display()\n",
    "    m.die()\n",
    "    m.display()\n",
    "    print(m.die()) # 1 life left, should print True\n",
    "    print(m.die()) # 0 lives left, should print False now\n",
    "########    \n",
    "main()"
   ]
  },
  {
   "cell_type": "markdown",
   "metadata": {},
   "source": [
    "<br><br><br><br><br>\n",
    "<br><br><br><br><br>\n",
    "\n",
    "\n",
    "# 6. Encapsulation\n",
    "\n",
    "### * In the last Mario example, the *client* code never makes reference to the attribute variables `m._name`, `m._coins`, and `m._lives`.  \n",
    "\n",
    "### * Instead, the creation, accessing and changing of these values for an object are done via **methods**.  \n",
    "\n",
    "### * This is desirable!  As the designer of a class, your goal is to design an interface (that is, a set of methods) that is strong enough to capture all the things a client might want to do with objects. To put it starkly:\n",
    "\n",
    "    Code inside a class *definition* can reference attribute variables.\n",
    "    \n",
    "    *Client* code should try to NOT reference attribute variables -- it ought to only interact with ENTIRE objects, via INTERFACE METHODS.\n",
    "\n",
    "### * This idea is known as *encapsulation*.   The examples with methods are \"better\", because they don't violate encapsulation.  \n",
    "\n",
    "<br><br><br><br><br>\n",
    "<br><br><br><br><br>\n",
    "\n",
    "### * Why is this important?  When you BUILD a car, the technical bits under the hood are important, but when you DRIVE the car, the technical bits are distracting at best, harmful at worst.\n",
    "\n",
    "### * The attribute variables are frequently thought of as technical details used to represent the object.  The user isn't meant to directly look at or modify them; instead, they ought to interact with them through the interface -- that is, the methods -- which (if well-designed) are guaranteed to access or modify objects in appropriate ways.\n",
    "\n",
    "### * In fact, that's what the underscores signify.   They are a Python custom, meant to convey to other programmers who are using the class: \"hey, I am a technical detail! Don't reference me directly! If you *do* use me you'll probably screw something up, and it's your own fault then!  Be smart and use the interface instead!\"\n",
    "\n",
    "<br><br><br><br><br>\n",
    "<br><br><br><br><br>\n"
   ]
  },
  {
   "cell_type": "markdown",
   "metadata": {},
   "source": [
    "# 7. Special Methods\n",
    "\n",
    "### * There are other special methods like `__init__`, which have special names that start and end with two underscores.\n",
    "\n",
    "### * Example: the `__str__()` method.  Remember when we tried to directly print objects?  This resulted in an adress being printed out.  \n",
    "\n",
    "### * That's because the Python `print()` function needs to be able to convert an object to a string before it displays that object.  When you implement the `__str__()` function, you are teaching Python how to convert an object of a given type to a `str`.\n",
    "\n",
    "### * `__str__()` should take no outside arguments, and return a string. \n",
    "\n",
    "### * You **cannot** call this method using the usual dot notation (`x.__str__()` won't work).  However, this function will automatically be called if you ever try to use the function `str(x)` with `x` an object of the given class, or if you ever try to print an object."
   ]
  },
  {
   "cell_type": "code",
   "execution_count": 70,
   "metadata": {},
   "outputs": [
    {
     "name": "stdout",
     "output_type": "stream",
     "text": [
      "2 of Hearts\n",
      "2 of Hearts\n"
     ]
    }
   ],
   "source": [
    "# EXAMPLE 7a: __str__ Function\n",
    "class Card:\n",
    "    def __init__(self, r, s):\n",
    "        self._rank = r\n",
    "        self._suit = s\n",
    "        \n",
    "    # This member function is used to convert an object to a string.\n",
    "    # Again, you canNOT call this function using dot notation.\n",
    "    def __str__(self):\n",
    "        return self._rank + ' of ' + self._suit\n",
    "###############\n",
    "def main():\n",
    "    my_card = Card('2', 'Hearts')\n",
    "    print(my_card) # This is one way to use the __str__() function --\n",
    "                   # it will get called everytime you try to print an object.    \n",
    "\n",
    "    x = str(my_card) # You also use __str__() whenever you call the \n",
    "                     # str() function on an object of the given class.\n",
    "    print(x)\n",
    "###############\n",
    "main()"
   ]
  },
  {
   "cell_type": "markdown",
   "metadata": {},
   "source": [
    "<br><br><br><br><br>\n",
    "<br><br><br><br><br>\n",
    "\n",
    "# 8. More Special Methods: Overloading Operators\n",
    "\n",
    "### * If you write "
   ]
  },
  {
   "cell_type": "code",
   "execution_count": null,
   "metadata": {},
   "outputs": [],
   "source": [
    "my_card = Card('Ace', 'Hearts')\n",
    "your_card = Card('10', 'Spades')\n",
    "if my_card < your_card:\n",
    "    print('You win')\n",
    "else:\n",
    "    print('I win')"
   ]
  },
  {
   "cell_type": "markdown",
   "metadata": {},
   "source": [
    "### then Python will just scratch its head at you -- how is it supposed to know which card is greater?  You have to teach it what that means!  \n",
    "\n",
    "### * There are functions which can you write so that will allow operators like `<`, `>`, `==`, `+` and `-` to works.  The act of extending these operators to work on our classes is referred to as *overloading operators*. \n",
    "\n",
    "### * Each one of these operators has its own special `__xx__` function you can implement to extend it to your class.\n",
    "\n",
    "<br><br><br><br><br>\n",
    "<br><br><br><br><br>\n",
    "\n",
    "\n",
    "\n",
    "### * For `<`, the particular name is `__lt__`.  Note that there are TWO parties to a comparison: the left one is the calling object (`self`), and the right one will be an outside argument.  So, the signature line of this method will be\n",
    "\n",
    "`def __lt__(self, other):`\n",
    "\n",
    "### * Then, you write the logic which makes this function give the right answer (which probably should be `True` or `False`).\n",
    "\n",
    "### * Finally, using the operator is easy as pie.  You write `my_card < your_card`, and Python will automatically translate this expression to `my_card.__lt__(your_card)`, and do exactly what you want it to.\n",
    "\n",
    "### * The main differences with the other operators are their names: for example, `==` is implmented with `__eq__`, `!=` is implemented with `__ne__`, `<=` is implemented with `__le__`, `+` is implemented with `__add__`, `*` is implemented with `__mul__`."
   ]
  },
  {
   "cell_type": "code",
   "execution_count": 68,
   "metadata": {},
   "outputs": [
    {
     "name": "stdout",
     "output_type": "stream",
     "text": [
      "I win\n"
     ]
    }
   ],
   "source": [
    "# EXAMPLE 8a: Overloading Operators\n",
    "\n",
    "class Card:\n",
    "    def __init__(self, r, s):\n",
    "        self._rank = r\n",
    "        self._suit = s\n",
    "    def __str__(self):\n",
    "        return self._rank + ' of ' + self._suit\n",
    "\n",
    "    # This overloads the < operator.  \n",
    "    # Remember, the calling object is the LEFT operand, and the right operand is an outside parameter.\n",
    "    def __lt__(self, other):\n",
    "        rank_order = ['2', '3', '4', '5', '6', '7', '8', '9', '10', 'Jack', 'Queen', 'King', 'Ace']\n",
    "        \n",
    "        left_rank = self._rank\n",
    "        right_rank = other._rank\n",
    "        #\n",
    "        # What do we want to have happen here? (Hint: the .index() function will help.)\n",
    "        #\n",
    "        return rank_order.index(left_rank) < rank_order.index(right_rank)\n",
    "        \n",
    "        \n",
    "        \n",
    "        \n",
    "        \n",
    "        \n",
    "########################################   \n",
    "def main():\n",
    "    my_card = Card('Ace', 'Hearts')\n",
    "    your_card = Card('10', 'Spades')\n",
    "    if my_card < your_card:\n",
    "        print('You win')\n",
    "    else:\n",
    "        print('I win')\n",
    "        \n",
    "###############\n",
    "main()"
   ]
  },
  {
   "cell_type": "code",
   "execution_count": null,
   "metadata": {},
   "outputs": [],
   "source": []
  }
 ],
 "metadata": {
  "kernelspec": {
   "display_name": "Python 3 (ipykernel)",
   "language": "python",
   "name": "python3"
  },
  "language_info": {
   "codemirror_mode": {
    "name": "ipython",
    "version": 3
   },
   "file_extension": ".py",
   "mimetype": "text/x-python",
   "name": "python",
   "nbconvert_exporter": "python",
   "pygments_lexer": "ipython3",
   "version": "3.12.4"
  },
  "name": "_merged_merged"
 },
 "nbformat": 4,
 "nbformat_minor": 4
}
