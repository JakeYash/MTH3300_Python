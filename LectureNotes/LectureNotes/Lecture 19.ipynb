{
 "cells": [
  {
   "cell_type": "markdown",
   "metadata": {},
   "source": [
    "# Lecture 19\n",
    "\n",
    "### Dictionaries; `KeyError`s and `try`-`except`; Votes; Looping Through Dictionaries; List Comprehensions"
   ]
  },
  {
   "cell_type": "markdown",
   "metadata": {},
   "source": [
    "\n",
    "# 0. List Comprehensions\n",
    "\n",
    "### * An amazing tool for constructing lists quickly."
   ]
  },
  {
   "cell_type": "code",
   "execution_count": 8,
   "metadata": {},
   "outputs": [
    {
     "name": "stdin",
     "output_type": "stream",
     "text": [
      "Enter a list of numbers on one line:  1 02 39481 03 39 7 84 9\n"
     ]
    },
    {
     "name": "stdout",
     "output_type": "stream",
     "text": [
      "[1.0, 2.0, 39481.0, 3.0, 39.0, 7.0, 84.0, 9.0]\n"
     ]
    }
   ],
   "source": [
    "# EXAMPLE 6a: List comprehensions\n",
    "\n",
    "numbers = input('Enter a list of numbers on one line: ')\n",
    "# This of course gives a big string.  Let's say you want to turn this string \n",
    "# into a list of floats. We know how to do that:\n",
    "\n",
    "list_1 = []\n",
    "for x in numbers.split():\n",
    "    list_1.append(float(x))\n",
    "    \n",
    "# Here's an alternate way to write this code in one line:\n",
    "# a list comprehension!\n",
    "list_2 = [float(x) for x in numbers.split()]\n",
    "\n",
    "# print(list_1)\n",
    "print(list_2)\n",
    "\n"
   ]
  },
  {
   "cell_type": "markdown",
   "metadata": {},
   "source": [
    "<br><br><br><br><br><br><br><br><br><br>\n",
    "\n",
    "### * Syntax for a list comprehension is:"
   ]
  },
  {
   "cell_type": "code",
   "execution_count": null,
   "metadata": {},
   "outputs": [],
   "source": [
    "LIST COMPREHENSION SYNTAX:\n",
    "    \n",
    "<list name> = [<operation on item> for <item> in <list>]"
   ]
  },
  {
   "cell_type": "markdown",
   "metadata": {},
   "source": [
    "### * This creates a list, where each value comes from performing the indicated operation on each element in `<list>`. \n",
    "\n",
    "### * How can we create a new list which is equal to some old list with each element squared?"
   ]
  },
  {
   "cell_type": "code",
   "execution_count": 21,
   "metadata": {},
   "outputs": [
    {
     "name": "stdout",
     "output_type": "stream",
     "text": [
      "[25, 9, 64, 400, 289, 400, 4096]\n",
      "5283\n"
     ]
    }
   ],
   "source": [
    "# EXAMPLE 6b: Square the list\n",
    "\n",
    "old = [5, 3, 8, 20, 17, 20, 64]\n",
    "new = [x**2 for x in old]\n",
    "print(new)\n",
    "\n",
    "#\n",
    "# And let's say you wanted to find the sum of the squares of elements in old.  \n",
    "# Can we do THAT in one line?\n",
    "#\n",
    "sumofsqrs = sum([x**2 for x in old])\n",
    "\n",
    "print(sumofsqrs)"
   ]
  },
  {
   "cell_type": "markdown",
   "metadata": {},
   "source": [
    "<br><br><br><br><br><br><br><br><br><br>\n",
    "\n",
    "\n",
    "### * We can also use list comprehensions together with *filters*."
   ]
  },
  {
   "cell_type": "code",
   "execution_count": null,
   "metadata": {},
   "outputs": [],
   "source": [
    "LIST COMPREHENSION WITH FILTER SYNTAX:\n",
    "    \n",
    "<list name> = [<operation on item> for <item> in <list> if <condition on item>]"
   ]
  },
  {
   "cell_type": "markdown",
   "metadata": {},
   "source": [
    "### * Only adds elements for `<item>`s which satisfy the `<condition>`.  \n",
    "\n",
    "### * Let's get a list of squares of only odd elements."
   ]
  },
  {
   "cell_type": "markdown",
   "metadata": {},
   "source": [
    "### * This creates a list, where each value comes from performing the indicated operation on each element in `<list>`. \n",
    "\n",
    "### * How can we create a new list which is equal to some old list with each element squared?"
   ]
  },
  {
   "cell_type": "code",
   "execution_count": 23,
   "metadata": {},
   "outputs": [
    {
     "name": "stdout",
     "output_type": "stream",
     "text": [
      "[25, 9, 289]\n"
     ]
    }
   ],
   "source": [
    "# EXAMPLE 7c: Square the odd elements in the list\n",
    "\n",
    "old = [5, 3, 8, 20, 17, 20, 64]\n",
    "new = [x**2 for x in old if x%2==1]\n",
    "print(new)"
   ]
  },
  {
   "cell_type": "markdown",
   "metadata": {},
   "source": [
    "### There are many examples where list comprehension can be used, here are some of my favorites."
   ]
  },
  {
   "cell_type": "code",
   "execution_count": 37,
   "metadata": {},
   "outputs": [
    {
     "name": "stdout",
     "output_type": "stream",
     "text": [
      "[[1, 4, 7], [2, 5, 8], [3, 6, 9]]\n",
      "[[1, 4, 7], [2, 5, 8], [3, 6, 9]]\n",
      "[1, 2, 3, 4, 5, 6, 7, 8, 9]\n",
      "[1, 2, 3, 4, 5, 6, 7, 8, 9]\n"
     ]
    }
   ],
   "source": [
    "# Example 7d: Transposing a 2d list\n",
    "mat = [[1, 2, 3],\n",
    "    [4, 5, 6],\n",
    "    [7, 8, 9]]\n",
    "\n",
    "transmat = [[row[i] for row in mat] for i in [0, 1, 2]]\n",
    "trnasnormal = []\n",
    "print(transmat)\n",
    "\n",
    "transnormal = []\n",
    "for i in [0,1,2]:\n",
    "    r = []\n",
    "    for row in mat:\n",
    "        r.append(row[i])\n",
    "    transnormal.append(r)\n",
    "\n",
    "print(transnormal)\n",
    "# Example 7e: Flatten a 2d list\n",
    "\n",
    "\n",
    "\n",
    "print(flat2)\n",
    "print(flat)"
   ]
  },
  {
   "cell_type": "markdown",
   "metadata": {},
   "source": [
    "\n",
    "\n",
    "# 1. Dictionaries\n",
    "\n",
    "### * A dictionary is a data structure that is meant to represent a *mapping* between \"keys\" (inputs) and \"values\" (outputs). \n",
    "\n",
    "### * A dictionary contains a number of key-value pairs.  You may then use the dictionary by supplying it a key; the dictionary will supply the corresponding value.  \n",
    "\n",
    "### * Example to keep in mind: a translation dictionary -- keys would be English words, and the corresponding values would be the Spanish translations.  "
   ]
  },
  {
   "cell_type": "code",
   "execution_count": 57,
   "metadata": {},
   "outputs": [
    {
     "name": "stdout",
     "output_type": "stream",
     "text": [
      "perro\n"
     ]
    },
    {
     "name": "stdin",
     "output_type": "stream",
     "text": [
      "Enter a word:  1\n"
     ]
    },
    {
     "name": "stdout",
     "output_type": "stream",
     "text": [
      "2\n",
      "{'dog': 'perro', 1: 2}\n"
     ]
    }
   ],
   "source": [
    "# EXAMPLE 1a: Dictionaries\n",
    "\n",
    "# This is a dictionary.  It is enclosed in curly braces.  Each pair of values is separated by a comma,\n",
    "# and in each pair, key and value are separated by a colon.\n",
    "eng_spn = {'dog':'perro', 1:'gato', 1:2}\n",
    "\n",
    "# You can access a dictionary by key, which looks a lot like accessing a list by index\n",
    "print(eng_spn['dog'])\n",
    "\n",
    "#word = int(input('Enter a word: '))\n",
    "word = input('Enter a word: ')\n",
    "\n",
    "trans = eng_spn[word]\n",
    "print(trans)\n",
    "print(eng_spn)"
   ]
  },
  {
   "cell_type": "markdown",
   "metadata": {},
   "source": [
    "### * So: you can define a dictionary using curly braces; each entry is of the form `key:value`, seperated by commas; and you can access elements using `dictionary_name[key]`.\n",
    "\n",
    "\n"
   ]
  },
  {
   "cell_type": "code",
   "execution_count": null,
   "metadata": {},
   "outputs": [],
   "source": [
    "BASIC DICTIONARY SYNTAX (DO NOT RUN):\n",
    "    \n",
    "dictionary = {key1 : val1, key2 : val2, . . . }"
   ]
  },
  {
   "cell_type": "markdown",
   "metadata": {},
   "source": [
    "<br><br><br><br><br><br><br><br><br><br>\n",
    "\n",
    "### * Dictionaries are mutable."
   ]
  },
  {
   "cell_type": "code",
   "execution_count": 61,
   "metadata": {},
   "outputs": [
    {
     "ename": "SyntaxError",
     "evalue": "invalid syntax (429957479.py, line 3)",
     "output_type": "error",
     "traceback": [
      "\u001b[0;36m  Cell \u001b[0;32mIn[61], line 3\u001b[0;36m\u001b[0m\n\u001b[0;31m    eng_spn = {'dog':'perro', 'cat':'gato', 'horse':'caballo', :'none'}\u001b[0m\n\u001b[0m                                                               ^\u001b[0m\n\u001b[0;31mSyntaxError\u001b[0m\u001b[0;31m:\u001b[0m invalid syntax\n"
     ]
    }
   ],
   "source": [
    "# EXAMPLE 3b: Dictionaries are mutable\n",
    "\n",
    "eng_spn = {'dog':'perro', 'cat':'gato', 'horse':'caballo'}\n",
    "\n",
    "# Dictionaries are mutable.  You can add new entries like this:\n",
    "eng_spn['cow'] = 'waca'\n",
    "# and you can change the values of each key after assignment:\n",
    "eng_spn['cow'] = 'vaca'\n",
    "\n",
    "# You can also delete like you do with lists -- this will delete both key and value.\n",
    "del eng_spn['horse']\n",
    "\n",
    "# This is what it looks like when you print out a dictionary\n",
    "print(eng_spn)"
   ]
  },
  {
   "cell_type": "markdown",
   "metadata": {},
   "source": [
    "### * So, you can add new values using `dictionary_name[key] = value`; you can also modify existing values `dictionary_name[key] = value`, where `key` is a key that is already present; and you can delete pairs using `del dictionary_name[key]`.\n",
    "\n",
    "<br><br><br><br><br><br><br><br><br><br>\n",
    "\n",
    "# 4. `KeyError`s and `try`-`except`\n",
    "\n",
    "### * What if you try to access a key that isn't present?  Go back up, and try to enter a bad key.\n",
    "\n",
    "### * `try`-`except` can help.  If code inside `try` produces a `KeyError`, execution switches to the `except KeyError` block, instead of crashing."
   ]
  },
  {
   "cell_type": "code",
   "execution_count": 3,
   "metadata": {},
   "outputs": [
    {
     "name": "stdin",
     "output_type": "stream",
     "text": [
      "Enter a word:  qwertyuiop\n"
     ]
    },
    {
     "name": "stdout",
     "output_type": "stream",
     "text": [
      "I don't know that word.  What is the translation?\n"
     ]
    },
    {
     "name": "stdin",
     "output_type": "stream",
     "text": [
      " qwertyuiop\n"
     ]
    },
    {
     "ename": "NameError",
     "evalue": "name 'trans' is not defined",
     "output_type": "error",
     "traceback": [
      "\u001b[0;31m---------------------------------------------------------------------------\u001b[0m",
      "\u001b[0;31mNameError\u001b[0m                                 Traceback (most recent call last)",
      "Cell \u001b[0;32mIn[3], line 14\u001b[0m\n\u001b[1;32m     11\u001b[0m     \u001b[38;5;28mprint\u001b[39m(\u001b[38;5;124m'\u001b[39m\u001b[38;5;124mI don\u001b[39m\u001b[38;5;130;01m\\'\u001b[39;00m\u001b[38;5;124mt know that word.  What is the translation?\u001b[39m\u001b[38;5;124m'\u001b[39m)\n\u001b[1;32m     12\u001b[0m     eng_spn[word] \u001b[38;5;241m=\u001b[39m \u001b[38;5;28minput\u001b[39m()\n\u001b[0;32m---> 14\u001b[0m \u001b[38;5;28mprint\u001b[39m(trans)\n\u001b[1;32m     15\u001b[0m \u001b[38;5;28mprint\u001b[39m(eng_spn)\n",
      "\u001b[0;31mNameError\u001b[0m: name 'trans' is not defined"
     ]
    }
   ],
   "source": [
    "# EXAMPLE 4a: try-except\n",
    "\n",
    "eng_spn = {'dog':'perro', 'cat':'gato', 'horse':'caballo'}\n",
    "\n",
    "word = input('Enter a word: ')\n",
    "\n",
    "try:\n",
    "    trans = eng_spn[word]\n",
    "    print(trans)\n",
    "except KeyError:\n",
    "    print('I don\\'t know that word.  What is the translation?')\n",
    "    eng_spn[word] = input()\n",
    "\n",
    "print(eng_spn)"
   ]
  },
  {
   "cell_type": "markdown",
   "metadata": {},
   "source": [
    "<br><br><br><br><br>\n",
    "<br><br><br><br><br>\n",
    "\n",
    "# 5. Votes\n",
    "\n",
    "### * Make a dictionary called `vote_counts`, with three pairs: keys will be the strings `'Alice'`, `'Bob'`, and `'Carol'`, and the corresponding values will start with 0.  \n",
    "\n",
    "### * Inside a loop, have the program ask `'Who do you want to vote for?'`\n",
    "\n",
    "### * User will then type in a candidate they wish to vote for, and then the count for that candidate will be increased by 1. \n",
    "\n",
    "### * Can you make the code support write-in candidates?"
   ]
  },
  {
   "cell_type": "code",
   "execution_count": 19,
   "metadata": {},
   "outputs": [
    {
     "name": "stdin",
     "output_type": "stream",
     "text": [
      "Who do you want to vote for?   alice\n",
      "Who do you want to vote for?   ALICE\n",
      "Who do you want to vote for?   ALiCe\n",
      "Who do you want to vote for?   alice\n",
      "Who do you want to vote for?   alice\n"
     ]
    },
    {
     "name": "stdout",
     "output_type": "stream",
     "text": [
      "{'alice': 5, 'bob': 0, 'carol': 0}\n"
     ]
    }
   ],
   "source": [
    "# EXAMPLE 5a: Votes\n",
    "\n",
    "# Create a \"dictionary literal\"\n",
    "vote_count = {'alice' : 0, 'bob' : 0, 'carol':0}\n",
    "\n",
    "# (OR: use a loop to create the dictionary!!!!)\n",
    "\n",
    "\n",
    "\n",
    "# Now, have 5 people vote\n",
    "for i in range(5):\n",
    "    name = input(\"Who do you want to vote for?  \").lower()\n",
    "    try:\n",
    "        vote_count[name] += 1\n",
    "    except KeyError:\n",
    "        print(\"New write-in candidate I guess\")\n",
    "        vote_count[name] = 1\n",
    "\n",
    "\n",
    "        \n",
    "    \n",
    "    \n",
    "    \n",
    "    \n",
    "print(vote_count)\n"
   ]
  },
  {
   "cell_type": "markdown",
   "metadata": {},
   "source": [
    "<br><br><br><br><br>\n",
    "<br><br><br><br><br>\n",
    "\n",
    "# 6. Looping Through a Dictionary\n",
    "\n",
    "### * You can loop through a dictionary. \n",
    "\n",
    "### * Be aware that entries in a dictionary *don't have a fixed order*.  Dictionaries don't have indices -- only keys!  \n",
    "\n",
    "\n",
    "### * Loops look like\n",
    "\n",
    "`for k in dictionary:`\n",
    "\n",
    "### where the loop variable (`k`) will take on all the *keys* in the dictionary; if you need to access the values, you can of course use `dictionary[k]`. "
   ]
  },
  {
   "cell_type": "code",
   "execution_count": 48,
   "metadata": {},
   "outputs": [
    {
     "name": "stdout",
     "output_type": "stream",
     "text": [
      "Alice got 3 votes.\n",
      "Bob got 1 votes.\n",
      "Carol got 1 votes.\n",
      "Alice won with a count of 3 votes.\n"
     ]
    }
   ],
   "source": [
    "# EXAMPLE 6a: Looping through dictionaries\n",
    "\n",
    "vote_count = {'Alice':3, 'Bob':1, 'Carol':1}\n",
    "\n",
    "# You can loop through a dictionary looks just like looping through a list.\n",
    "# for k in vote_count:\n",
    "#     # k is the KEY of each pair.\n",
    "#     print(k, 'got', vote_count[k], 'votes.')\n",
    "    \n",
    "#\n",
    "# Now: write code that finds the winner of the election, using a loop. Assume no ties.    \n",
    "# It's actually a little tricky -- you might want to have two variables to keep track of (winner's name, winning count)\n",
    "# \n",
    "most = [None,0]\n",
    "for k in vote_count:\n",
    "    if(vote_count[k] > most[1]):\n",
    "        most = [k,vote_count[k]]\n",
    "    print(k,\"got\", vote_count[k], \"votes.\")\n",
    "\n",
    "\n",
    "\n",
    "print(most[0], 'won with a count of', most[1], 'votes.')\n"
   ]
  },
  {
   "cell_type": "markdown",
   "metadata": {},
   "source": [
    "### There are many different methods that can be applied to dictionaries. Here we will take a look through some of the more common uses."
   ]
  },
  {
   "cell_type": "code",
   "execution_count": null,
   "metadata": {},
   "outputs": [],
   "source": [
    "<dict>.keys() Returns a list containing all keys\n",
    "\n",
    "<dict>.values() Returns a list containing all values\n",
    "\n",
    "<dict>.items() Returns a list containing all the key-value pairs as a tuple (key, value)\n",
    "\n",
    "<dict>.pop() removes the last element (key-value pair) of the dictionary. This method also works for lists!"
   ]
  },
  {
   "cell_type": "code",
   "execution_count": 46,
   "metadata": {},
   "outputs": [
    {
     "name": "stdout",
     "output_type": "stream",
     "text": [
      "Alice got 3 vote(s).\n",
      "Bob got 1 vote(s).\n",
      "Carol got 1 vote(s).\n"
     ]
    }
   ],
   "source": [
    "# You can use the .items() method to create a loop with TWO target variables. One for the Key and one for the Value.\n",
    "# Use this framework to create a summary of all votes. \n",
    "\n",
    "\n",
    "for k,v in vote_count.items():\n",
    "    print(k,'got',v,'vote(s).')"
   ]
  },
  {
   "cell_type": "markdown",
   "metadata": {},
   "source": [
    "\n",
    "<br><br><br><br><br><br><br><br><br><br>\n",
    "\n",
    "# 7. List Comprehensions\n",
    "\n",
    "### * An amazing tool for constructing lists quickly."
   ]
  },
  {
   "cell_type": "code",
   "execution_count": null,
   "metadata": {
    "collapsed": true,
    "jupyter": {
     "outputs_hidden": true
    }
   },
   "outputs": [],
   "source": [
    "# EXAMPLE 7a: List comprehensions\n",
    "\n",
    "numbers = input('Enter a list of numbers on one line: '')\n",
    "# This of course gives a big string.  Let's say you want to turn this string \n",
    "# into a list of floats. We know how to do that:\n",
    "\n",
    "list_1 = []\n",
    "for x in numbers.split():\n",
    "    list_1.append(float(x))\n",
    "    \n",
    "# Here's an alternate way to write this code in one line:\n",
    "# a list comprehension!\n",
    "list_2 = [float(x) for x in numbers.split()]\n",
    "\n",
    "print(list_1)\n",
    "print(list_2)\n",
    "\n"
   ]
  },
  {
   "cell_type": "markdown",
   "metadata": {},
   "source": [
    "<br><br><br><br><br><br><br><br><br><br>\n",
    "\n",
    "### * Syntax for a list comprehension is:"
   ]
  },
  {
   "cell_type": "code",
   "execution_count": null,
   "metadata": {},
   "outputs": [],
   "source": [
    "LIST COMPREHENSION SYNTAX:\n",
    "    \n",
    "<list name> = [<operation on item> for <item> in <list>]"
   ]
  },
  {
   "cell_type": "markdown",
   "metadata": {},
   "source": [
    "### * This creates a list, where each value comes from performing the indicated operation on each element in `<list>`. \n",
    "\n",
    "### * How can we create a new list which is equal to some old list with each element squared?"
   ]
  },
  {
   "cell_type": "code",
   "execution_count": null,
   "metadata": {},
   "outputs": [],
   "source": [
    "# EXAMPLE 7b: Square the list\n",
    "\n",
    "old = [5, 3, 8, 20, 17, 20, 64]\n",
    "new = [x**2 for x in old]\n",
    "print(new)\n",
    "\n",
    "#\n",
    "# And let's say you wanted to find the sum of the squares of elements in old.  \n",
    "# Can we do THAT in one line?\n",
    "#\n",
    "\n",
    "\n"
   ]
  },
  {
   "cell_type": "markdown",
   "metadata": {},
   "source": [
    "<br><br><br><br><br><br><br><br><br><br>\n",
    "\n",
    "\n",
    "### * We can also use list comprehensions together with *filters*."
   ]
  },
  {
   "cell_type": "code",
   "execution_count": null,
   "metadata": {},
   "outputs": [],
   "source": [
    "LIST COMPREHENSION WITH FILTER SYNTAX:\n",
    "    \n",
    "<list name> = [<operation on item> for <item> in <list> if <condition on item>]"
   ]
  },
  {
   "cell_type": "markdown",
   "metadata": {},
   "source": [
    "### * Only adds elements for `<item>`s which satisfy the `<condition>`.  \n",
    "\n",
    "### * Let's get a list of squares of only odd elements."
   ]
  },
  {
   "cell_type": "code",
   "execution_count": null,
   "metadata": {},
   "outputs": [],
   "source": [
    "# EXAMPLE 7c: Square the odd elements in the list\n",
    "\n",
    "old = [5, 3, 8, 20, 17, 20, 64]\n",
    "new = ###??????\n",
    "print(new)"
   ]
  },
  {
   "cell_type": "markdown",
   "metadata": {},
   "source": [
    "### There are many examples where list comprehension can be used, here are some of my favorites."
   ]
  },
  {
   "cell_type": "code",
   "execution_count": null,
   "metadata": {},
   "outputs": [],
   "source": [
    "# Example 7d: Transposing a 2d list\n",
    "mat = [[1, 2, 3],\n",
    "    [4, 5, 6],\n",
    "    [7, 8, 9]]\n",
    "\n",
    "transmat = [[row[i] for row in mat] for i in [0, 1, 2]]\n",
    "\n",
    "\n",
    "# Example 7e: Flatten a 2d list\n",
    "\n",
    "flat = [x for row in mat for x in row]\n"
   ]
  },
  {
   "cell_type": "code",
   "execution_count": null,
   "metadata": {},
   "outputs": [],
   "source": []
  }
 ],
 "metadata": {
  "kernelspec": {
   "display_name": "Python 3 (ipykernel)",
   "language": "python",
   "name": "python3"
  },
  "language_info": {
   "codemirror_mode": {
    "name": "ipython",
    "version": 3
   },
   "file_extension": ".py",
   "mimetype": "text/x-python",
   "name": "python",
   "nbconvert_exporter": "python",
   "pygments_lexer": "ipython3",
   "version": "3.12.4"
  },
  "name": "_merged_merged"
 },
 "nbformat": 4,
 "nbformat_minor": 4
}
