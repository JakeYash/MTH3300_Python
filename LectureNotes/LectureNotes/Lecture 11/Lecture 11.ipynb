{
 "cells": [
  {
   "cell_type": "markdown",
   "metadata": {},
   "source": [
    "# Lecture 11\n",
    "\n",
    "### File Objects; Writing to File Objects; Saving `n` Entries; Max/Min; Searching; Searching with Position (and `break`); Updating Lists; Indices Versus Values; Turtles"
   ]
  },
  {
   "cell_type": "markdown",
   "metadata": {},
   "source": [
    "# 1. File Objects\n",
    "\n",
    "### * Python provides a way to directly read from and write to files (e.g. Word files, Excel spreadsheets, PDFs, MP3s, JPEGs, web documents, etc.)\n",
    "\n",
    "### * Today we'll focus on writing to `.txt` files\n"
   ]
  },
  {
   "cell_type": "code",
   "execution_count": 1,
   "metadata": {},
   "outputs": [
    {
     "ename": "SyntaxError",
     "evalue": "invalid syntax (814936706.py, line 1)",
     "output_type": "error",
     "traceback": [
      "\u001b[0;36m  Cell \u001b[0;32mIn[1], line 1\u001b[0;36m\u001b[0m\n\u001b[0;31m    CREATING AND CLOSING FILE OBJECTS SYNTAX\u001b[0m\n\u001b[0m             ^\u001b[0m\n\u001b[0;31mSyntaxError\u001b[0m\u001b[0;31m:\u001b[0m invalid syntax\n"
     ]
    }
   ],
   "source": [
    "CREATING AND CLOSING FILE OBJECTS SYNTAX\n",
    "\n",
    "  OPEN A FILE FOR WRITING:\n",
    "\n",
    "<fileobj var> = open('<actual file name>', 'w')\n",
    "\n",
    "  CLOSE A FILE:\n",
    "\n",
    "<fileobj var>.close()"
   ]
  },
  {
   "cell_type": "markdown",
   "metadata": {},
   "source": [
    "### * A file object is a variable which is associated to a file.  \n",
    "\n",
    "### * When you `open()` a file in writing mode (`'w'`), you will be writing over its contents, so be careful! (If no file exists with the given name, one will be created.) \n",
    "\n",
    "### * The file name you supply needs to including the extension. By default, the file will be written into the same folder as your Python script. \n",
    "\n",
    "### * Be sure to close any files you open when you are done!"
   ]
  },
  {
   "cell_type": "code",
   "execution_count": 23,
   "metadata": {},
   "outputs": [
    {
     "name": "stdout",
     "output_type": "stream",
     "text": [
      "<class '_io.TextIOWrapper'>\n",
      "<_io.TextIOWrapper name='blanky.txt' mode='w' encoding='UTF-8'>\n"
     ]
    }
   ],
   "source": [
    "# EXAMPLE 1a: Creating file objects\n",
    "\n",
    "# Create a blank file\n",
    "blanky_blank = open('blanky.txt', 'w')\n",
    "\n",
    "blanky_blank.write('yes\\n\\n\\nno')\n",
    "\n",
    "print(type(blanky_blank))\n",
    "print(blanky_blank)\n",
    "\n",
    "blanky_blank.close() # Always close file objects!\n",
    "\n",
    "open('blanky.txt', 'w')\n",
    "\n",
    "blanky_blank.write('oiuewhfioueh')\n",
    "\n",
    "blanky_blank.close()"
   ]
  },
  {
   "cell_type": "markdown",
   "metadata": {},
   "source": [
    "<br><br><br><br><br><br><br><br><br><br>\n",
    "\n",
    "\n",
    "# 2. Writing to File Objects"
   ]
  },
  {
   "cell_type": "code",
   "execution_count": null,
   "metadata": {},
   "outputs": [],
   "source": [
    "WRITE A STRING INTO A (WRITING-MODE) FILE:\n",
    " \n",
    "\n",
    "<fileobj var>.write(<string>)\n",
    "                       ^\n",
    "                       |\n",
    "                       |\n",
    "                    SINGLE STRING VALUE   (no ints! no floats! no commas!)"
   ]
  },
  {
   "cell_type": "markdown",
   "metadata": {},
   "source": [
    "### * When you `.write()` a string to a file object, that string will be inserted into the file.  You can write several strings to a file; they will be placed in the file one after another, without spaces in between. \n",
    "\n",
    "### * Note: you don't have to write an `=` sign with `.write()`.  The `.write()` at the end of a file object variable is an instruction in and of itself!\n",
    "\n"
   ]
  },
  {
   "cell_type": "code",
   "execution_count": 59,
   "metadata": {},
   "outputs": [
    {
     "ename": "ValueError",
     "evalue": "I/O operation on closed file.",
     "output_type": "error",
     "traceback": [
      "\u001b[0;31m---------------------------------------------------------------------------\u001b[0m",
      "\u001b[0;31mValueError\u001b[0m                                Traceback (most recent call last)",
      "Cell \u001b[0;32mIn[59], line 21\u001b[0m\n\u001b[1;32m     18\u001b[0m \u001b[38;5;28mopen\u001b[39m(\u001b[38;5;124m'\u001b[39m\u001b[38;5;124mstuff.txt\u001b[39m\u001b[38;5;124m'\u001b[39m, \u001b[38;5;124m'\u001b[39m\u001b[38;5;124mw\u001b[39m\u001b[38;5;124m'\u001b[39m)\n\u001b[1;32m     19\u001b[0m \u001b[38;5;66;03m# that doesnt work bc stf still has the old stuff.txt, which was overwrited\u001b[39;00m\n\u001b[1;32m     20\u001b[0m \u001b[38;5;66;03m# stf = open('stuff.txt', 'w')\u001b[39;00m\n\u001b[0;32m---> 21\u001b[0m stf\u001b[38;5;241m.\u001b[39mwrite(\u001b[38;5;124m'\u001b[39m\u001b[38;5;124mWhere does this go?\u001b[39m\u001b[38;5;124m'\u001b[39m)\n\u001b[1;32m     22\u001b[0m stf\u001b[38;5;241m.\u001b[39mclose()\n",
      "\u001b[0;31mValueError\u001b[0m: I/O operation on closed file."
     ]
    }
   ],
   "source": [
    "# EXAMPLE 2a: Writing and file objects\n",
    "\n",
    "stf = open('stuff.txt', 'w')\n",
    "\n",
    "first = 'Start'\n",
    "stf.write(first)\n",
    "\n",
    "stf.write('Notice where this goes.')\n",
    "\n",
    "also = 'If\\nyou\\nwant\\nnewlines\\nthis is how you get them.'\n",
    "stf.write(also)\n",
    "\n",
    "stf.close() # Don't forget to close!\n",
    "\n",
    "\n",
    "\n",
    "\n",
    "# open('stuff.txt', 'w') \n",
    "# that doesnt work bc stf still has the old stuff.txt, which was overwrited, also gives no variable to close\n",
    "stf = open('stuff.txt', 'w')\n",
    "stf.write('Where does this go?')\n",
    "stf.close()"
   ]
  },
  {
   "cell_type": "markdown",
   "metadata": {},
   "source": [
    "<br><br><br><br><br><br><br><br><br><br>\n",
    "\n",
    "### * Be aware that you can only place **single string values** into a `.write()` command.  It's not like print: you can't put commas, or numerical values.  \n",
    "\n",
    "### * But f-strings help!"
   ]
  },
  {
   "cell_type": "code",
   "execution_count": null,
   "metadata": {},
   "outputs": [],
   "source": [
    "# EXAMPLE 2b: Do's and don'ts\n",
    "\n",
    "another = open('more.txt', 'w')\n",
    "\n",
    "another.write('This' , 'does', 'not', 'work')\n",
    "another.write('But' + 'this' + 'does')\n",
    "\n",
    "x = 17\n",
    "another.write(x)        # Doesn't work!\n",
    "another.write(f'{x}')   # This does!\n",
    "\n",
    "another.close()"
   ]
  },
  {
   "cell_type": "markdown",
   "metadata": {},
   "source": [
    "<br><br><br><br><br><br><br><br><br><br>\n",
    "\n",
    "### * Let's write a nametag factory.  The user inputs their name, and the program will then write `Hello my name is <blank>.` into a file named `nametag.txt`."
   ]
  },
  {
   "cell_type": "code",
   "execution_count": 74,
   "metadata": {},
   "outputs": [
    {
     "name": "stdin",
     "output_type": "stream",
     "text": [
      "Enter name:  Jake\n"
     ]
    }
   ],
   "source": [
    "# EXAMPLE 2c: Nametag factory\n",
    "# import _io\n",
    "\n",
    "n = input('Enter name: ')\n",
    "\n",
    "#\n",
    "# CODE HERE\n",
    "#\n",
    "\n",
    "# help(_io.open)\n",
    "\n",
    "nt = open('nametag.txt','w')\n",
    "nt.write(f'Hello my name is \\n{n:^16}')\n",
    "nt.close()\n"
   ]
  },
  {
   "cell_type": "markdown",
   "metadata": {},
   "source": [
    "<br><br><br><br><br>\n",
    "<br><br><br><br><br>\n",
    "\n",
    "# 3. Saving `n` nametag entries to a file\n",
    "\n",
    "#### * What if you want to accept a list of `n` names from the user?\n",
    "\n",
    "\n",
    "#### * You need:\n",
    "\n",
    "#### --- a loop that runs `n` times, and\n",
    "\n",
    "#### --- and a file that starts out empty;\n",
    "\n",
    "#### --- each time through the loop, ask user for next name, creates a nametag, and saves it to the list"
   ]
  },
  {
   "cell_type": "code",
   "execution_count": 68,
   "metadata": {},
   "outputs": [
    {
     "name": "stdin",
     "output_type": "stream",
     "text": [
      "How many names do you want to store?  5\n",
      "Gimme a name. abcde\n",
      "Gimme a name. fghij\n",
      "Gimme a name. klmno\n",
      "Gimme a name. pqrst\n",
      "Gimme a name. uvwxyz\n"
     ]
    }
   ],
   "source": [
    "# EXAMPLE 3a: Grab n names\n",
    "\n",
    "num_names = int(input('How many names do you want to store? '))\n",
    "\n",
    "name_tags = open('nametags.txt','w')\n",
    "\n",
    "for i in range(num_names):\n",
    "    name = input('Gimme a name.')\n",
    "    name_tags.write('Hello my name is ' + name + '\\n')\n",
    "\n",
    "name_tags.close()"
   ]
  },
  {
   "cell_type": "markdown",
   "metadata": {},
   "source": [
    "\n",
    "<br><br><br><br><br>\n",
    "<br><br><br><br><br>\n",
    "\n",
    "\n",
    "# 4.  Max/Min\n",
    "\n",
    "#### * How do we find max value of an unsorted list?\n",
    "\n",
    "#### * Think about how you do it as a human."
   ]
  },
  {
   "cell_type": "code",
   "execution_count": 11,
   "metadata": {},
   "outputs": [
    {
     "name": "stdout",
     "output_type": "stream",
     "text": [
      "95\n"
     ]
    }
   ],
   "source": [
    "# EXAMPLE 4a: Maximum\n",
    "\n",
    "big_list = [15,72,1,84,52,48,83,26,94,58,73,95,51,73]\n",
    "\n",
    "\n",
    "# First, we initialize the current largest\n",
    "current_largest = my_list[0]\n",
    "\n",
    "# Then, we go through the list.  If a number is greater than \"largest\", we\n",
    "# reassign \"largest\" to be that number.\n",
    "for num in big_list:\n",
    "    if (num > current_largest):\n",
    "        current_largest = num\n",
    "\n",
    "    \n",
    "print(current_largest)"
   ]
  },
  {
   "cell_type": "markdown",
   "metadata": {},
   "source": [
    "\n",
    "<br><br><br><br><br>\n",
    "<br><br><br><br><br>\n",
    "\n",
    "\n",
    "\n",
    "# 5. Searching\n",
    "\n",
    "#### * Use a `bool` variable, containing answer to \"have we found it yet?\""
   ]
  },
  {
   "cell_type": "code",
   "execution_count": 17,
   "metadata": {},
   "outputs": [
    {
     "name": "stdin",
     "output_type": "stream",
     "text": [
      "Input a name to search for:  qwertyuiop\n"
     ]
    },
    {
     "name": "stdout",
     "output_type": "stream",
     "text": [
      "Lily\n",
      "Nobody likes your name. Choose a better name.\n"
     ]
    }
   ],
   "source": [
    "# EXAMPLE 5a: Search\n",
    "\n",
    "# 30 popular baby names\n",
    "names = ['Jacob', 'Sophia', 'Mason', 'Isabella', 'William', 'Emma', 'Jayden',\n",
    "         'Olivia', 'Noah', 'Ava', 'Michael', 'Emily', 'Ethan', 'Abigail',\n",
    "         'Alexander', 'Madison', 'Aiden', 'Mia', 'Daniel', 'Chloe', 'Anthony',\n",
    "         'Elizabeth', 'Matthew', 'Ella', 'Elijah', 'Addison', 'Joshua', 'Natalie', 'Liam', 'Lily']\n",
    "# Notice that a list can extend across several lines.\n",
    "\n",
    "\n",
    "search_entry = input('Input a name to search for: ')\n",
    "\n",
    "# found is the flag.  We will set it to be true if and when we find the name; \n",
    "# but at the beginning, we have not found the name yet.\n",
    "found = False\n",
    "\n",
    "for current_name in names:\n",
    "    if current_name == search_entry:\n",
    "        found = True    \n",
    "        break #dont have to do break but saves time\n",
    "if found:\n",
    "    print(search_entry + ' is in the list!')\n",
    "else:\n",
    "    print('Nobody likes your name. Choose a better name.')"
   ]
  },
  {
   "cell_type": "markdown",
   "metadata": {},
   "source": [
    "#### * About the `else:`...\n",
    "\n",
    "#### * Remember that `if found == True:` is the same as `if found:`\n",
    "\n",
    "\n",
    "<br><br><br><br><br>\n",
    "<br><br><br><br><br>\n"
   ]
  },
  {
   "cell_type": "markdown",
   "metadata": {},
   "source": [
    "# 6. Searching with Position (and `break`)\n",
    "\n",
    "#### * Use a parallel counter, to find the position in the list where the name occurs.\n",
    "\n",
    "#### * Once you find it, `break` immediately exits a loop."
   ]
  },
  {
   "cell_type": "code",
   "execution_count": 21,
   "metadata": {},
   "outputs": [
    {
     "name": "stdin",
     "output_type": "stream",
     "text": [
      "Input a name to search for:  Jacob\n"
     ]
    },
    {
     "name": "stdout",
     "output_type": "stream",
     "text": [
      "Jacob is in the list, at position 0\n"
     ]
    }
   ],
   "source": [
    "# EXAMPLE 5a: Search, with a parallel counter\n",
    "\n",
    "\n",
    "names = ['Jacob', 'Sophia', 'Mason', 'Isabella', 'William', 'Emma', 'Jayden',\n",
    "         'Olivia', 'Noah', 'Ava', 'Michael', 'Emily', 'Ethan', 'Abigail',\n",
    "         'Alexander', 'Madison', 'Aiden', 'Mia', 'Daniel', 'Chloe', 'Anthony',\n",
    "         'Elizabeth', 'Matthew', 'Ella', 'Elijah', 'Addison', 'Joshua', 'Natalie', 'Liam', 'Lily']\n",
    "# In the beginning, not found\n",
    "found = False\n",
    "\n",
    "search_entry = input('Input a name to search for: ')\n",
    "\n",
    "\n",
    "pos = 'none'\n",
    "current_pos = 0\n",
    "\n",
    "for current_name in names:\n",
    "    if current_name == search_entry:\n",
    "        found = True\n",
    "        pos = current_pos\n",
    "        #break is best here\n",
    "    current_pos += 1\n",
    "    \n",
    "    \n",
    "    \n",
    "if found:\n",
    "    print(f'{search_entry} is in the list, at position {pos}')\n",
    "else:\n",
    "    print('Nobody likes your name. Choose a better name.')"
   ]
  },
  {
   "cell_type": "markdown",
   "metadata": {},
   "source": [
    "\n",
    "<br><br><br><br><br>\n",
    "<br><br><br><br><br>\n",
    "\n",
    "\n",
    "# 7. Updating Lists\n",
    "\n",
    "#### * Let's say you have a list, and want to add 1 to every entry.\n",
    "\n",
    "#### * Why doesn't this work?"
   ]
  },
  {
   "cell_type": "code",
   "execution_count": 84,
   "metadata": {},
   "outputs": [
    {
     "name": "stdout",
     "output_type": "stream",
     "text": [
      "[41, 63, 72, 85, 94, 28]\n"
     ]
    }
   ],
   "source": [
    "# EXAMPLE 7a: Bad Update\n",
    "\n",
    "my_list = [41,63,72,85,94,28]\n",
    "\n",
    "for x in my_list:\n",
    "    x += 1\n",
    "\n",
    "print(my_list)"
   ]
  },
  {
   "cell_type": "markdown",
   "metadata": {},
   "source": [
    "\n",
    "<br><br><br><br><br>\n",
    "<br><br><br><br><br>\n",
    "#### * Problem: code\n",
    "\n",
    "#### --- creates a new variable `x`,\n",
    "\n",
    "#### --- assigns `x` to be values from `my_list`,\n",
    "\n",
    "#### --- and updates `x`!!! Not `my_list`.\n",
    "\n",
    "#### * Solution: use indices."
   ]
  },
  {
   "cell_type": "code",
   "execution_count": 86,
   "metadata": {},
   "outputs": [
    {
     "name": "stdout",
     "output_type": "stream",
     "text": [
      "[42, 64, 73, 86, 95, 29]\n"
     ]
    }
   ],
   "source": [
    "# EXAMPLE 7b: Better Update\n",
    "\n",
    "my_list = [41,63,72,85,94,28]\n",
    "\n",
    "\n",
    "for idx in range(len(my_list)):\n",
    "    # Instead of updating some other variable that copies my_list's values,\n",
    "    # we are updating my_list directly!  But we have to loop over INDICES to get this behavior.\n",
    "    my_list[idx] += 1\n",
    "\n",
    "print(my_list)"
   ]
  },
  {
   "cell_type": "markdown",
   "metadata": {},
   "source": [
    "\n",
    "<br><br><br><br><br>\n",
    "<br><br><br><br><br>\n",
    "\n",
    "\n",
    "\n",
    "# 8. Indices Versus Values\n",
    "\n",
    "#### * We've just traversed a list by **index** rather that by **value**.  \n",
    "\n",
    "#### * I.e., writing\n",
    "\n",
    "`for i in range(len(x)):`\n",
    "\n",
    "#### instead of \n",
    "\n",
    "`for i in x:`\n",
    "\n",
    "#### * Useful for two big reasons:\n",
    "\n",
    "#### 1. updating lists, as we've just seen\n",
    "\n",
    "#### 2. *comparing different elements within the same list to each other.*\n",
    "\n",
    "#### * Example of the latter -- checking if a list is sorted: need to compare element i to element i+1\n"
   ]
  },
  {
   "cell_type": "code",
   "execution_count": null,
   "metadata": {},
   "outputs": [],
   "source": [
    "# EXAMPLE 8a: Is this list sorted?\n",
    "\n",
    "my_list = [4, 8, 12, 24, 28, 26, 30, 32, 40]\n",
    "\n",
    "# Let's check if this list is sorted, but comparing each element to its succesor.\n",
    "is_sorted = True\n",
    "\n",
    "for idx in range(len(my_list) - 1):\n",
    "    if my_list[idx] > my_list[idx+1]:\n",
    "        print(idx, my_list[idx], my_list[idx+1], '!!!')\n",
    "        is_sorted = False\n",
    "        break\n",
    "        \n",
    "if is_sorted:\n",
    "    print('It\\'s sorted!')\n",
    "else:\n",
    "    print('Not sorted!')    "
   ]
  },
  {
   "cell_type": "markdown",
   "metadata": {},
   "source": [
    "<br><br><br><br><br><br><br><br><br><br>\n",
    "\n",
    "# 9. Turtles\n",
    "\n",
    "#### * Designed for education and fun!"
   ]
  },
  {
   "cell_type": "code",
   "execution_count": 89,
   "metadata": {},
   "outputs": [
    {
     "ename": "Terminator",
     "evalue": "",
     "output_type": "error",
     "traceback": [
      "\u001b[0;31m---------------------------------------------------------------------------\u001b[0m",
      "\u001b[0;31mTerminator\u001b[0m                                Traceback (most recent call last)",
      "Cell \u001b[0;32mIn[89], line 13\u001b[0m\n\u001b[1;32m     11\u001b[0m \u001b[38;5;28;01mimport\u001b[39;00m \u001b[38;5;21;01mturtle\u001b[39;00m\n\u001b[1;32m     12\u001b[0m here_is_the_screen \u001b[38;5;241m=\u001b[39m turtle\u001b[38;5;241m.\u001b[39mScreen() \n\u001b[0;32m---> 13\u001b[0m leonardo \u001b[38;5;241m=\u001b[39m turtle\u001b[38;5;241m.\u001b[39mTurtle()  \n\u001b[1;32m     16\u001b[0m \u001b[38;5;66;03m# Now, let's control Leonardo.  He always starts in the center, facing right\u001b[39;00m\n\u001b[1;32m     17\u001b[0m leonardo\u001b[38;5;241m.\u001b[39mforward(\u001b[38;5;241m100\u001b[39m) \u001b[38;5;66;03m# 100 pixels\u001b[39;00m\n",
      "File \u001b[0;32m~/Desktop/anaconda3/lib/python3.12/turtle.py:3876\u001b[0m, in \u001b[0;36mTurtle.__init__\u001b[0;34m(self, shape, undobuffersize, visible)\u001b[0m\n\u001b[1;32m   3874\u001b[0m \u001b[38;5;28;01mif\u001b[39;00m Turtle\u001b[38;5;241m.\u001b[39m_screen \u001b[38;5;129;01mis\u001b[39;00m \u001b[38;5;28;01mNone\u001b[39;00m:\n\u001b[1;32m   3875\u001b[0m     Turtle\u001b[38;5;241m.\u001b[39m_screen \u001b[38;5;241m=\u001b[39m Screen()\n\u001b[0;32m-> 3876\u001b[0m RawTurtle\u001b[38;5;241m.\u001b[39m\u001b[38;5;21m__init__\u001b[39m(\u001b[38;5;28mself\u001b[39m, Turtle\u001b[38;5;241m.\u001b[39m_screen,\n\u001b[1;32m   3877\u001b[0m                    shape\u001b[38;5;241m=\u001b[39mshape,\n\u001b[1;32m   3878\u001b[0m                    undobuffersize\u001b[38;5;241m=\u001b[39mundobuffersize,\n\u001b[1;32m   3879\u001b[0m                    visible\u001b[38;5;241m=\u001b[39mvisible)\n",
      "File \u001b[0;32m~/Desktop/anaconda3/lib/python3.12/turtle.py:2565\u001b[0m, in \u001b[0;36mRawTurtle.__init__\u001b[0;34m(self, canvas, shape, undobuffersize, visible)\u001b[0m\n\u001b[1;32m   2563\u001b[0m \u001b[38;5;28mself\u001b[39m\u001b[38;5;241m.\u001b[39m_undobuffersize \u001b[38;5;241m=\u001b[39m undobuffersize\n\u001b[1;32m   2564\u001b[0m \u001b[38;5;28mself\u001b[39m\u001b[38;5;241m.\u001b[39mundobuffer \u001b[38;5;241m=\u001b[39m Tbuffer(undobuffersize)\n\u001b[0;32m-> 2565\u001b[0m \u001b[38;5;28mself\u001b[39m\u001b[38;5;241m.\u001b[39m_update()\n",
      "File \u001b[0;32m~/Desktop/anaconda3/lib/python3.12/turtle.py:2668\u001b[0m, in \u001b[0;36mRawTurtle._update\u001b[0;34m(self)\u001b[0m\n\u001b[1;32m   2666\u001b[0m     \u001b[38;5;28;01mreturn\u001b[39;00m\n\u001b[1;32m   2667\u001b[0m \u001b[38;5;28;01melif\u001b[39;00m screen\u001b[38;5;241m.\u001b[39m_tracing \u001b[38;5;241m==\u001b[39m \u001b[38;5;241m1\u001b[39m:\n\u001b[0;32m-> 2668\u001b[0m     \u001b[38;5;28mself\u001b[39m\u001b[38;5;241m.\u001b[39m_update_data()\n\u001b[1;32m   2669\u001b[0m     \u001b[38;5;28mself\u001b[39m\u001b[38;5;241m.\u001b[39m_drawturtle()\n\u001b[1;32m   2670\u001b[0m     screen\u001b[38;5;241m.\u001b[39m_update()                  \u001b[38;5;66;03m# TurtleScreenBase\u001b[39;00m\n",
      "File \u001b[0;32m~/Desktop/anaconda3/lib/python3.12/turtle.py:2654\u001b[0m, in \u001b[0;36mRawTurtle._update_data\u001b[0;34m(self)\u001b[0m\n\u001b[1;32m   2653\u001b[0m \u001b[38;5;28;01mdef\u001b[39;00m \u001b[38;5;21m_update_data\u001b[39m(\u001b[38;5;28mself\u001b[39m):\n\u001b[0;32m-> 2654\u001b[0m     \u001b[38;5;28mself\u001b[39m\u001b[38;5;241m.\u001b[39mscreen\u001b[38;5;241m.\u001b[39m_incrementudc()\n\u001b[1;32m   2655\u001b[0m     \u001b[38;5;28;01mif\u001b[39;00m \u001b[38;5;28mself\u001b[39m\u001b[38;5;241m.\u001b[39mscreen\u001b[38;5;241m.\u001b[39m_updatecounter \u001b[38;5;241m!=\u001b[39m \u001b[38;5;241m0\u001b[39m:\n\u001b[1;32m   2656\u001b[0m         \u001b[38;5;28;01mreturn\u001b[39;00m\n",
      "File \u001b[0;32m~/Desktop/anaconda3/lib/python3.12/turtle.py:1284\u001b[0m, in \u001b[0;36mTurtleScreen._incrementudc\u001b[0;34m(self)\u001b[0m\n\u001b[1;32m   1282\u001b[0m \u001b[38;5;28;01mif\u001b[39;00m \u001b[38;5;129;01mnot\u001b[39;00m TurtleScreen\u001b[38;5;241m.\u001b[39m_RUNNING:\n\u001b[1;32m   1283\u001b[0m     TurtleScreen\u001b[38;5;241m.\u001b[39m_RUNNING \u001b[38;5;241m=\u001b[39m \u001b[38;5;28;01mTrue\u001b[39;00m\n\u001b[0;32m-> 1284\u001b[0m     \u001b[38;5;28;01mraise\u001b[39;00m Terminator\n\u001b[1;32m   1285\u001b[0m \u001b[38;5;28;01mif\u001b[39;00m \u001b[38;5;28mself\u001b[39m\u001b[38;5;241m.\u001b[39m_tracing \u001b[38;5;241m>\u001b[39m \u001b[38;5;241m0\u001b[39m:\n\u001b[1;32m   1286\u001b[0m     \u001b[38;5;28mself\u001b[39m\u001b[38;5;241m.\u001b[39m_updatecounter \u001b[38;5;241m+\u001b[39m\u001b[38;5;241m=\u001b[39m \u001b[38;5;241m1\u001b[39m\n",
      "\u001b[0;31mTerminator\u001b[0m: "
     ]
    }
   ],
   "source": [
    "# EXAMPLE 9a: Intro to turtles\n",
    "\n",
    "# YOU MIGHT WANT TO CUT AND PASTE THIS CODE TO:\n",
    "#   https://trinket.io/turtle\n",
    "\n",
    "# To use turtles, you need to:\n",
    "# 1) import the turtle module\n",
    "# 2) create a screen variable: always write \"turtle.Screen()\" on the right side.\n",
    "# 3) create a turtle variable: always write \"turtle.Turtle()\" on the right side.\n",
    "\n",
    "import turtle\n",
    "here_is_the_screen = turtle.Screen() \n",
    "leonardo = turtle.Turtle()  \n",
    "\n",
    "\n",
    "# Now, let's control Leonardo.  He always starts in the center, facing right\n",
    "leonardo.forward(100) # 100 pixels\n",
    "leonardo.left(60) # Turns 60 degrees to the left of the direction he is currently facing\n",
    "leonardo.forward(100)\n",
    "leonardo.right(120)\n",
    "\n",
    "# If you want to move the turtle without having its trail drawn on the screen:\n",
    "leonardo.penup() \n",
    "leonardo.forward(200)\n",
    "leonardo.pendown() # And to resume drawing the trail...\n",
    "leonardo.left(240)\n",
    "leonardo.forward(300)\n",
    "\n",
    "\n",
    "turtle.done() #This is placed when your turtle can rest."
   ]
  },
  {
   "cell_type": "markdown",
   "metadata": {},
   "source": [
    "#### * Let's draw a hexagon."
   ]
  },
  {
   "cell_type": "code",
   "execution_count": 1,
   "metadata": {},
   "outputs": [],
   "source": [
    "# EXAMPLE 9b: A Hexagon\n",
    "\n",
    "import turtle\n",
    "tscr = turtle.Screen() \n",
    "raph = turtle.Turtle()  \n",
    "\n",
    "#\n",
    "# raph draws a hexagon???\n",
    "#\n",
    "\n",
    "raph.forward(100) \n",
    "raph.left(60) \n",
    "raph.forward(100)\n",
    "raph.left(60)\n",
    "\n",
    "raph.forward(100) \n",
    "raph.left(60) \n",
    "raph.forward(100)\n",
    "raph.left(60)\n",
    "\n",
    "raph.forward(100) \n",
    "raph.left(60) \n",
    "raph.forward(100)\n",
    "raph.left(60)\n",
    "\n",
    "turtle.done()"
   ]
  },
  {
   "cell_type": "code",
   "execution_count": null,
   "metadata": {},
   "outputs": [],
   "source": []
  }
 ],
 "metadata": {
  "kernelspec": {
   "display_name": "Python 3 (ipykernel)",
   "language": "python",
   "name": "python3"
  },
  "language_info": {
   "codemirror_mode": {
    "name": "ipython",
    "version": 3
   },
   "file_extension": ".py",
   "mimetype": "text/x-python",
   "name": "python",
   "nbconvert_exporter": "python",
   "pygments_lexer": "ipython3",
   "version": "3.12.4"
  },
  "name": "_merged_merged"
 },
 "nbformat": 4,
 "nbformat_minor": 4
}
