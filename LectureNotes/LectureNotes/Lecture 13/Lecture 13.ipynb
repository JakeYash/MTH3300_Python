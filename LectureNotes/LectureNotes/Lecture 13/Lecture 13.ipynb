{
 "cells": [
  {
   "cell_type": "markdown",
   "metadata": {},
   "source": [
    "# Lecture 13\n",
    "\n",
    "### `while` Loops; Anything `for` Can Do `while` Can Do; Input Validation and Exceptions; Indefinite Streams of Entry and Sentinels; Flag-Controlled Loops, and Guess-the-Number"
   ]
  },
  {
   "cell_type": "markdown",
   "metadata": {},
   "source": [
    "# 1. `while` Loops\n",
    "\n",
    "\n",
    "#### * **Definite loops** repeat a fixed number of times: once for every element in a list or range, where list is fixed before you initiate the loop.\n",
    "\n",
    "#### * Some loops are **indefinite** -- you don't know how many iterations until right before loop ceases to repeat.\n",
    "\n"
   ]
  },
  {
   "cell_type": "code",
   "execution_count": null,
   "metadata": {},
   "outputs": [],
   "source": [
    "# EXAMPLE 1a: Password\n",
    "\n",
    "correct_password = 'Hamburger'\n",
    "\n",
    "user_guess = input('Guess the password: ')\n",
    "\n",
    "number_of_guesses = 1\n",
    "\n",
    "while user_guess != correct_password:\n",
    "    print('Wrong!')\n",
    "    user_guess = input('Guess again: ')\n",
    "    number_of_guesses += 1\n",
    "    \n",
    "print(f'Took you long enough: {number_of_guesses} guesses.')\n"
   ]
  },
  {
   "cell_type": "markdown",
   "metadata": {},
   "source": [
    "#### * For indefinite loops like this, `while` loops are useful.\n",
    "\n",
    "<br><br><br><br><br>\n",
    "<br><br><br><br><br>"
   ]
  },
  {
   "cell_type": "code",
   "execution_count": null,
   "metadata": {},
   "outputs": [],
   "source": [
    "WHILE LOOP SYNTAX:\n",
    "    \n",
    "\"... previous statements ...\"\n",
    "while <logical expression>:\n",
    "    <body, indented>\n",
    "\"... further statements, unindented...\"\n",
    "\n",
    "    \n"
   ]
  },
  {
   "cell_type": "markdown",
   "metadata": {},
   "source": [
    "\n",
    "#### * First, `<logical expression>` will evaluate.\n",
    "\n",
    "#### * If it evaluates to `True`, `<body>` will execute.\n",
    "\n",
    "#### * Once that is finished, `<logical expression>` will evaluate again...\n",
    "\n",
    "#### * ...and if it is `True`, `<body>` will execute again, with all pertinent variables using their latest values.\n",
    "\n",
    "#### * And so on until `<logical expression>` evaluates to `False`.  At this point, statements after the `<body>` are executed.\n",
    "\n",
    "#### * Flowchart:\n",
    "\n",
    "![IMAGE NOT FOUND!!!!!!!!!!](whileflow.png)\n",
    "\n",
    "<br><br><br><br><br>\n",
    "<br><br><br><br><br>"
   ]
  },
  {
   "cell_type": "code",
   "execution_count": 1,
   "metadata": {},
   "outputs": [
    {
     "name": "stdout",
     "output_type": "stream",
     "text": [
      "3 3\n",
      "6 3\n",
      "9 3\n",
      "3\n"
     ]
    }
   ],
   "source": [
    "# EXAMPLE 1b: Walkthrough\n",
    "# Can you follow what is happening here?\n",
    "# Once you know, taking away the quotations at the front.\n",
    "\n",
    "x = 0\n",
    "y = 3\n",
    "\n",
    "\n",
    "while x <  3 * y:\n",
    "    x += y\n",
    "    if x < 10:\n",
    "        y = 6 - y\n",
    "    print(x,y)\n",
    "    \n",
    "print(y)\n"
   ]
  },
  {
   "cell_type": "markdown",
   "metadata": {},
   "source": [
    "<br><br><br><br><br>\n",
    "<br><br><br><br><br>\n",
    "\n",
    "# 2. Anything `for` Can Do, `while` Can Do ~~Better~~ Worse"
   ]
  },
  {
   "cell_type": "markdown",
   "metadata": {},
   "source": [
    "#### * `while` loops are more general than `for` loops.\n",
    "\n",
    "#### * Here's a problem that doesn't need a `while` loop, but we'll do it with one anyway."
   ]
  },
  {
   "cell_type": "code",
   "execution_count": 11,
   "metadata": {},
   "outputs": [
    {
     "name": "stdout",
     "output_type": "stream",
     "text": [
      "99 bottles of beer on the wall, 99 bottles of beer\n",
      "If one of those bottles should happen to fall, 98 bottles of beer on the wall\n",
      "98 bottles of beer on the wall, 98 bottles of beer\n",
      "If one of those bottles should happen to fall, 97 bottles of beer on the wall\n",
      "97 bottles of beer on the wall, 97 bottles of beer\n",
      "If one of those bottles should happen to fall, 96 bottles of beer on the wall\n",
      "96 bottles of beer on the wall, 96 bottles of beer\n",
      "If one of those bottles should happen to fall, 95 bottles of beer on the wall\n",
      "95 bottles of beer on the wall, 95 bottles of beer\n",
      "If one of those bottles should happen to fall, 94 bottles of beer on the wall\n",
      "94 bottles of beer on the wall, 94 bottles of beer\n",
      "If one of those bottles should happen to fall, 93 bottles of beer on the wall\n",
      "93 bottles of beer on the wall, 93 bottles of beer\n",
      "If one of those bottles should happen to fall, 92 bottles of beer on the wall\n",
      "92 bottles of beer on the wall, 92 bottles of beer\n",
      "If one of those bottles should happen to fall, 91 bottles of beer on the wall\n",
      "91 bottles of beer on the wall, 91 bottles of beer\n",
      "If one of those bottles should happen to fall, 90 bottles of beer on the wall\n",
      "90 bottles of beer on the wall, 90 bottles of beer\n",
      "If one of those bottles should happen to fall, 89 bottles of beer on the wall\n",
      "89 bottles of beer on the wall, 89 bottles of beer\n",
      "If one of those bottles should happen to fall, 88 bottles of beer on the wall\n",
      "88 bottles of beer on the wall, 88 bottles of beer\n",
      "If one of those bottles should happen to fall, 87 bottles of beer on the wall\n",
      "87 bottles of beer on the wall, 87 bottles of beer\n",
      "If one of those bottles should happen to fall, 86 bottles of beer on the wall\n",
      "86 bottles of beer on the wall, 86 bottles of beer\n",
      "If one of those bottles should happen to fall, 85 bottles of beer on the wall\n",
      "85 bottles of beer on the wall, 85 bottles of beer\n",
      "If one of those bottles should happen to fall, 84 bottles of beer on the wall\n",
      "84 bottles of beer on the wall, 84 bottles of beer\n",
      "If one of those bottles should happen to fall, 83 bottles of beer on the wall\n",
      "83 bottles of beer on the wall, 83 bottles of beer\n",
      "If one of those bottles should happen to fall, 82 bottles of beer on the wall\n",
      "82 bottles of beer on the wall, 82 bottles of beer\n",
      "If one of those bottles should happen to fall, 81 bottles of beer on the wall\n",
      "81 bottles of beer on the wall, 81 bottles of beer\n",
      "If one of those bottles should happen to fall, 80 bottles of beer on the wall\n",
      "80 bottles of beer on the wall, 80 bottles of beer\n",
      "If one of those bottles should happen to fall, 79 bottles of beer on the wall\n",
      "79 bottles of beer on the wall, 79 bottles of beer\n",
      "If one of those bottles should happen to fall, 78 bottles of beer on the wall\n",
      "78 bottles of beer on the wall, 78 bottles of beer\n",
      "If one of those bottles should happen to fall, 77 bottles of beer on the wall\n",
      "77 bottles of beer on the wall, 77 bottles of beer\n",
      "If one of those bottles should happen to fall, 76 bottles of beer on the wall\n",
      "76 bottles of beer on the wall, 76 bottles of beer\n",
      "If one of those bottles should happen to fall, 75 bottles of beer on the wall\n",
      "75 bottles of beer on the wall, 75 bottles of beer\n",
      "If one of those bottles should happen to fall, 74 bottles of beer on the wall\n",
      "74 bottles of beer on the wall, 74 bottles of beer\n",
      "If one of those bottles should happen to fall, 73 bottles of beer on the wall\n",
      "73 bottles of beer on the wall, 73 bottles of beer\n",
      "If one of those bottles should happen to fall, 72 bottles of beer on the wall\n",
      "72 bottles of beer on the wall, 72 bottles of beer\n",
      "If one of those bottles should happen to fall, 71 bottles of beer on the wall\n",
      "71 bottles of beer on the wall, 71 bottles of beer\n",
      "If one of those bottles should happen to fall, 70 bottles of beer on the wall\n",
      "70 bottles of beer on the wall, 70 bottles of beer\n",
      "If one of those bottles should happen to fall, 69 bottles of beer on the wall\n",
      "69 bottles of beer on the wall, 69 bottles of beer\n",
      "If one of those bottles should happen to fall, 68 bottles of beer on the wall\n",
      "68 bottles of beer on the wall, 68 bottles of beer\n",
      "If one of those bottles should happen to fall, 67 bottles of beer on the wall\n",
      "67 bottles of beer on the wall, 67 bottles of beer\n",
      "If one of those bottles should happen to fall, 66 bottles of beer on the wall\n",
      "66 bottles of beer on the wall, 66 bottles of beer\n",
      "If one of those bottles should happen to fall, 65 bottles of beer on the wall\n",
      "65 bottles of beer on the wall, 65 bottles of beer\n",
      "If one of those bottles should happen to fall, 64 bottles of beer on the wall\n",
      "64 bottles of beer on the wall, 64 bottles of beer\n",
      "If one of those bottles should happen to fall, 63 bottles of beer on the wall\n",
      "63 bottles of beer on the wall, 63 bottles of beer\n",
      "If one of those bottles should happen to fall, 62 bottles of beer on the wall\n",
      "62 bottles of beer on the wall, 62 bottles of beer\n",
      "If one of those bottles should happen to fall, 61 bottles of beer on the wall\n",
      "61 bottles of beer on the wall, 61 bottles of beer\n",
      "If one of those bottles should happen to fall, 60 bottles of beer on the wall\n",
      "60 bottles of beer on the wall, 60 bottles of beer\n",
      "If one of those bottles should happen to fall, 59 bottles of beer on the wall\n",
      "59 bottles of beer on the wall, 59 bottles of beer\n",
      "If one of those bottles should happen to fall, 58 bottles of beer on the wall\n",
      "58 bottles of beer on the wall, 58 bottles of beer\n",
      "If one of those bottles should happen to fall, 57 bottles of beer on the wall\n",
      "57 bottles of beer on the wall, 57 bottles of beer\n",
      "If one of those bottles should happen to fall, 56 bottles of beer on the wall\n",
      "56 bottles of beer on the wall, 56 bottles of beer\n",
      "If one of those bottles should happen to fall, 55 bottles of beer on the wall\n",
      "55 bottles of beer on the wall, 55 bottles of beer\n",
      "If one of those bottles should happen to fall, 54 bottles of beer on the wall\n",
      "54 bottles of beer on the wall, 54 bottles of beer\n",
      "If one of those bottles should happen to fall, 53 bottles of beer on the wall\n",
      "53 bottles of beer on the wall, 53 bottles of beer\n",
      "If one of those bottles should happen to fall, 52 bottles of beer on the wall\n",
      "52 bottles of beer on the wall, 52 bottles of beer\n",
      "If one of those bottles should happen to fall, 51 bottles of beer on the wall\n",
      "51 bottles of beer on the wall, 51 bottles of beer\n",
      "If one of those bottles should happen to fall, 50 bottles of beer on the wall\n",
      "50 bottles of beer on the wall, 50 bottles of beer\n",
      "If one of those bottles should happen to fall, 49 bottles of beer on the wall\n",
      "49 bottles of beer on the wall, 49 bottles of beer\n",
      "If one of those bottles should happen to fall, 48 bottles of beer on the wall\n",
      "48 bottles of beer on the wall, 48 bottles of beer\n",
      "If one of those bottles should happen to fall, 47 bottles of beer on the wall\n",
      "47 bottles of beer on the wall, 47 bottles of beer\n",
      "If one of those bottles should happen to fall, 46 bottles of beer on the wall\n",
      "46 bottles of beer on the wall, 46 bottles of beer\n",
      "If one of those bottles should happen to fall, 45 bottles of beer on the wall\n",
      "45 bottles of beer on the wall, 45 bottles of beer\n",
      "If one of those bottles should happen to fall, 44 bottles of beer on the wall\n",
      "44 bottles of beer on the wall, 44 bottles of beer\n",
      "If one of those bottles should happen to fall, 43 bottles of beer on the wall\n",
      "43 bottles of beer on the wall, 43 bottles of beer\n",
      "If one of those bottles should happen to fall, 42 bottles of beer on the wall\n",
      "42 bottles of beer on the wall, 42 bottles of beer\n",
      "If one of those bottles should happen to fall, 41 bottles of beer on the wall\n",
      "41 bottles of beer on the wall, 41 bottles of beer\n",
      "If one of those bottles should happen to fall, 40 bottles of beer on the wall\n",
      "40 bottles of beer on the wall, 40 bottles of beer\n",
      "If one of those bottles should happen to fall, 39 bottles of beer on the wall\n",
      "39 bottles of beer on the wall, 39 bottles of beer\n",
      "If one of those bottles should happen to fall, 38 bottles of beer on the wall\n",
      "38 bottles of beer on the wall, 38 bottles of beer\n",
      "If one of those bottles should happen to fall, 37 bottles of beer on the wall\n",
      "37 bottles of beer on the wall, 37 bottles of beer\n",
      "If one of those bottles should happen to fall, 36 bottles of beer on the wall\n",
      "36 bottles of beer on the wall, 36 bottles of beer\n",
      "If one of those bottles should happen to fall, 35 bottles of beer on the wall\n",
      "35 bottles of beer on the wall, 35 bottles of beer\n",
      "If one of those bottles should happen to fall, 34 bottles of beer on the wall\n",
      "34 bottles of beer on the wall, 34 bottles of beer\n",
      "If one of those bottles should happen to fall, 33 bottles of beer on the wall\n",
      "33 bottles of beer on the wall, 33 bottles of beer\n",
      "If one of those bottles should happen to fall, 32 bottles of beer on the wall\n",
      "32 bottles of beer on the wall, 32 bottles of beer\n",
      "If one of those bottles should happen to fall, 31 bottles of beer on the wall\n",
      "31 bottles of beer on the wall, 31 bottles of beer\n",
      "If one of those bottles should happen to fall, 30 bottles of beer on the wall\n",
      "30 bottles of beer on the wall, 30 bottles of beer\n",
      "If one of those bottles should happen to fall, 29 bottles of beer on the wall\n",
      "29 bottles of beer on the wall, 29 bottles of beer\n",
      "If one of those bottles should happen to fall, 28 bottles of beer on the wall\n",
      "28 bottles of beer on the wall, 28 bottles of beer\n",
      "If one of those bottles should happen to fall, 27 bottles of beer on the wall\n",
      "27 bottles of beer on the wall, 27 bottles of beer\n",
      "If one of those bottles should happen to fall, 26 bottles of beer on the wall\n",
      "26 bottles of beer on the wall, 26 bottles of beer\n",
      "If one of those bottles should happen to fall, 25 bottles of beer on the wall\n",
      "25 bottles of beer on the wall, 25 bottles of beer\n",
      "If one of those bottles should happen to fall, 24 bottles of beer on the wall\n",
      "24 bottles of beer on the wall, 24 bottles of beer\n",
      "If one of those bottles should happen to fall, 23 bottles of beer on the wall\n",
      "23 bottles of beer on the wall, 23 bottles of beer\n",
      "If one of those bottles should happen to fall, 22 bottles of beer on the wall\n",
      "22 bottles of beer on the wall, 22 bottles of beer\n",
      "If one of those bottles should happen to fall, 21 bottles of beer on the wall\n",
      "21 bottles of beer on the wall, 21 bottles of beer\n",
      "If one of those bottles should happen to fall, 20 bottles of beer on the wall\n",
      "20 bottles of beer on the wall, 20 bottles of beer\n",
      "If one of those bottles should happen to fall, 19 bottles of beer on the wall\n",
      "19 bottles of beer on the wall, 19 bottles of beer\n",
      "If one of those bottles should happen to fall, 18 bottles of beer on the wall\n",
      "18 bottles of beer on the wall, 18 bottles of beer\n",
      "If one of those bottles should happen to fall, 17 bottles of beer on the wall\n",
      "17 bottles of beer on the wall, 17 bottles of beer\n",
      "If one of those bottles should happen to fall, 16 bottles of beer on the wall\n",
      "16 bottles of beer on the wall, 16 bottles of beer\n",
      "If one of those bottles should happen to fall, 15 bottles of beer on the wall\n",
      "15 bottles of beer on the wall, 15 bottles of beer\n",
      "If one of those bottles should happen to fall, 14 bottles of beer on the wall\n",
      "14 bottles of beer on the wall, 14 bottles of beer\n",
      "If one of those bottles should happen to fall, 13 bottles of beer on the wall\n",
      "13 bottles of beer on the wall, 13 bottles of beer\n",
      "If one of those bottles should happen to fall, 12 bottles of beer on the wall\n",
      "12 bottles of beer on the wall, 12 bottles of beer\n",
      "If one of those bottles should happen to fall, 11 bottles of beer on the wall\n",
      "11 bottles of beer on the wall, 11 bottles of beer\n",
      "If one of those bottles should happen to fall, 10 bottles of beer on the wall\n",
      "10 bottles of beer on the wall, 10 bottles of beer\n",
      "If one of those bottles should happen to fall, 9 bottles of beer on the wall\n",
      "9 bottles of beer on the wall, 9 bottles of beer\n",
      "If one of those bottles should happen to fall, 8 bottles of beer on the wall\n",
      "8 bottles of beer on the wall, 8 bottles of beer\n",
      "If one of those bottles should happen to fall, 7 bottles of beer on the wall\n",
      "7 bottles of beer on the wall, 7 bottles of beer\n",
      "If one of those bottles should happen to fall, 6 bottles of beer on the wall\n",
      "6 bottles of beer on the wall, 6 bottles of beer\n",
      "If one of those bottles should happen to fall, 5 bottles of beer on the wall\n",
      "5 bottles of beer on the wall, 5 bottles of beer\n",
      "If one of those bottles should happen to fall, 4 bottles of beer on the wall\n",
      "4 bottles of beer on the wall, 4 bottles of beer\n",
      "If one of those bottles should happen to fall, 3 bottles of beer on the wall\n",
      "3 bottles of beer on the wall, 3 bottles of beer\n",
      "If one of those bottles should happen to fall, 2 bottles of beer on the wall\n",
      "2 bottles of beer on the wall, 2 bottles of beer\n",
      "If one of those bottles should happen to fall, 1 bottles of beer on the wall\n",
      "1 bottles of beer on the wall, 1 bottles of beer\n",
      "If one of those bottles should happen to fall, 0 bottles of beer on the wall\n"
     ]
    }
   ],
   "source": [
    "# EXAMPLE 2a: 99 Bottles\n",
    "# What does this code do?  What should it do?  Can you fix it, still using a while loop?\n",
    "\n",
    "var = 99\n",
    "\n",
    "while var >= 1:\n",
    "    print(f'{var} bottles of beer on the wall, {var} bottles of beer')\n",
    "    print(f'If one of those bottles should happen to fall, {var-1} bottles of beer on the wall')\n",
    "    var = var - 1"
   ]
  },
  {
   "cell_type": "markdown",
   "metadata": {},
   "source": [
    "<br><br><br><br><br>\n",
    "<br><br><br><br><br>\n",
    "\n",
    "#### * Every `for` can be converted to a `while`:\n",
    "\n",
    "#### --- Initialize `loop_count` to be `0` or `1`\n",
    "\n",
    "#### --- Write a line like `while loop_count < len(list_name):`, or `while loop_count <=  <number of times>:`\n",
    "\n",
    "#### --- At the end of the body of the loop, insert a line incrementing `loop_count`, like `loop_count += 1`\n",
    "\n",
    "#### DON'T DO THIS! (Unless specifically asked to.  Which I will, because reasons.)\n",
    "\n",
    "<br><br><br><br><br>\n",
    "<br><br><br><br><br>\n",
    "\n",
    "#### * Example: compute 100 terms of $ e^3 + e^5 + e^7 + e^9 + e^{11} + \\ldots$\n"
   ]
  },
  {
   "cell_type": "code",
   "execution_count": 1,
   "metadata": {},
   "outputs": [
    {
     "name": "stdout",
     "output_type": "stream",
     "text": [
      "2.271658922355796e+87\n",
      "2.271658922355796e+87\n"
     ]
    }
   ],
   "source": [
    "# EXAMPLE 2b: 100 terms of e^3 + e^5 + e^7 + e^9 + e^11 + ...\n",
    "import math\n",
    "\n",
    "# FOR loop:\n",
    "rs = 0\n",
    "for n in range(1,101):\n",
    "    rs += math.exp(2*n + 1)\n",
    "print(rs)\n",
    "\n",
    "# WHILE loop:\n",
    "rs = 0\n",
    "n = 1\n",
    "while (n < 101):\n",
    "    rs += math.exp(2*n + 1)\n",
    "    n += 1\n",
    "print(rs)\n",
    "\n",
    "\n"
   ]
  },
  {
   "cell_type": "markdown",
   "metadata": {},
   "source": [
    "<br><br><br><br><br><br><br><br><br><br>\n",
    "\n",
    "# 3. Input Validation, and an Intro to Exceptions\n",
    "\n",
    "#### * Can use `while` loops to check if input is valid."
   ]
  },
  {
   "cell_type": "code",
   "execution_count": 5,
   "metadata": {},
   "outputs": [
    {
     "name": "stdin",
     "output_type": "stream",
     "text": [
      "Enter a score between 0 and 100:  9o\n"
     ]
    },
    {
     "ename": "ValueError",
     "evalue": "could not convert string to float: '9o'",
     "output_type": "error",
     "traceback": [
      "\u001b[0;31m---------------------------------------------------------------------------\u001b[0m",
      "\u001b[0;31mValueError\u001b[0m                                Traceback (most recent call last)",
      "Cell \u001b[0;32mIn[5], line 3\u001b[0m\n\u001b[1;32m      1\u001b[0m \u001b[38;5;66;03m# EXAMPLE 3a: Input Validation\u001b[39;00m\n\u001b[0;32m----> 3\u001b[0m user_entry \u001b[38;5;241m=\u001b[39m \u001b[38;5;28mfloat\u001b[39m(\u001b[38;5;28minput\u001b[39m(\u001b[38;5;124m'\u001b[39m\u001b[38;5;124mEnter a score between 0 and 100: \u001b[39m\u001b[38;5;124m'\u001b[39m))\n\u001b[1;32m      5\u001b[0m \u001b[38;5;66;03m# Get the first attempt OUTSIDE of the loop, so that you have something to check the first time you approach \u001b[39;00m\n\u001b[1;32m      6\u001b[0m \u001b[38;5;66;03m# the while loop.\u001b[39;00m\n\u001b[1;32m      7\u001b[0m \u001b[38;5;28;01mwhile\u001b[39;00m \u001b[38;5;241m0\u001b[39m \u001b[38;5;241m>\u001b[39m user_entry \u001b[38;5;129;01mor\u001b[39;00m user_entry \u001b[38;5;241m>\u001b[39m \u001b[38;5;241m100\u001b[39m:\n",
      "\u001b[0;31mValueError\u001b[0m: could not convert string to float: '9o'"
     ]
    }
   ],
   "source": [
    "# EXAMPLE 3a: Input Validation\n",
    "\n",
    "user_entry = float(input('Enter a score between 0 and 100: '))\n",
    "\n",
    "# Get the first attempt OUTSIDE of the loop, so that you have something to check the first time you approach \n",
    "# the while loop.\n",
    "while 0 > user_entry or user_entry > 100:\n",
    "    user_entry = float(input('Enter a score between 0 and 100: '))"
   ]
  },
  {
   "cell_type": "markdown",
   "metadata": {},
   "source": [
    "#### * How about checking if the input is even a valid number?\n",
    "\n",
    "\n",
    "#### * Code above doesn't work: \n",
    "\n",
    "`user_entry = float(input(\"Enter a score between 0 and 100: \"))`\n",
    "\n",
    "#### will cause a run-time error if user inputs, e.g., letters.\n",
    "\n",
    "<br><br><br><br><br>\n",
    "<br><br><br><br><br>\n",
    "\n",
    "\n",
    "#### * What about this?"
   ]
  },
  {
   "cell_type": "code",
   "execution_count": 14,
   "metadata": {},
   "outputs": [
    {
     "name": "stdin",
     "output_type": "stream",
     "text": [
      "Enter a number:  tcryvguhi\n"
     ]
    },
    {
     "name": "stdout",
     "output_type": "stream",
     "text": [
      "I guess it's not a float :(\n",
      "<class 'str'>\n"
     ]
    }
   ],
   "source": [
    "# EXAMPLE 3b: A Simple Way To Check For Numbers That Does Not Work\n",
    "\n",
    "user_entry = input('Enter a number: ')\n",
    "\n",
    "if type(user_entry) == float:\n",
    "    print('Great, it\\'s a float!')\n",
    "else:\n",
    "    print('I guess it\\'s not a float :(')\n",
    "    print(type(user_entry))"
   ]
  },
  {
   "cell_type": "markdown",
   "metadata": {},
   "source": [
    "#### * Nope.  If I input `1.23`, then `user_entry` will still be a `str`.\n",
    "\n",
    "#### * I only *check* if `user_entry` is a float -- I never *convert* it to a float.  \n",
    "\n",
    "#### * The real question is *not* \"is `user_entry` a `float`?\"\n",
    "\n",
    "#### * It's: \"can `user_entry` be converted to a `float` without an error?\"\n",
    "\n",
    "<br><br><br><br><br>\n",
    "<br><br><br><br><br>\n",
    "\n",
    "\n",
    "#### * Exception handling can deal with this."
   ]
  },
  {
   "cell_type": "code",
   "execution_count": null,
   "metadata": {},
   "outputs": [],
   "source": [
    "# EXAMPLE 3c: Input Validation, Part 2\n",
    "\n",
    "valid = False\n",
    "\n",
    "while (not valid):\n",
    "    user_entry = input('Enter a number between 0 and 100: ')\n",
    "    try:\n",
    "        user_entry = float(user_entry)\n",
    "        if (user_entry < 0 or user_entry > 100):\n",
    "            print(10/0)\n",
    "        valid = True\n",
    "    except ValueError:\n",
    "        print('Number Please')\n",
    "    except ZeroDivisionError:\n",
    "        print('Out of range')\n",
    "    except Exception as e:\n",
    "        print('uhhhh', e)\n",
    "\n",
    "\n",
    "print(user_entry)"
   ]
  },
  {
   "cell_type": "markdown",
   "metadata": {},
   "source": [
    "#### * `try` and `except` go together, kind of like `if` and `else` (but `except` isn't optional).  \n",
    "\n",
    "#### * How they work:\n",
    "\n",
    "#### --- the code in the `try` block attempts to execute;\n",
    "\n",
    "#### --- if this block executes successfully, the `except` block is ignored;\n",
    "\n",
    "#### --- if there is any type of runtime error encountered in the `try` block, then instead of execution stopping, Python will move to the `except` block; if the error is of the appropriate type, it executes that code instead.\n",
    "\n",
    "\n",
    "#### * `try` and `except` are meant for rescuing code that is prone to errors caused by bad input."
   ]
  },
  {
   "cell_type": "markdown",
   "metadata": {},
   "source": [
    "<br><br><br><br><br>\n",
    "<br><br><br><br><br>"
   ]
  },
  {
   "cell_type": "markdown",
   "metadata": {},
   "source": [
    "\n",
    "\n",
    "# 4. Indefinite Streams of Entry and Sentinels\n",
    "\n",
    "#### * To allow user to enter an unknown amount of data, can use a sentinel.\n",
    "\n",
    "#### * A **sentinel** is a special value that can be entered, which is interpreted not as data, but as a stop signal.\n",
    "\n",
    "#### * In the next example, `DONE` is the sentinel."
   ]
  },
  {
   "cell_type": "code",
   "execution_count": 28,
   "metadata": {},
   "outputs": [
    {
     "name": "stdout",
     "output_type": "stream",
     "text": [
      "Input integers until you are bored.\n",
      "When you are finished, enter DONE.\n",
      "I'll use the max function to find the max value.\n"
     ]
    },
    {
     "name": "stdin",
     "output_type": "stream",
     "text": [
      "Gimme a number:  123456\n",
      "Gimme a number:  2345\n",
      "Gimme a number:  1\n",
      "Gimme a number:  5\n",
      "Gimme a number:  7\n",
      "Gimme a number:  9\n",
      "Gimme a number:  24\n",
      "Gimme a number:  DONE\n"
     ]
    },
    {
     "name": "stdout",
     "output_type": "stream",
     "text": [
      "123456\n"
     ]
    }
   ],
   "source": [
    "# EXAMPLE 4a: Saving many numbers, with a sentinel.\n",
    "\n",
    "print('Input integers until you are bored.')  \n",
    "print('When you are finished, enter DONE.')\n",
    "print('I\\'ll use the max function to find the max value.')\n",
    "\n",
    "number_list = []\n",
    "\n",
    "entry = input('Gimme a number: ')  # Why ask for a number outside of the loop?\n",
    "\n",
    "while entry != 'DONE':\n",
    "    entry = int(entry)\n",
    "    number_list.append(entry)\n",
    "    entry = input('Gimme a number: ')\n",
    "    \n",
    "print(max(number_list))  "
   ]
  },
  {
   "cell_type": "markdown",
   "metadata": {},
   "source": [
    "\n",
    "<br><br><br><br><br>\n",
    "<br><br><br><br><br>\n"
   ]
  },
  {
   "cell_type": "markdown",
   "metadata": {},
   "source": [
    "# 5. Flag-Controlled Loops, and Guess-the-Number\n",
    "\n",
    "#### * Recall: a *flag* is a `bool` variable.\n",
    "\n",
    "#### * Sometimes, easiest way to control a loop is using a flag, like:\n",
    "\n",
    "`while keep_going == True:`\n",
    "\n",
    "#### * In that case, `keep_going` would probably start out `True`, and then change to `False` when it is time to stop.\n"
   ]
  },
  {
   "cell_type": "code",
   "execution_count": 42,
   "metadata": {},
   "outputs": [
    {
     "name": "stdout",
     "output_type": "stream",
     "text": [
      "I'm thinking of a number between 1 and 100! Can you guess it?\n"
     ]
    },
    {
     "name": "stdin",
     "output_type": "stream",
     "text": [
      "Enter a guess:  55\n"
     ]
    },
    {
     "name": "stdout",
     "output_type": "stream",
     "text": [
      "Too high!\n"
     ]
    },
    {
     "name": "stdin",
     "output_type": "stream",
     "text": [
      "Enter a guess:  55\n"
     ]
    },
    {
     "name": "stdout",
     "output_type": "stream",
     "text": [
      "Too low!\n"
     ]
    },
    {
     "name": "stdin",
     "output_type": "stream",
     "text": [
      "Enter a guess:  55\n"
     ]
    },
    {
     "name": "stdout",
     "output_type": "stream",
     "text": [
      "Too low!\n"
     ]
    },
    {
     "name": "stdin",
     "output_type": "stream",
     "text": [
      "Enter a guess:  55\n"
     ]
    },
    {
     "name": "stdout",
     "output_type": "stream",
     "text": [
      "Too high!\n"
     ]
    },
    {
     "name": "stdin",
     "output_type": "stream",
     "text": [
      "Enter a guess:  55\n"
     ]
    },
    {
     "name": "stdout",
     "output_type": "stream",
     "text": [
      "Too high!\n"
     ]
    },
    {
     "name": "stdin",
     "output_type": "stream",
     "text": [
      "Enter a guess:  55\n"
     ]
    },
    {
     "name": "stdout",
     "output_type": "stream",
     "text": [
      "Too low!\n"
     ]
    },
    {
     "name": "stdin",
     "output_type": "stream",
     "text": [
      "Enter a guess:  55\n"
     ]
    },
    {
     "name": "stdout",
     "output_type": "stream",
     "text": [
      "Too high!\n"
     ]
    },
    {
     "name": "stdin",
     "output_type": "stream",
     "text": [
      "Enter a guess:  55\n"
     ]
    },
    {
     "name": "stdout",
     "output_type": "stream",
     "text": [
      "Too high!\n"
     ]
    },
    {
     "name": "stdin",
     "output_type": "stream",
     "text": [
      "Enter a guess:  55\n"
     ]
    },
    {
     "name": "stdout",
     "output_type": "stream",
     "text": [
      "Too low!\n"
     ]
    },
    {
     "name": "stdin",
     "output_type": "stream",
     "text": [
      "Enter a guess:  5\n"
     ]
    },
    {
     "name": "stdout",
     "output_type": "stream",
     "text": [
      "Too low!\n"
     ]
    },
    {
     "name": "stdin",
     "output_type": "stream",
     "text": [
      "Enter a guess:  55\n"
     ]
    },
    {
     "name": "stdout",
     "output_type": "stream",
     "text": [
      "Too high!\n"
     ]
    },
    {
     "name": "stdin",
     "output_type": "stream",
     "text": [
      "Enter a guess:  5\n"
     ]
    },
    {
     "name": "stdout",
     "output_type": "stream",
     "text": [
      "Too low!\n"
     ]
    },
    {
     "name": "stdin",
     "output_type": "stream",
     "text": [
      "Enter a guess:  5\n"
     ]
    },
    {
     "name": "stdout",
     "output_type": "stream",
     "text": [
      "Too low!\n"
     ]
    },
    {
     "name": "stdin",
     "output_type": "stream",
     "text": [
      "Enter a guess:  5\n"
     ]
    },
    {
     "name": "stdout",
     "output_type": "stream",
     "text": [
      "Too low!\n"
     ]
    },
    {
     "name": "stdin",
     "output_type": "stream",
     "text": [
      "Enter a guess:  1\n"
     ]
    },
    {
     "name": "stdout",
     "output_type": "stream",
     "text": [
      "Too low!\n"
     ]
    },
    {
     "name": "stdin",
     "output_type": "stream",
     "text": [
      "Enter a guess:  1\n"
     ]
    },
    {
     "name": "stdout",
     "output_type": "stream",
     "text": [
      "Too low!\n"
     ]
    },
    {
     "name": "stdin",
     "output_type": "stream",
     "text": [
      "Enter a guess:  1\n"
     ]
    },
    {
     "name": "stdout",
     "output_type": "stream",
     "text": [
      "Too low!\n"
     ]
    },
    {
     "name": "stdin",
     "output_type": "stream",
     "text": [
      "Enter a guess:  1\n"
     ]
    },
    {
     "name": "stdout",
     "output_type": "stream",
     "text": [
      "Too low!\n"
     ]
    },
    {
     "name": "stdin",
     "output_type": "stream",
     "text": [
      "Enter a guess:  1\n"
     ]
    },
    {
     "name": "stdout",
     "output_type": "stream",
     "text": [
      "Too low!\n"
     ]
    },
    {
     "name": "stdin",
     "output_type": "stream",
     "text": [
      "Enter a guess:  1\n"
     ]
    },
    {
     "name": "stdout",
     "output_type": "stream",
     "text": [
      "Too low!\n"
     ]
    },
    {
     "name": "stdin",
     "output_type": "stream",
     "text": [
      "Enter a guess:  1\n"
     ]
    },
    {
     "name": "stdout",
     "output_type": "stream",
     "text": [
      "Too low!\n"
     ]
    },
    {
     "name": "stdin",
     "output_type": "stream",
     "text": [
      "Enter a guess:  1\n"
     ]
    },
    {
     "name": "stdout",
     "output_type": "stream",
     "text": [
      "Too low!\n"
     ]
    },
    {
     "name": "stdin",
     "output_type": "stream",
     "text": [
      "Enter a guess:  1\n"
     ]
    },
    {
     "name": "stdout",
     "output_type": "stream",
     "text": [
      "Too low!\n"
     ]
    },
    {
     "name": "stdin",
     "output_type": "stream",
     "text": [
      "Enter a guess:  1\n"
     ]
    },
    {
     "name": "stdout",
     "output_type": "stream",
     "text": [
      "Too low!\n"
     ]
    },
    {
     "name": "stdin",
     "output_type": "stream",
     "text": [
      "Enter a guess:  1\n"
     ]
    },
    {
     "name": "stdout",
     "output_type": "stream",
     "text": [
      "Too low!\n"
     ]
    },
    {
     "name": "stdin",
     "output_type": "stream",
     "text": [
      "Enter a guess:  1\n"
     ]
    },
    {
     "name": "stdout",
     "output_type": "stream",
     "text": [
      "Too low!\n"
     ]
    },
    {
     "name": "stdin",
     "output_type": "stream",
     "text": [
      "Enter a guess:  1\n"
     ]
    },
    {
     "name": "stdout",
     "output_type": "stream",
     "text": [
      "Too low!\n"
     ]
    },
    {
     "name": "stdin",
     "output_type": "stream",
     "text": [
      "Enter a guess:  2\n"
     ]
    },
    {
     "name": "stdout",
     "output_type": "stream",
     "text": [
      "Too low!\n"
     ]
    },
    {
     "name": "stdin",
     "output_type": "stream",
     "text": [
      "Enter a guess:  2\n"
     ]
    },
    {
     "name": "stdout",
     "output_type": "stream",
     "text": [
      "Too low!\n"
     ]
    },
    {
     "name": "stdin",
     "output_type": "stream",
     "text": [
      "Enter a guess:  2\n"
     ]
    },
    {
     "name": "stdout",
     "output_type": "stream",
     "text": [
      "Too low!\n"
     ]
    },
    {
     "name": "stdin",
     "output_type": "stream",
     "text": [
      "Enter a guess:  2\n"
     ]
    },
    {
     "name": "stdout",
     "output_type": "stream",
     "text": [
      "Too low!\n"
     ]
    },
    {
     "name": "stdin",
     "output_type": "stream",
     "text": [
      "Enter a guess:  2\n"
     ]
    },
    {
     "name": "stdout",
     "output_type": "stream",
     "text": [
      "Too low!\n"
     ]
    },
    {
     "name": "stdin",
     "output_type": "stream",
     "text": [
      "Enter a guess:  2\n"
     ]
    },
    {
     "name": "stdout",
     "output_type": "stream",
     "text": [
      "Too low!\n"
     ]
    },
    {
     "name": "stdin",
     "output_type": "stream",
     "text": [
      "Enter a guess:  2\n"
     ]
    },
    {
     "name": "stdout",
     "output_type": "stream",
     "text": [
      "Too low!\n"
     ]
    },
    {
     "name": "stdin",
     "output_type": "stream",
     "text": [
      "Enter a guess:  2\n"
     ]
    },
    {
     "name": "stdout",
     "output_type": "stream",
     "text": [
      "Too low!\n"
     ]
    },
    {
     "name": "stdin",
     "output_type": "stream",
     "text": [
      "Enter a guess:  2\n"
     ]
    },
    {
     "name": "stdout",
     "output_type": "stream",
     "text": [
      "Too low!\n"
     ]
    },
    {
     "name": "stdin",
     "output_type": "stream",
     "text": [
      "Enter a guess:  2\n"
     ]
    },
    {
     "name": "stdout",
     "output_type": "stream",
     "text": [
      "Too low!\n"
     ]
    },
    {
     "name": "stdin",
     "output_type": "stream",
     "text": [
      "Enter a guess:  2\n"
     ]
    },
    {
     "name": "stdout",
     "output_type": "stream",
     "text": [
      "Too low!\n"
     ]
    },
    {
     "name": "stdin",
     "output_type": "stream",
     "text": [
      "Enter a guess:  2\n"
     ]
    },
    {
     "name": "stdout",
     "output_type": "stream",
     "text": [
      "Too low!\n"
     ]
    },
    {
     "name": "stdin",
     "output_type": "stream",
     "text": [
      "Enter a guess:  2\n"
     ]
    },
    {
     "name": "stdout",
     "output_type": "stream",
     "text": [
      "Too low!\n"
     ]
    },
    {
     "name": "stdin",
     "output_type": "stream",
     "text": [
      "Enter a guess:  2\n"
     ]
    },
    {
     "name": "stdout",
     "output_type": "stream",
     "text": [
      "Too low!\n"
     ]
    },
    {
     "name": "stdin",
     "output_type": "stream",
     "text": [
      "Enter a guess:  22\n"
     ]
    },
    {
     "name": "stdout",
     "output_type": "stream",
     "text": [
      "Too low!\n"
     ]
    },
    {
     "name": "stdin",
     "output_type": "stream",
     "text": [
      "Enter a guess:  2\n"
     ]
    },
    {
     "name": "stdout",
     "output_type": "stream",
     "text": [
      "Too low!\n"
     ]
    },
    {
     "name": "stdin",
     "output_type": "stream",
     "text": [
      "Enter a guess:  2\n"
     ]
    },
    {
     "name": "stdout",
     "output_type": "stream",
     "text": [
      "Too low!\n"
     ]
    },
    {
     "name": "stdin",
     "output_type": "stream",
     "text": [
      "Enter a guess:  2\n"
     ]
    },
    {
     "name": "stdout",
     "output_type": "stream",
     "text": [
      "Too low!\n"
     ]
    },
    {
     "name": "stdin",
     "output_type": "stream",
     "text": [
      "Enter a guess:  2\n"
     ]
    },
    {
     "name": "stdout",
     "output_type": "stream",
     "text": [
      "Too low!\n"
     ]
    },
    {
     "name": "stdin",
     "output_type": "stream",
     "text": [
      "Enter a guess:  2\n"
     ]
    },
    {
     "name": "stdout",
     "output_type": "stream",
     "text": [
      "Too low!\n"
     ]
    },
    {
     "name": "stdin",
     "output_type": "stream",
     "text": [
      "Enter a guess:  2\n"
     ]
    },
    {
     "name": "stdout",
     "output_type": "stream",
     "text": [
      "Too low!\n"
     ]
    },
    {
     "name": "stdin",
     "output_type": "stream",
     "text": [
      "Enter a guess:  2\n"
     ]
    },
    {
     "name": "stdout",
     "output_type": "stream",
     "text": [
      "Too low!\n"
     ]
    },
    {
     "name": "stdin",
     "output_type": "stream",
     "text": [
      "Enter a guess:  2\n"
     ]
    },
    {
     "name": "stdout",
     "output_type": "stream",
     "text": [
      "Too low!\n"
     ]
    },
    {
     "name": "stdin",
     "output_type": "stream",
     "text": [
      "Enter a guess:  2\n"
     ]
    },
    {
     "name": "stdout",
     "output_type": "stream",
     "text": [
      "Too low!\n"
     ]
    },
    {
     "name": "stdin",
     "output_type": "stream",
     "text": [
      "Enter a guess:  2\n"
     ]
    },
    {
     "name": "stdout",
     "output_type": "stream",
     "text": [
      "Too low!\n"
     ]
    },
    {
     "name": "stdin",
     "output_type": "stream",
     "text": [
      "Enter a guess:  2\n"
     ]
    },
    {
     "name": "stdout",
     "output_type": "stream",
     "text": [
      "Too low!\n"
     ]
    },
    {
     "name": "stdin",
     "output_type": "stream",
     "text": [
      "Enter a guess:  2\n"
     ]
    },
    {
     "name": "stdout",
     "output_type": "stream",
     "text": [
      "Too low!\n"
     ]
    },
    {
     "name": "stdin",
     "output_type": "stream",
     "text": [
      "Enter a guess:  2\n"
     ]
    },
    {
     "name": "stdout",
     "output_type": "stream",
     "text": [
      "Too low!\n"
     ]
    },
    {
     "name": "stdin",
     "output_type": "stream",
     "text": [
      "Enter a guess:  2\n"
     ]
    },
    {
     "name": "stdout",
     "output_type": "stream",
     "text": [
      "Too low!\n"
     ]
    },
    {
     "name": "stdin",
     "output_type": "stream",
     "text": [
      "Enter a guess:  2\n"
     ]
    },
    {
     "name": "stdout",
     "output_type": "stream",
     "text": [
      "Too low!\n"
     ]
    },
    {
     "name": "stdin",
     "output_type": "stream",
     "text": [
      "Enter a guess:  2\n"
     ]
    },
    {
     "name": "stdout",
     "output_type": "stream",
     "text": [
      "Too low!\n"
     ]
    },
    {
     "name": "stdin",
     "output_type": "stream",
     "text": [
      "Enter a guess:  2\n"
     ]
    },
    {
     "name": "stdout",
     "output_type": "stream",
     "text": [
      "Too low!\n"
     ]
    },
    {
     "name": "stdin",
     "output_type": "stream",
     "text": [
      "Enter a guess:  2\n"
     ]
    },
    {
     "name": "stdout",
     "output_type": "stream",
     "text": [
      "Too low!\n"
     ]
    },
    {
     "name": "stdin",
     "output_type": "stream",
     "text": [
      "Enter a guess:  2\n"
     ]
    },
    {
     "name": "stdout",
     "output_type": "stream",
     "text": [
      "Too low!\n"
     ]
    },
    {
     "name": "stdin",
     "output_type": "stream",
     "text": [
      "Enter a guess:  2\n"
     ]
    },
    {
     "name": "stdout",
     "output_type": "stream",
     "text": [
      "Too low!\n"
     ]
    },
    {
     "name": "stdin",
     "output_type": "stream",
     "text": [
      "Enter a guess:  2\n"
     ]
    },
    {
     "name": "stdout",
     "output_type": "stream",
     "text": [
      "Too low!\n"
     ]
    },
    {
     "name": "stdin",
     "output_type": "stream",
     "text": [
      "Enter a guess:  2\n"
     ]
    },
    {
     "name": "stdout",
     "output_type": "stream",
     "text": [
      "Too low!\n"
     ]
    },
    {
     "name": "stdin",
     "output_type": "stream",
     "text": [
      "Enter a guess:  2\n"
     ]
    },
    {
     "name": "stdout",
     "output_type": "stream",
     "text": [
      "Too low!\n"
     ]
    },
    {
     "name": "stdin",
     "output_type": "stream",
     "text": [
      "Enter a guess:  4\n"
     ]
    },
    {
     "name": "stdout",
     "output_type": "stream",
     "text": [
      "Too low!\n"
     ]
    },
    {
     "name": "stdin",
     "output_type": "stream",
     "text": [
      "Enter a guess:  4\n"
     ]
    },
    {
     "name": "stdout",
     "output_type": "stream",
     "text": [
      "Too low!\n"
     ]
    },
    {
     "name": "stdin",
     "output_type": "stream",
     "text": [
      "Enter a guess:  4\n"
     ]
    },
    {
     "name": "stdout",
     "output_type": "stream",
     "text": [
      "Too low!\n"
     ]
    },
    {
     "name": "stdin",
     "output_type": "stream",
     "text": [
      "Enter a guess:  4\n"
     ]
    },
    {
     "name": "stdout",
     "output_type": "stream",
     "text": [
      "Too low!\n"
     ]
    },
    {
     "name": "stdin",
     "output_type": "stream",
     "text": [
      "Enter a guess:  4\n"
     ]
    },
    {
     "name": "stdout",
     "output_type": "stream",
     "text": [
      "Too low!\n"
     ]
    },
    {
     "name": "stdin",
     "output_type": "stream",
     "text": [
      "Enter a guess:  4\n"
     ]
    },
    {
     "name": "stdout",
     "output_type": "stream",
     "text": [
      "Too low!\n"
     ]
    },
    {
     "name": "stdin",
     "output_type": "stream",
     "text": [
      "Enter a guess:  4\n"
     ]
    },
    {
     "name": "stdout",
     "output_type": "stream",
     "text": [
      "Too low!\n"
     ]
    },
    {
     "name": "stdin",
     "output_type": "stream",
     "text": [
      "Enter a guess:  4\n"
     ]
    },
    {
     "name": "stdout",
     "output_type": "stream",
     "text": [
      "Too low!\n"
     ]
    },
    {
     "name": "stdin",
     "output_type": "stream",
     "text": [
      "Enter a guess:  4\n"
     ]
    },
    {
     "name": "stdout",
     "output_type": "stream",
     "text": [
      "Too low!\n"
     ]
    },
    {
     "name": "stdin",
     "output_type": "stream",
     "text": [
      "Enter a guess:  4\n"
     ]
    },
    {
     "name": "stdout",
     "output_type": "stream",
     "text": [
      "Too high!\n"
     ]
    },
    {
     "name": "stdin",
     "output_type": "stream",
     "text": [
      "Enter a guess:  2\n"
     ]
    },
    {
     "name": "stdout",
     "output_type": "stream",
     "text": [
      "Too low!\n"
     ]
    },
    {
     "name": "stdin",
     "output_type": "stream",
     "text": [
      "Enter a guess:  2\n"
     ]
    },
    {
     "name": "stdout",
     "output_type": "stream",
     "text": [
      "Too low!\n"
     ]
    },
    {
     "name": "stdin",
     "output_type": "stream",
     "text": [
      "Enter a guess:  2\n"
     ]
    },
    {
     "name": "stdout",
     "output_type": "stream",
     "text": [
      "Too low!\n"
     ]
    },
    {
     "name": "stdin",
     "output_type": "stream",
     "text": [
      "Enter a guess:  2\n"
     ]
    },
    {
     "name": "stdout",
     "output_type": "stream",
     "text": [
      "Too low!\n"
     ]
    },
    {
     "name": "stdin",
     "output_type": "stream",
     "text": [
      "Enter a guess:  2\n"
     ]
    },
    {
     "name": "stdout",
     "output_type": "stream",
     "text": [
      "Too low!\n"
     ]
    },
    {
     "name": "stdin",
     "output_type": "stream",
     "text": [
      "Enter a guess:  2\n"
     ]
    },
    {
     "name": "stdout",
     "output_type": "stream",
     "text": [
      "Too low!\n"
     ]
    },
    {
     "name": "stdin",
     "output_type": "stream",
     "text": [
      "Enter a guess:  2\n"
     ]
    },
    {
     "name": "stdout",
     "output_type": "stream",
     "text": [
      "Too low!\n"
     ]
    },
    {
     "name": "stdin",
     "output_type": "stream",
     "text": [
      "Enter a guess:  2\n"
     ]
    },
    {
     "name": "stdout",
     "output_type": "stream",
     "text": [
      "Too low!\n"
     ]
    },
    {
     "name": "stdin",
     "output_type": "stream",
     "text": [
      "Enter a guess:  2\n"
     ]
    },
    {
     "name": "stdout",
     "output_type": "stream",
     "text": [
      "Too low!\n"
     ]
    },
    {
     "name": "stdin",
     "output_type": "stream",
     "text": [
      "Enter a guess:  2\n"
     ]
    },
    {
     "name": "stdout",
     "output_type": "stream",
     "text": [
      "Too low!\n"
     ]
    },
    {
     "name": "stdin",
     "output_type": "stream",
     "text": [
      "Enter a guess:  2\n"
     ]
    },
    {
     "name": "stdout",
     "output_type": "stream",
     "text": [
      "Too low!\n"
     ]
    },
    {
     "name": "stdin",
     "output_type": "stream",
     "text": [
      "Enter a guess:  2\n"
     ]
    },
    {
     "name": "stdout",
     "output_type": "stream",
     "text": [
      "Too low!\n"
     ]
    },
    {
     "name": "stdin",
     "output_type": "stream",
     "text": [
      "Enter a guess:  2\n"
     ]
    },
    {
     "name": "stdout",
     "output_type": "stream",
     "text": [
      "Too low!\n"
     ]
    },
    {
     "name": "stdin",
     "output_type": "stream",
     "text": [
      "Enter a guess:  2\n"
     ]
    },
    {
     "name": "stdout",
     "output_type": "stream",
     "text": [
      "Too low!\n"
     ]
    },
    {
     "name": "stdin",
     "output_type": "stream",
     "text": [
      "Enter a guess:  2\n"
     ]
    },
    {
     "name": "stdout",
     "output_type": "stream",
     "text": [
      "Too low!\n"
     ]
    },
    {
     "name": "stdin",
     "output_type": "stream",
     "text": [
      "Enter a guess:  2\n"
     ]
    },
    {
     "name": "stdout",
     "output_type": "stream",
     "text": [
      "Too low!\n"
     ]
    },
    {
     "name": "stdin",
     "output_type": "stream",
     "text": [
      "Enter a guess:  2\n"
     ]
    },
    {
     "name": "stdout",
     "output_type": "stream",
     "text": [
      "Too low!\n"
     ]
    },
    {
     "name": "stdin",
     "output_type": "stream",
     "text": [
      "Enter a guess:  2\n"
     ]
    },
    {
     "name": "stdout",
     "output_type": "stream",
     "text": [
      "Too low!\n"
     ]
    },
    {
     "name": "stdin",
     "output_type": "stream",
     "text": [
      "Enter a guess:  2\n"
     ]
    },
    {
     "name": "stdout",
     "output_type": "stream",
     "text": [
      "Too low!\n"
     ]
    },
    {
     "name": "stdin",
     "output_type": "stream",
     "text": [
      "Enter a guess:  2\n"
     ]
    },
    {
     "name": "stdout",
     "output_type": "stream",
     "text": [
      "Too low!\n"
     ]
    },
    {
     "name": "stdin",
     "output_type": "stream",
     "text": [
      "Enter a guess:  2\n"
     ]
    },
    {
     "name": "stdout",
     "output_type": "stream",
     "text": [
      "Too low!\n"
     ]
    },
    {
     "name": "stdin",
     "output_type": "stream",
     "text": [
      "Enter a guess:  2\n"
     ]
    },
    {
     "name": "stdout",
     "output_type": "stream",
     "text": [
      "Too low!\n"
     ]
    },
    {
     "name": "stdin",
     "output_type": "stream",
     "text": [
      "Enter a guess:  2\n"
     ]
    },
    {
     "name": "stdout",
     "output_type": "stream",
     "text": [
      "Too low!\n"
     ]
    },
    {
     "name": "stdin",
     "output_type": "stream",
     "text": [
      "Enter a guess:  2\n"
     ]
    },
    {
     "name": "stdout",
     "output_type": "stream",
     "text": [
      "Too high!\n"
     ]
    },
    {
     "name": "stdin",
     "output_type": "stream",
     "text": [
      "Enter a guess:  2\n"
     ]
    },
    {
     "name": "stdout",
     "output_type": "stream",
     "text": [
      "Too low!\n"
     ]
    },
    {
     "name": "stdin",
     "output_type": "stream",
     "text": [
      "Enter a guess:  2\n"
     ]
    },
    {
     "name": "stdout",
     "output_type": "stream",
     "text": [
      "Too low!\n"
     ]
    },
    {
     "name": "stdin",
     "output_type": "stream",
     "text": [
      "Enter a guess:  2\n"
     ]
    },
    {
     "name": "stdout",
     "output_type": "stream",
     "text": [
      "Too low!\n"
     ]
    },
    {
     "name": "stdin",
     "output_type": "stream",
     "text": [
      "Enter a guess:  2\n"
     ]
    },
    {
     "name": "stdout",
     "output_type": "stream",
     "text": [
      "Too low!\n"
     ]
    },
    {
     "name": "stdin",
     "output_type": "stream",
     "text": [
      "Enter a guess:  2\n"
     ]
    },
    {
     "name": "stdout",
     "output_type": "stream",
     "text": [
      "Too low!\n"
     ]
    },
    {
     "name": "stdin",
     "output_type": "stream",
     "text": [
      "Enter a guess:  2\n"
     ]
    },
    {
     "name": "stdout",
     "output_type": "stream",
     "text": [
      "Too low!\n"
     ]
    },
    {
     "name": "stdin",
     "output_type": "stream",
     "text": [
      "Enter a guess:  2\n"
     ]
    },
    {
     "name": "stdout",
     "output_type": "stream",
     "text": [
      "Too low!\n"
     ]
    },
    {
     "name": "stdin",
     "output_type": "stream",
     "text": [
      "Enter a guess:  2\n"
     ]
    },
    {
     "name": "stdout",
     "output_type": "stream",
     "text": [
      "Too low!\n"
     ]
    },
    {
     "name": "stdin",
     "output_type": "stream",
     "text": [
      "Enter a guess:  2\n"
     ]
    },
    {
     "name": "stdout",
     "output_type": "stream",
     "text": [
      "Too low!\n"
     ]
    },
    {
     "name": "stdin",
     "output_type": "stream",
     "text": [
      "Enter a guess:  2\n"
     ]
    },
    {
     "name": "stdout",
     "output_type": "stream",
     "text": [
      "Too low!\n"
     ]
    },
    {
     "name": "stdin",
     "output_type": "stream",
     "text": [
      "Enter a guess:  2\n"
     ]
    },
    {
     "name": "stdout",
     "output_type": "stream",
     "text": [
      "Too low!\n"
     ]
    },
    {
     "name": "stdin",
     "output_type": "stream",
     "text": [
      "Enter a guess:  2\n"
     ]
    },
    {
     "name": "stdout",
     "output_type": "stream",
     "text": [
      "Too low!\n"
     ]
    },
    {
     "name": "stdin",
     "output_type": "stream",
     "text": [
      "Enter a guess:  2\n"
     ]
    },
    {
     "name": "stdout",
     "output_type": "stream",
     "text": [
      "Too low!\n"
     ]
    },
    {
     "name": "stdin",
     "output_type": "stream",
     "text": [
      "Enter a guess:  2\n"
     ]
    },
    {
     "name": "stdout",
     "output_type": "stream",
     "text": [
      "Too low!\n"
     ]
    },
    {
     "name": "stdin",
     "output_type": "stream",
     "text": [
      "Enter a guess:  2\n"
     ]
    },
    {
     "name": "stdout",
     "output_type": "stream",
     "text": [
      "Too low!\n"
     ]
    },
    {
     "name": "stdin",
     "output_type": "stream",
     "text": [
      "Enter a guess:  2\n"
     ]
    },
    {
     "name": "stdout",
     "output_type": "stream",
     "text": [
      "Too low!\n"
     ]
    },
    {
     "name": "stdin",
     "output_type": "stream",
     "text": [
      "Enter a guess:  2\n"
     ]
    },
    {
     "name": "stdout",
     "output_type": "stream",
     "text": [
      "Too low!\n"
     ]
    },
    {
     "name": "stdin",
     "output_type": "stream",
     "text": [
      "Enter a guess:  2\n"
     ]
    },
    {
     "name": "stdout",
     "output_type": "stream",
     "text": [
      "Too low!\n"
     ]
    },
    {
     "name": "stdin",
     "output_type": "stream",
     "text": [
      "Enter a guess:  2\n"
     ]
    },
    {
     "name": "stdout",
     "output_type": "stream",
     "text": [
      "Too low!\n"
     ]
    },
    {
     "name": "stdin",
     "output_type": "stream",
     "text": [
      "Enter a guess:  2\n"
     ]
    },
    {
     "name": "stdout",
     "output_type": "stream",
     "text": [
      "Too low!\n"
     ]
    },
    {
     "name": "stdin",
     "output_type": "stream",
     "text": [
      "Enter a guess:  2\n"
     ]
    },
    {
     "name": "stdout",
     "output_type": "stream",
     "text": [
      "Too low!\n"
     ]
    },
    {
     "name": "stdin",
     "output_type": "stream",
     "text": [
      "Enter a guess:  2\n"
     ]
    },
    {
     "name": "stdout",
     "output_type": "stream",
     "text": [
      "Too low!\n"
     ]
    },
    {
     "name": "stdin",
     "output_type": "stream",
     "text": [
      "Enter a guess:  2\n"
     ]
    },
    {
     "name": "stdout",
     "output_type": "stream",
     "text": [
      "Too low!\n"
     ]
    },
    {
     "name": "stdin",
     "output_type": "stream",
     "text": [
      "Enter a guess:  2\n"
     ]
    },
    {
     "name": "stdout",
     "output_type": "stream",
     "text": [
      "Too low!\n"
     ]
    },
    {
     "name": "stdin",
     "output_type": "stream",
     "text": [
      "Enter a guess:  2\n"
     ]
    },
    {
     "name": "stdout",
     "output_type": "stream",
     "text": [
      "Too low!\n"
     ]
    },
    {
     "name": "stdin",
     "output_type": "stream",
     "text": [
      "Enter a guess:  2\n"
     ]
    },
    {
     "name": "stdout",
     "output_type": "stream",
     "text": [
      "Too low!\n"
     ]
    },
    {
     "name": "stdin",
     "output_type": "stream",
     "text": [
      "Enter a guess:  2\n"
     ]
    },
    {
     "name": "stdout",
     "output_type": "stream",
     "text": [
      "Too low!\n"
     ]
    },
    {
     "name": "stdin",
     "output_type": "stream",
     "text": [
      "Enter a guess:  2\n"
     ]
    },
    {
     "name": "stdout",
     "output_type": "stream",
     "text": [
      "Too low!\n"
     ]
    },
    {
     "name": "stdin",
     "output_type": "stream",
     "text": [
      "Enter a guess:  2\n"
     ]
    },
    {
     "name": "stdout",
     "output_type": "stream",
     "text": [
      "Too low!\n"
     ]
    },
    {
     "name": "stdin",
     "output_type": "stream",
     "text": [
      "Enter a guess:  2\n"
     ]
    },
    {
     "name": "stdout",
     "output_type": "stream",
     "text": [
      "Too low!\n"
     ]
    },
    {
     "name": "stdin",
     "output_type": "stream",
     "text": [
      "Enter a guess:  2\n"
     ]
    },
    {
     "name": "stdout",
     "output_type": "stream",
     "text": [
      "Too low!\n"
     ]
    },
    {
     "name": "stdin",
     "output_type": "stream",
     "text": [
      "Enter a guess:  2\n"
     ]
    },
    {
     "name": "stdout",
     "output_type": "stream",
     "text": [
      "Too low!\n"
     ]
    },
    {
     "name": "stdin",
     "output_type": "stream",
     "text": [
      "Enter a guess:  2\n"
     ]
    },
    {
     "name": "stdout",
     "output_type": "stream",
     "text": [
      "Too low!\n"
     ]
    },
    {
     "name": "stdin",
     "output_type": "stream",
     "text": [
      "Enter a guess:  2\n"
     ]
    },
    {
     "name": "stdout",
     "output_type": "stream",
     "text": [
      "Too low!\n"
     ]
    },
    {
     "name": "stdin",
     "output_type": "stream",
     "text": [
      "Enter a guess:  2\n"
     ]
    },
    {
     "name": "stdout",
     "output_type": "stream",
     "text": [
      "Too low!\n"
     ]
    },
    {
     "name": "stdin",
     "output_type": "stream",
     "text": [
      "Enter a guess:  2\n"
     ]
    },
    {
     "name": "stdout",
     "output_type": "stream",
     "text": [
      "Too low!\n"
     ]
    },
    {
     "name": "stdin",
     "output_type": "stream",
     "text": [
      "Enter a guess:  22\n"
     ]
    },
    {
     "name": "stdout",
     "output_type": "stream",
     "text": [
      "Too high!\n"
     ]
    },
    {
     "name": "stdin",
     "output_type": "stream",
     "text": [
      "Enter a guess:  2\n"
     ]
    },
    {
     "name": "stdout",
     "output_type": "stream",
     "text": [
      "Too low!\n"
     ]
    },
    {
     "name": "stdin",
     "output_type": "stream",
     "text": [
      "Enter a guess:  2\n"
     ]
    },
    {
     "name": "stdout",
     "output_type": "stream",
     "text": [
      "Too low!\n"
     ]
    },
    {
     "name": "stdin",
     "output_type": "stream",
     "text": [
      "Enter a guess:  2\n"
     ]
    },
    {
     "name": "stdout",
     "output_type": "stream",
     "text": [
      "Too low!\n"
     ]
    },
    {
     "name": "stdin",
     "output_type": "stream",
     "text": [
      "Enter a guess:  2\n"
     ]
    },
    {
     "name": "stdout",
     "output_type": "stream",
     "text": [
      "Too low!\n"
     ]
    },
    {
     "name": "stdin",
     "output_type": "stream",
     "text": [
      "Enter a guess:  2\n"
     ]
    },
    {
     "name": "stdout",
     "output_type": "stream",
     "text": [
      "Too low!\n"
     ]
    },
    {
     "name": "stdin",
     "output_type": "stream",
     "text": [
      "Enter a guess:  2\n"
     ]
    },
    {
     "name": "stdout",
     "output_type": "stream",
     "text": [
      "Too low!\n"
     ]
    },
    {
     "name": "stdin",
     "output_type": "stream",
     "text": [
      "Enter a guess:  \n"
     ]
    },
    {
     "ename": "ValueError",
     "evalue": "invalid literal for int() with base 10: ''",
     "output_type": "error",
     "traceback": [
      "\u001b[0;31m---------------------------------------------------------------------------\u001b[0m",
      "\u001b[0;31mValueError\u001b[0m                                Traceback (most recent call last)",
      "Cell \u001b[0;32mIn[42], line 16\u001b[0m\n\u001b[1;32m     14\u001b[0m \u001b[38;5;28;01mwhile\u001b[39;00m keep_guessing:\n\u001b[1;32m     15\u001b[0m     secret_number \u001b[38;5;241m=\u001b[39m random\u001b[38;5;241m.\u001b[39mrandrange(\u001b[38;5;241m1\u001b[39m,\u001b[38;5;241m101\u001b[39m)\n\u001b[0;32m---> 16\u001b[0m     guess \u001b[38;5;241m=\u001b[39m \u001b[38;5;28mint\u001b[39m(\u001b[38;5;28minput\u001b[39m(\u001b[38;5;124m'\u001b[39m\u001b[38;5;124mEnter a guess: \u001b[39m\u001b[38;5;124m'\u001b[39m))\n\u001b[1;32m     17\u001b[0m     \u001b[38;5;28;01mif\u001b[39;00m guess \u001b[38;5;241m>\u001b[39m secret_number:\n\u001b[1;32m     18\u001b[0m         \u001b[38;5;28mprint\u001b[39m(\u001b[38;5;124m'\u001b[39m\u001b[38;5;124mToo high!\u001b[39m\u001b[38;5;124m'\u001b[39m)\n",
      "\u001b[0;31mValueError\u001b[0m: invalid literal for int() with base 10: ''"
     ]
    }
   ],
   "source": [
    "# EXAMPLE 5a: Guess the number\n",
    "\n",
    "import random\n",
    "\n",
    "# Choose the random number\n",
    "secret_number = random.randrange(1,101)\n",
    "\n",
    "# This holds the answer to the question \"Should we keep guessing?\"\n",
    "# In the beginning, we certainly should\n",
    "keep_guessing = True\n",
    "\n",
    "print('I\\'m thinking of a number between 1 and 100! Can you guess it?')\n",
    "\n",
    "while keep_guessing:\n",
    "    secret_number = random.randrange(1,101)\n",
    "    guess = int(input('Enter a guess: '))\n",
    "    if guess > secret_number:\n",
    "        print('Too high!')\n",
    "    elif guess < secret_number:\n",
    "        print('Too low!')\n",
    "    else:\n",
    "        # Must be equal! Now is the time for the program to stop.\n",
    "        print('You got it!')\n",
    "        keep_guessing = False"
   ]
  },
  {
   "cell_type": "markdown",
   "metadata": {},
   "source": [
    "\n",
    "<br><br><br><br><br>\n",
    "<br><br><br><br><br>\n",
    "\n",
    "\n",
    "\n",
    "# 6. Reading File Objects\n",
    "\n",
    "#### * We've created file objects for writing before.\n",
    "\n",
    "#### * You can similarly create file objects for reading files -- we'll most read `.txt` files."
   ]
  },
  {
   "cell_type": "code",
   "execution_count": null,
   "metadata": {},
   "outputs": [],
   "source": [
    "BASICS OF FILE OBJECTS SYNTAX (READING)\n",
    "\n",
    "OPEN/CLOSE A FILE FOR READING:\n",
    "\n",
    "<fileobj var> = open('<actual file name>', 'r') # 'r'!\n",
    "<fileobj var>.close()\n",
    "\n",
    "\n",
    "READ THE ENTIRE FILE INTO ONE LARGE STRING VARIABLE:\n",
    "    \n",
    "<string var> = <fileobj>.read()\n"
   ]
  },
  {
   "cell_type": "markdown",
   "metadata": {},
   "source": [
    "#### * If you are reading from a file, that file must *already exist in your directory*."
   ]
  },
  {
   "cell_type": "code",
   "execution_count": null,
   "metadata": {},
   "outputs": [],
   "source": [
    "# EXAMPLE 6a: Basics of .read()\n",
    "\n",
    "alph = open('alphabet.txt', 'r')\n",
    "print(type(alph))\n",
    "the_whole_thing = alph.read()\n",
    "print(the_whole_thing)\n",
    "alph.close()"
   ]
  },
  {
   "cell_type": "markdown",
   "metadata": {},
   "source": [
    "<br><br><br><br><br>\n",
    "<br><br><br><br><br>\n",
    "\n",
    "\n",
    "#### * Open the file `twelve.txt` in reading mode, read it into a string, and then do a word count! "
   ]
  },
  {
   "cell_type": "code",
   "execution_count": null,
   "metadata": {},
   "outputs": [],
   "source": [
    "# EXAMPLE 6b: Performing a word count.\n",
    "\n",
    "# Create a file object for 'twelve.txt' in reading mode.\n",
    "\n",
    "\n",
    "\n",
    "# Read whole file into a string.\n",
    "\n",
    "\n",
    "\n",
    "# Now do a word count of that string.  Hint: .split()\n",
    "\n",
    "\n",
    "\n",
    "# Don't forget to close."
   ]
  },
  {
   "cell_type": "markdown",
   "metadata": {},
   "source": [
    "<br><br><br><br><br>\n",
    "<br><br><br><br><br>\n",
    "\n",
    "\n",
    "# 7.  Reading `n` Characters, and the Pitcher Analogy\n",
    "\n",
    "#### * Instead of reading entire file, you can read `n` characters, where `n` is a positive `int`.\n",
    "\n"
   ]
  },
  {
   "cell_type": "code",
   "execution_count": null,
   "metadata": {},
   "outputs": [],
   "source": [
    "READ n CHARACTERS FROM A FILE INTO A STRING VARIABLE:\n",
    "    \n",
    "<string var> = <fileobj>.read(<n>)\n"
   ]
  },
  {
   "cell_type": "code",
   "execution_count": null,
   "metadata": {},
   "outputs": [],
   "source": [
    "# EXAMPLE 7a: Reading n characters\n",
    "\n",
    "my_file = open('twelve.txt', 'r')\n",
    "\n",
    "# Let's read 10 characters.\n",
    "x = my_file.read(10)\n",
    "print(x)\n",
    "\n",
    "my_file.close()"
   ]
  },
  {
   "cell_type": "markdown",
   "metadata": {},
   "source": [
    "<br><br><br><br><br>\n",
    "<br><br><br><br><br>\n",
    "\n",
    "#### * You can perform multiple reads on the same file using `.read()`. \n",
    "\n",
    "#### * A file object opened in reading mode is kind of like a \"pitcher\".  \n",
    "\n",
    "#### --- In the beginning, the file object is filled with entire contents of file, in order.  \n",
    "\n",
    "#### --- `.read()`ing from file object \"pours out\" contents (usually into some variable), starting from the beginning.\n",
    "\n",
    "#### --- Subsequent `.read()`s will continue with the first character that hasn't already been poured out."
   ]
  },
  {
   "cell_type": "code",
   "execution_count": null,
   "metadata": {},
   "outputs": [],
   "source": [
    "# EXAMPLE 7b: The alphabet file\n",
    "\n",
    "'''\n",
    "alph = open('alphabet.txt', 'r')\n",
    "\n",
    "chunk_one = alph.read(6)\n",
    "alph.read(3)  \n",
    "chunk_two = alph.read(2)\n",
    "\n",
    "print(chunk_one)\n",
    "print(chunk_two)\n",
    "\n",
    "the_rest = alph.read()   # This pours everything else out of the file all at once\n",
    "print('...and here comes the rest: ')\n",
    "print(the_rest) \n",
    "\n",
    "alph.close()"
   ]
  },
  {
   "cell_type": "markdown",
   "metadata": {},
   "source": [
    "<br><br><br><br><br>\n",
    "<br><br><br><br><br>\n",
    "\n",
    "\n",
    "# 8. Reading Files Line-By-Line\n",
    "\n",
    "#### * You can loop through a file object! This automatically loops through the file's contents *line by line*."
   ]
  },
  {
   "cell_type": "code",
   "execution_count": null,
   "metadata": {},
   "outputs": [],
   "source": [
    "READ A FILE LINE BY LINE:\n",
    "    \n",
    "for <line> in <fileobj>:\n",
    "    <process line>\n",
    "    "
   ]
  },
  {
   "cell_type": "markdown",
   "metadata": {},
   "source": [
    "#### * In other words:\n",
    "\n",
    "#### --- If you loop through a list, in each pass through the loop, target variable will be a different element in the list.\n",
    "\n",
    "#### --- If you loop through a string, in each pass through the loop, the target variable will be a different character in the string.\n",
    "\n",
    "#### --- AND: *if you loop through a file object, in each pass through the loop, the target variable will be a different LINE in the file.*\n"
   ]
  },
  {
   "cell_type": "code",
   "execution_count": null,
   "metadata": {},
   "outputs": [],
   "source": [
    "# EXAMPLE 8a: One line at a time\n",
    "\n",
    "next_file = open('next.txt', 'r')\n",
    "\n",
    "for xyz in next_file:\n",
    "    print('Now xyz equals:', xyz) # Note that xyz will contain the new line character.\n",
    "    \n",
    "next_file.close()"
   ]
  },
  {
   "cell_type": "markdown",
   "metadata": {},
   "source": [
    "<br><br><br><br><br>\n",
    "<br><br><br><br><br>\n",
    "\n",
    "\n",
    "# 9. Sum The Table\n",
    "\n",
    "#### * Look at the file called `table.txt`. \n",
    "\n",
    "#### * I want to print out sum of the two scores in each line, like this:\n",
    "\n",
    "`Alice 100.6`\n",
    "\n",
    "`Bob 36.0`\n",
    "\n",
    "`Carol 162.5`\n",
    "\n",
    "`David 35.5`\n",
    "\n",
    "`Edward 35.6`\n",
    "\n",
    "`Frances 45.5`\n",
    "\n",
    "#### * Grab each line using a for loop.  For each line you get, split it, and don't forget to `float` the results!"
   ]
  },
  {
   "cell_type": "code",
   "execution_count": null,
   "metadata": {},
   "outputs": [],
   "source": [
    "# EXAMPLE 9a: Sum The Scores \n",
    "\n",
    "table_file = open('table.txt', 'r')\n",
    "\n",
    "for\n",
    "\n",
    "\n",
    "\n",
    "\n",
    "table_file.close()"
   ]
  }
 ],
 "metadata": {
  "kernelspec": {
   "display_name": "Python 3 (ipykernel)",
   "language": "python",
   "name": "python3"
  },
  "language_info": {
   "codemirror_mode": {
    "name": "ipython",
    "version": 3
   },
   "file_extension": ".py",
   "mimetype": "text/x-python",
   "name": "python",
   "nbconvert_exporter": "python",
   "pygments_lexer": "ipython3",
   "version": "3.12.4"
  },
  "name": "_merged_merged"
 },
 "nbformat": 4,
 "nbformat_minor": 4
}
