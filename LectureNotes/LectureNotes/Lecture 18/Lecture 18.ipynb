{
 "cells": [
  {
   "cell_type": "markdown",
   "metadata": {},
   "source": [
    "# Lecture 18\n",
    "\n",
    "### Making a Modular Program; A Second Function; Is Close; The Whole Thing; Mutables as Arguments; Pass by Object Reference; List Comprehensions"
   ]
  },
  {
   "cell_type": "markdown",
   "metadata": {},
   "source": [
    "# 0. Euclid's Algorithm\n",
    "\n",
    "#### * If you use the `gcd` function we wrote last time, then `gcd(1000000000,2000000000)` would take a long time (even though the answer is obvious).  \n",
    "\n",
    "#### * Better way: Euclid's algorithm.\n",
    "\n",
    "#### * Core idea:  the GCD of `x` and `y` is the same as the GCD of `y` and `x%y`. \n",
    "\n",
    "#### * So, to compute GCD(`x`,`y`), instead compute GCD(`y`, `x%y`), which is smaller.... \n",
    "\n",
    "#### * ...and repeat, until you've reduced to a trivial problem."
   ]
  },
  {
   "cell_type": "code",
   "execution_count": null,
   "metadata": {},
   "outputs": [],
   "source": [
    "Get the two numbers x and y\n",
    "While y != 0:\n",
    "    Replace x and y with y and x%y, respectively\n",
    "Return x"
   ]
  },
  {
   "cell_type": "code",
   "execution_count": null,
   "metadata": {
    "scrolled": true
   },
   "outputs": [],
   "source": [
    "# EXAMPLE 8a: Euclid's algorithm\n",
    "\n",
    "def euclid_gcd(x,y):\n",
    "    \"\"\"Return the GCD of x and y.\"\"\"\n",
    "    while y != 0:\n",
    "        temp = y\n",
    "        y = x%y\n",
    "        x = temp #x set to original y value\n",
    "    return x\n",
    "\n",
    "def recursive_euclid_gcd(x,y):\n",
    "    \"\"\"Return the GCD of x and y recursively eventually.\"\"\"\n",
    "    if y == 0:\n",
    "        return x\n",
    "    return recursive_euclid_gcd(y, x%y)\n",
    "# Idea: y is going to be the smaller number always.\n",
    "# At each step, new x will be the old y, and new y will be the old x % old y.  \n",
    "# A temp variable helps for the transition.\n",
    "\n",
    "print(euclid_gcd(1000000000, 2000000000))\n"
   ]
  },
  {
   "cell_type": "markdown",
   "metadata": {},
   "source": [
    "#### * The previous \"trial division\" method involves approximately $2n$ operations, where $n$ is the value of the less argument.\n",
    "\n",
    "#### * Call this algorithm $O(n^1)$ -- the $O$ stands for order, and the $n^1$ means that the runtime is a linear function of $n$.\n",
    "\n",
    "#### * Euclid's algorithm: $O(\\log n)$ (not obvious!).  This is much faster.\n",
    "\n",
    "#### (More precisely, number of steps is guaranteed to be  $\\leq 5\\log_{10}(n)$)."
   ]
  },
  {
   "cell_type": "markdown",
   "metadata": {},
   "source": [
    "\n",
    "# 1. Taking Advantage of Side Effects\n",
    "\n",
    "### * Side effects can be useful! \n",
    "\n",
    "### * For example: here's a function which inserts an element into a sorted list, in order.  It returns **nothing**, but it mutates its input in a useful way -- and those changes survive after the function is finished executing."
   ]
  },
  {
   "cell_type": "code",
   "execution_count": null,
   "metadata": {},
   "outputs": [],
   "source": [
    "# EXAMPLE 1a: Insert in order\n",
    "\n",
    "def insert_in_order(s_list, value):\n",
    "    \"\"\"\n",
    "    Accept a sorted list (in increasing order), and a value to insert.  Insert the value into the list,\n",
    "    in the right position so that the list remains sorted.\n",
    "    \"\"\"\n",
    "    \n",
    "    for i in range(len(s_list)):\n",
    "        # Insert the value at the FIRST position where\n",
    "        # it is less than the value\n",
    "        if value < s_list[i]:\n",
    "            s_list.insert(i, value)\n",
    "            break\n",
    "        # If the value is not less than ANY of the elements\n",
    "        # in the list: it should be placed at the end!\n",
    "        if i == len(s_list) - 1:\n",
    "            s_list.append(value)\n",
    "    \n",
    "################\n",
    "\n",
    "\n",
    "x = [20, 40, 60, 80]\n",
    "insert_in_order(x, 55) # Notice how there is no return value.  This function's \"output\" isn't a new value; it's \n",
    "                       # the action, of mutating x\n",
    "print(x)\n",
    "insert_in_order(x, 15)\n",
    "print(x)\n",
    "insert_in_order(x, 90)\n",
    "print(x)"
   ]
  },
  {
   "cell_type": "markdown",
   "metadata": {
    "tags": []
   },
   "source": [
    "# 2. Making a Modular Program\n",
    "\n",
    "### * In Cartesian Plains, NY, every resident's address is given by an $x$ and $y$ coordinate.  \n",
    "\n",
    "### * I have a data file called \"surveydata.txt\", which contains the location of many of the town's residents, as well as their preference for Coke or Pepsi.  \n",
    "\n",
    "### * I am opening a new deli, location to be determined.\n",
    "\n",
    "### * I'd like to know the preferences of those who live within a distance of 1 from any point I may choose.\n",
    "\n",
    "### * What subtasks will our code need to perform to solve this problem properly?\n",
    "\n",
    "\n",
    "\n",
    "![IMAGE NOT FOUND!!!!!!!](coke_pepsi.png)\n",
    "\n",
    "\n",
    "\n",
    "\n",
    "\n",
    "<br><br><br><br><br><br><br><br><br><br>"
   ]
  },
  {
   "cell_type": "code",
   "execution_count": null,
   "metadata": {},
   "outputs": [],
   "source": [
    "# EXAMPLE 1a: Let's write the function that processes the file, and turns it into a list.\n",
    "\n",
    "def process_file(data_file_obj):\n",
    "    '''\n",
    "    Parameters\n",
    "    ----------\n",
    "    data_file_obj : file object opened in reading mode\n",
    "                    file object containing resident data\n",
    "    Returns\n",
    "    -------\n",
    "    list\n",
    "        2D list, each entry represents [x, y, preference] for a resident\n",
    "    '''\n",
    "    output_list = []\n",
    "    for line in data_file_obj:\n",
    "        # Remember to turn the coordinates to floats.\n",
    "\n",
    "    return output_list\n",
    "\n",
    "#\n",
    "# Now, how could we test this? \n",
    "#\n"
   ]
  },
  {
   "cell_type": "markdown",
   "metadata": {},
   "source": [
    "\n",
    "\n",
    "<br><br><br><br><br><br><br><br><br><br>\n",
    "\n",
    "# 3. A Second Function\n",
    "\n",
    "### * Let's write a distance function.\n",
    "\n",
    "### * Note: it is a good idea to write the tests **before** writing the function.  When you conceive of writing a function, you have in mind some task for it to accomplish!\n",
    "\n",
    "### * As always: return, don't print!  In this case, printing would be useless."
   ]
  },
  {
   "cell_type": "code",
   "execution_count": null,
   "metadata": {},
   "outputs": [],
   "source": [
    "# EXAMPLE 2a: Distance function\n",
    "# The parameters should be in the order\n",
    "#        X1, Y1, X2, Y2 !!!\n",
    "\n",
    "\n",
    "\n",
    "\n",
    "\n",
    "\n",
    "# TESTS:\n",
    "print(distance(3,4, 0, 0), ' (should be 5.0)')\n",
    "print(distance(-1, 1, 2, 3), ' (should be 3.605551)')\n",
    "print(distance(4.2, 2.1, -1.3, 2.5), ' (should be 5.514526)')"
   ]
  },
  {
   "cell_type": "markdown",
   "metadata": {},
   "source": [
    "\n",
    "<br><br><br><br><br><br><br><br><br><br>\n",
    "\n",
    "\n",
    "# 4. Is Close\n",
    "\n",
    "### * Each resident is represented by `[x, y, \"drink choice\"]`. \n",
    "\n",
    "### * A deli is represented by `[x, y]`.\n",
    "\n",
    "### * Let's make a function that takes the coordinates of the deli, and a resident, and answers the question: is the resident within distance 1 of the deli?"
   ]
  },
  {
   "cell_type": "code",
   "execution_count": null,
   "metadata": {},
   "outputs": [],
   "source": [
    "# EXAMPLE 3a: Is this resident close?\n",
    "\n",
    "# Can you write the body in ONE line?\n",
    "def is_close(deli, resident):\n",
    "    '''\n",
    "    Parameters\n",
    "    ----------\n",
    "    deli: list\n",
    "        [x-coord, y-coord] of a potential deli location\n",
    "    resident: list\n",
    "        [x-coord, y-coord, preference] for a resident\n",
    "    \n",
    "    Returns\n",
    "    -------\n",
    "    bool\n",
    "        True if the distance between deli and resident is <= 1\n",
    "    '''\n",
    "    \n",
    "    \n",
    "    \n",
    "    \n",
    "    \n",
    "    \n",
    "    \n",
    "    \n",
    "# Tests:\n",
    "first_res = [1.1, 2.2, 'Coke']\n",
    "second_res = [0.5, 3.3, 'Pepsi']\n",
    "location_1 = [0.9, 2.5]\n",
    "location_2 = [3, 3.5]\n",
    "print(is_close(location_1, first_res), ' (should be True)')\n",
    "print(is_close(location_1, second_res), ' (should be True)')\n",
    "print(is_close(location_2, first_res), ' (should be False)')  "
   ]
  },
  {
   "cell_type": "markdown",
   "metadata": {},
   "source": [
    "\n",
    "<br><br><br><br><br><br><br><br><br><br>\n",
    "\n",
    "# 5. The Whole Thing\n",
    "\n",
    "### * Let's put it all together.\n",
    "\n",
    "### * We're using a `main()` function.  Here, the `main()` function is NOT necessary, but it serves a purpose: it draws attention to the overall structure of the program, from start to end. "
   ]
  },
  {
   "cell_type": "code",
   "execution_count": null,
   "metadata": {},
   "outputs": [],
   "source": [
    "# EXAMPLE 4a: Now, let's put it all together.\n",
    "# This program asks for a coordinate, opens the survey data, finds all resident within distance 1 from that point, \n",
    "# and counts how many of those residents are Coke drinkers and Pepsi drinkers.\n",
    "\n",
    "import math\n",
    "\n",
    "def process_file(data_file_obj):\n",
    "    '''\n",
    "    Parameters\n",
    "    ----------\n",
    "    data_file_obj : file object opened in reading mode\n",
    "                    file object containing resident data\n",
    "    Returns\n",
    "    -------\n",
    "    list\n",
    "        2D list, each entry represents [x, y, preference] for a resident\n",
    "    '''\n",
    "    output_list = []\n",
    "    for line in data_file_obj:\n",
    "        values = line.split()\n",
    "        values[0] = float(values[0])\n",
    "        values[1] = float(values[1])\n",
    "        output_list.append(values)\n",
    "    return output_list\n",
    "\n",
    "def distance(x1, y1, x2, y2):\n",
    "    '''\n",
    "    Parameters\n",
    "    ----------\n",
    "    x1: float\n",
    "        x-coord of point 1\n",
    "    y1: float\n",
    "        y-coord of point 1\n",
    "    x2: float\n",
    "        x-coord of point 2\n",
    "    y2: float\n",
    "        y-coord of point 2\n",
    "   \n",
    "    Returns\n",
    "    -------\n",
    "    float\n",
    "        Distance between point 1 and point 2\n",
    "    '''\n",
    "    return math.sqrt((x1 - x2)**2 + (y1 - y2)**2)\n",
    "\n",
    "def is_close(deli, resident):\n",
    "    '''\n",
    "    Parameters\n",
    "    ----------\n",
    "    deli: list\n",
    "        [x-coord, y-coord] of a potential deli location\n",
    "    resident: list\n",
    "        [x-coord, y-coord, preference] for a resident\n",
    "    \n",
    "    Returns\n",
    "    -------\n",
    "    bool\n",
    "        True if the distance between deli and resident is <= 1\n",
    "    '''\n",
    "    if distance(deli[0], deli[0], resident[0], resident[1]) < 1:\n",
    "        return True\n",
    "    else:\n",
    "        return False\n",
    "\n",
    "######## MAIN FUNCTION ########\n",
    "def main():\n",
    "    # Open and process the survey data.\n",
    "    \n",
    "    \n",
    "    \n",
    "    \n",
    "    # Obtain the proposed location of the deli.\n",
    "    deli_x = float(input('Enter x coordinate of deli: '))\n",
    "    deli_y = float(input('Enter y coordinate of deli: '))\n",
    "    deli = [deli_x, deli_y]\n",
    "    \n",
    "    # Perform the counts.\n",
    "    coke_count = 0\n",
    "    pepsi_count = 0\n",
    "    \n",
    "    \n",
    "    \n",
    "    \n",
    "    \n",
    "    \n",
    "    # Final summary.\n",
    "    print(f'Coke drinkers: {coke_count}, Pepsi drinkers: {pepsi_count}')\n",
    "    if coke_count > pepsi_count:\n",
    "        print('If you are going to open up at this location, carry Coke!')\n",
    "    elif pepsi_count > coke_count:\n",
    "        print('If you are going to open up at this location, carry Pepsi!')\n",
    "    else:\n",
    "        print('A tie! Carry whatever.')\n",
    "\n",
    "########################################################################################\n",
    "# When we press Shift-Enter, the following line runs, which calls the main() function. #\n",
    "main()"
   ]
  },
  {
   "cell_type": "markdown",
   "metadata": {},
   "source": [
    "### * Here's that chart again, so we can test easily (red = Coke, blue = Pepsi):\n",
    "\n",
    "![IMAGE NOT FOUND!!!!!!!](coke_pepsi.png)\n",
    "\n",
    "\n",
    "<br><br><br><br><br><br><br><br><br><br>\n",
    "\n",
    "### * Bonus: here is the code that made the plot.  It uses `process_file()` and matplotlib.\n",
    "\n"
   ]
  },
  {
   "cell_type": "code",
   "execution_count": null,
   "metadata": {},
   "outputs": [],
   "source": [
    "# EXAMPLE 4b: How I made the scatter plot\n",
    "\n",
    "import matplotlib.pyplot as plt # Recall that matplotlib is a data visualization library.\n",
    "                                # The \" as plt \" part is Python's way to help you shorten the name.\n",
    "\n",
    "def process_file(data_file_obj):\n",
    "    '''\n",
    "    Parameters\n",
    "    ----------\n",
    "    data_file_obj : file object opened in reading mode\n",
    "                    file object containing resident data\n",
    "    Returns\n",
    "    -------\n",
    "    list\n",
    "        2D list, each entry represents [x, y, preference] for a resident\n",
    "    '''\n",
    "    output_list = []\n",
    "    for line in data_file_obj:\n",
    "        values = line.split()\n",
    "        values[0] = float(values[0])\n",
    "        values[1] = float(values[1])\n",
    "        output_list.append(values)\n",
    "    return output_list\n",
    "\n",
    "######## MAIN FUNCTION ########\n",
    "def main():\n",
    "    # Open file, process data.\n",
    "    survey_file = open('surveydata.txt', 'r')\n",
    "    data_list = process_file(survey_file)\n",
    "    \n",
    "    # Plot each point in the scatter plot.\n",
    "    for resident in data_list:\n",
    "        if resident[2] == 'Coke':\n",
    "            # plt.scatter() is a function that adds a point to the plot.\n",
    "            # The parameters are: x-coord, y-coord, shape of each dor, color of each dot.\n",
    "            plt.scatter(resident[0], resident[1], marker = \"o\", color = \"r\")\n",
    "        elif resident[2] == 'Pepsi':\n",
    "            plt.scatter(resident[0], resident[1], marker = \"o\", color = \"b\")\n",
    "    \n",
    "    # After all points are added, show the plot.\n",
    "    plt.show()\n",
    "    \n",
    "###########################################\n",
    "# This runs when we execute this program. #\n",
    "main()"
   ]
  },
  {
   "cell_type": "markdown",
   "metadata": {},
   "source": [
    "\n",
    "<br><br><br><br><br><br><br><br><br><br>\n",
    "\n",
    "# 6. List Comprehensions\n",
    "\n",
    "### * An amazing tool for constructing lists quickly."
   ]
  },
  {
   "cell_type": "code",
   "execution_count": null,
   "metadata": {
    "collapsed": true,
    "jupyter": {
     "outputs_hidden": true
    }
   },
   "outputs": [],
   "source": [
    "# EXAMPLE 6a: List comprehensions\n",
    "\n",
    "numbers = input('Enter a list of numbers on one line: '')\n",
    "# This of course gives a big string.  Let's say you want to turn this string \n",
    "# into a list of floats. We know how to do that:\n",
    "\n",
    "list_1 = []\n",
    "for x in numbers.split():\n",
    "    list_1.append(float(x))\n",
    "    \n",
    "# Here's an alternate way to write this code in one line:\n",
    "# a list comprehension!\n",
    "list_2 = [float(x) for x in numbers.split()]\n",
    "\n",
    "print(list_1)\n",
    "print(list_2)\n",
    "\n"
   ]
  },
  {
   "cell_type": "markdown",
   "metadata": {},
   "source": [
    "<br><br><br><br><br><br><br><br><br><br>\n",
    "\n",
    "### * Syntax for a list comprehension is:"
   ]
  },
  {
   "cell_type": "code",
   "execution_count": null,
   "metadata": {},
   "outputs": [],
   "source": [
    "LIST COMPREHENSION SYNTAX:\n",
    "    \n",
    "<list name> = [<operation on item> for <item> in <list>]"
   ]
  },
  {
   "cell_type": "markdown",
   "metadata": {},
   "source": [
    "### * This creates a list, where each value comes from performing the indicated operation on each element in `<list>`. \n",
    "\n",
    "### * How can we create a new list which is equal to some old list with each element squared?"
   ]
  },
  {
   "cell_type": "code",
   "execution_count": null,
   "metadata": {},
   "outputs": [],
   "source": [
    "# EXAMPLE 6b: Square the list\n",
    "\n",
    "old = [5, 3, 8, 20, 17, 20, 64]\n",
    "new = [x**2 for x in old]\n",
    "print(new)\n",
    "\n",
    "#\n",
    "# And let's say you wanted to find the sum of the squares of elements in old.  \n",
    "# Can we do THAT in one line?\n",
    "#\n",
    "\n",
    "\n"
   ]
  },
  {
   "cell_type": "markdown",
   "metadata": {},
   "source": [
    "<br><br><br><br><br><br><br><br><br><br>\n",
    "\n",
    "\n",
    "### * We can also use list comprehensions together with *filters*."
   ]
  },
  {
   "cell_type": "code",
   "execution_count": null,
   "metadata": {},
   "outputs": [],
   "source": [
    "LIST COMPREHENSION WITH FILTER SYNTAX:\n",
    "    \n",
    "<list name> = [<operation on item> for <item> in <list> if <condition on item>]"
   ]
  },
  {
   "cell_type": "markdown",
   "metadata": {},
   "source": [
    "### * Only adds elements for `<item>`s which satisfy the `<condition>`.  \n",
    "\n",
    "### * Let's get a list of squares of only odd elements."
   ]
  },
  {
   "cell_type": "code",
   "execution_count": null,
   "metadata": {},
   "outputs": [],
   "source": [
    "# EXAMPLE 7c: Square the odd elements in the list\n",
    "\n",
    "old = [5, 3, 8, 20, 17, 20, 64]\n",
    "new = ###??????\n",
    "print(new)"
   ]
  }
 ],
 "metadata": {
  "kernelspec": {
   "display_name": "Python 3 (ipykernel)",
   "language": "python",
   "name": "python3"
  },
  "language_info": {
   "codemirror_mode": {
    "name": "ipython",
    "version": 3
   },
   "file_extension": ".py",
   "mimetype": "text/x-python",
   "name": "python",
   "nbconvert_exporter": "python",
   "pygments_lexer": "ipython3",
   "version": "3.12.4"
  },
  "name": "_merged_merged"
 },
 "nbformat": 4,
 "nbformat_minor": 4
}
